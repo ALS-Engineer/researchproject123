{
 "cells": [
  {
   "cell_type": "code",
   "execution_count": 2,
   "metadata": {},
   "outputs": [
    {
     "data": {
      "text/html": [
       "<style>.container { width:100% !important; }</style>"
      ],
      "text/plain": [
       "<IPython.core.display.HTML object>"
      ]
     },
     "metadata": {},
     "output_type": "display_data"
    }
   ],
   "source": [
    "from IPython.core.display import display, HTML\n",
    "display(HTML(\"<style>.container { width:100% !important; }</style>\"))"
   ]
  },
  {
   "cell_type": "code",
   "execution_count": 3,
   "metadata": {},
   "outputs": [
    {
     "name": "stderr",
     "output_type": "stream",
     "text": [
      "Using TensorFlow backend.\n"
     ]
    }
   ],
   "source": [
    "# List of Imports\n",
    "from __future__ import print_function\n",
    "from matplotlib import pyplot as plt\n",
    "%matplotlib inline\n",
    "\n",
    "import numpy as np\n",
    "import pandas as pd\n",
    "import seaborn as sns\n",
    "from scipy import stats\n",
    "\n",
    "from sklearn import metrics\n",
    "from sklearn.metrics import classification_report\n",
    "from sklearn import preprocessing\n",
    "from sklearn.metrics import roc_curve,roc_auc_score,auc\n",
    "from sklearn.preprocessing import StandardScaler, MinMaxScaler\n",
    "from sklearn.decomposition import PCA\n",
    "\n",
    "import keras\n",
    "from keras.models import Sequential\n",
    "from keras.layers import Dense, Dropout, Flatten, Reshape\n",
    "from keras.layers import Conv2D, MaxPooling2D\n",
    "from keras.utils import np_utils\n",
    "\n",
    "import sympy as sp"
   ]
  },
  {
   "cell_type": "markdown",
   "metadata": {},
   "source": [
    "# Parameters (Sliding Window)"
   ]
  },
  {
   "cell_type": "code",
   "execution_count": 4,
   "metadata": {},
   "outputs": [],
   "source": [
    "LABELS = ['Fall','Non Fall']\n",
    "le = preprocessing.LabelEncoder()\n",
    "LABEL = 'ActivityEncoded'\n",
    "TIME_PERIODS = 80\n",
    "STEP_DISTANCE = 40"
   ]
  },
  {
   "cell_type": "markdown",
   "metadata": {},
   "source": [
    "# Importing Data"
   ]
  },
  {
   "cell_type": "code",
   "execution_count": 16,
   "metadata": {},
   "outputs": [
    {
     "data": {
      "text/html": [
       "<div>\n",
       "<style scoped>\n",
       "    .dataframe tbody tr th:only-of-type {\n",
       "        vertical-align: middle;\n",
       "    }\n",
       "\n",
       "    .dataframe tbody tr th {\n",
       "        vertical-align: top;\n",
       "    }\n",
       "\n",
       "    .dataframe thead th {\n",
       "        text-align: right;\n",
       "    }\n",
       "</style>\n",
       "<table border=\"1\" class=\"dataframe\">\n",
       "  <thead>\n",
       "    <tr style=\"text-align: right;\">\n",
       "      <th></th>\n",
       "      <th>Unnamed: 0</th>\n",
       "      <th>User</th>\n",
       "      <th>Activity</th>\n",
       "      <th>Ax</th>\n",
       "      <th>Ay</th>\n",
       "      <th>Az</th>\n",
       "      <th>ActivityEncoded</th>\n",
       "      <th>Max</th>\n",
       "      <th>Min</th>\n",
       "      <th>Mean</th>\n",
       "      <th>Median</th>\n",
       "      <th>Std</th>\n",
       "      <th>Mad</th>\n",
       "      <th>SMV</th>\n",
       "    </tr>\n",
       "  </thead>\n",
       "  <tbody>\n",
       "    <tr>\n",
       "      <th>30152</th>\n",
       "      <td>0</td>\n",
       "      <td>39</td>\n",
       "      <td>Fall</td>\n",
       "      <td>1.072602</td>\n",
       "      <td>9.691729</td>\n",
       "      <td>0.497994</td>\n",
       "      <td>0</td>\n",
       "      <td>9.691729</td>\n",
       "      <td>0.497994</td>\n",
       "      <td>3.754108</td>\n",
       "      <td>1.072602</td>\n",
       "      <td>5.150150</td>\n",
       "      <td>3.958414</td>\n",
       "      <td>9.763610</td>\n",
       "    </tr>\n",
       "    <tr>\n",
       "      <th>30153</th>\n",
       "      <td>1</td>\n",
       "      <td>39</td>\n",
       "      <td>Fall</td>\n",
       "      <td>1.110910</td>\n",
       "      <td>9.624691</td>\n",
       "      <td>0.296881</td>\n",
       "      <td>0</td>\n",
       "      <td>9.624691</td>\n",
       "      <td>0.296881</td>\n",
       "      <td>3.677494</td>\n",
       "      <td>1.110910</td>\n",
       "      <td>5.166481</td>\n",
       "      <td>3.964798</td>\n",
       "      <td>9.693139</td>\n",
       "    </tr>\n",
       "    <tr>\n",
       "      <th>30154</th>\n",
       "      <td>2</td>\n",
       "      <td>39</td>\n",
       "      <td>Fall</td>\n",
       "      <td>1.043872</td>\n",
       "      <td>9.662998</td>\n",
       "      <td>0.392649</td>\n",
       "      <td>0</td>\n",
       "      <td>9.662998</td>\n",
       "      <td>0.392649</td>\n",
       "      <td>3.699840</td>\n",
       "      <td>1.043872</td>\n",
       "      <td>5.174501</td>\n",
       "      <td>3.975439</td>\n",
       "      <td>9.727146</td>\n",
       "    </tr>\n",
       "    <tr>\n",
       "      <th>30155</th>\n",
       "      <td>3</td>\n",
       "      <td>39</td>\n",
       "      <td>Fall</td>\n",
       "      <td>1.034295</td>\n",
       "      <td>9.682152</td>\n",
       "      <td>0.507571</td>\n",
       "      <td>0</td>\n",
       "      <td>9.682152</td>\n",
       "      <td>0.507571</td>\n",
       "      <td>3.741339</td>\n",
       "      <td>1.034295</td>\n",
       "      <td>5.151631</td>\n",
       "      <td>3.960542</td>\n",
       "      <td>9.750460</td>\n",
       "    </tr>\n",
       "    <tr>\n",
       "      <th>30156</th>\n",
       "      <td>4</td>\n",
       "      <td>39</td>\n",
       "      <td>Fall</td>\n",
       "      <td>1.053449</td>\n",
       "      <td>9.730036</td>\n",
       "      <td>0.957681</td>\n",
       "      <td>0</td>\n",
       "      <td>9.730036</td>\n",
       "      <td>0.957681</td>\n",
       "      <td>3.913722</td>\n",
       "      <td>1.053449</td>\n",
       "      <td>5.037303</td>\n",
       "      <td>3.877543</td>\n",
       "      <td>9.833642</td>\n",
       "    </tr>\n",
       "  </tbody>\n",
       "</table>\n",
       "</div>"
      ],
      "text/plain": [
       "       Unnamed: 0  User Activity        Ax        Ay        Az  \\\n",
       "30152           0    39     Fall  1.072602  9.691729  0.497994   \n",
       "30153           1    39     Fall  1.110910  9.624691  0.296881   \n",
       "30154           2    39     Fall  1.043872  9.662998  0.392649   \n",
       "30155           3    39     Fall  1.034295  9.682152  0.507571   \n",
       "30156           4    39     Fall  1.053449  9.730036  0.957681   \n",
       "\n",
       "       ActivityEncoded       Max       Min      Mean    Median       Std  \\\n",
       "30152                0  9.691729  0.497994  3.754108  1.072602  5.150150   \n",
       "30153                0  9.624691  0.296881  3.677494  1.110910  5.166481   \n",
       "30154                0  9.662998  0.392649  3.699840  1.043872  5.174501   \n",
       "30155                0  9.682152  0.507571  3.741339  1.034295  5.151631   \n",
       "30156                0  9.730036  0.957681  3.913722  1.053449  5.037303   \n",
       "\n",
       "            Mad       SMV  \n",
       "30152  3.958414  9.763610  \n",
       "30153  3.964798  9.693139  \n",
       "30154  3.975439  9.727146  \n",
       "30155  3.960542  9.750460  \n",
       "30156  3.877543  9.833642  "
      ]
     },
     "execution_count": 16,
     "metadata": {},
     "output_type": "execute_result"
    }
   ],
   "source": [
    "def df(value):\n",
    "    \n",
    "    if value == 0:\n",
    "        df_stats_A = pd.read_csv(r'C:\\Users\\Ash\\Desktop\\MobiFall Datasets cleaned\\Stats\\df with stats A.csv')\n",
    "        df_test_A  = df_stats_A[df_stats_A['User'] > 38]\n",
    "        df_train_A = df_stats_A[df_stats_A['User'] <= 38]\n",
    "    if value == 1:\n",
    "        df_test_A = pd.read_csv(r'C:\\Users\\Ash\\Desktop\\MobiFall Datasets cleaned\\SMOTE\\df test SMOTE A with stats.csv')\n",
    "        df_train_A = pd.read_csv(r'C:\\Users\\Ash\\Desktop\\MobiFall Datasets cleaned\\SMOTE\\df train SMOTE A with stats.csv')\n",
    "\n",
    "    return df_test_A,df_train_A\n",
    "\n",
    "STATS = 0\n",
    "SMOTE_STATS = 1\n",
    "\n",
    "df_test,df_train = df(STATS)\n",
    "df_test.head()"
   ]
  },
  {
   "cell_type": "markdown",
   "metadata": {},
   "source": [
    "# Creating Sliding Window"
   ]
  },
  {
   "cell_type": "code",
   "execution_count": 19,
   "metadata": {},
   "outputs": [],
   "source": [
    "#This functions creates segments of the training set, essentially creating a better form that will be accepted by KERAS but can also be used by supervised learning \n",
    "\n",
    "\n",
    "\n",
    "def create_segments_and_labels(df, time_steps, step, label_name):\n",
    "\n",
    "    N_FEATURES = 3\n",
    "    segments = []\n",
    "    labels = []\n",
    "    for i in range(0, len(df) - time_steps, step):\n",
    "        xs = df['Ax'].values[i: i + time_steps]\n",
    "        ys = df['Ay'].values[i: i + time_steps]\n",
    "        zs = df['Az'].values[i: i + time_steps]\n",
    "     \n",
    "        label = stats.mode(df[label_name][i: i + time_steps])[0][0]\n",
    "        segments.append([xs, ys, zs])\n",
    "        labels.append(label)\n",
    "\n",
    "\n",
    "    reshaped_segments = np.asarray(segments, dtype= np.float32).reshape(-1, time_steps, N_FEATURES)\n",
    "    labels = np.asarray(labels)\n",
    "\n",
    "    return reshaped_segments, labels\n",
    "\n",
    "def create_segments_and_labels_stats(df, time_steps, step, label_name):\n",
    "\n",
    "    N_FEATURES = 4\n",
    "    segments = []\n",
    "    labels = []\n",
    "    for i in range(0, len(df) - time_steps, step):\n",
    "        Max = df['Max'].values[i: i + time_steps]\n",
    "        Min = df['Min'].values[i: i + time_steps]\n",
    "#         Mean = df['Mean'].values[i: i + time_steps]\n",
    "#         Median = df['Median'].values[i: i + time_steps]\n",
    "        Std = df['Std'].values[i: i + time_steps]\n",
    "#         Mad = df['Mad'].values[i: i + time_steps]\n",
    "        SMV = df['SMV'].values[i: i + time_steps]\n",
    "        \n",
    "        labs = [Max,Min,Std,SMV]\n",
    "    \n",
    "        label = stats.mode(df[label_name][i: i + time_steps])[0][0]\n",
    "        segments.append(labs)\n",
    "        labels.append(label)\n",
    "        \n",
    "\n",
    "\n",
    "    reshaped_segments = np.asarray(segments, dtype= np.float32).reshape(-1, time_steps, N_FEATURES)\n",
    "    labels = np.asarray(labels)\n",
    "\n",
    "    return reshaped_segments, labels\n",
    "\n",
    "\n"
   ]
  },
  {
   "cell_type": "code",
   "execution_count": 20,
   "metadata": {},
   "outputs": [
    {
     "data": {
      "text/html": [
       "<div>\n",
       "<style scoped>\n",
       "    .dataframe tbody tr th:only-of-type {\n",
       "        vertical-align: middle;\n",
       "    }\n",
       "\n",
       "    .dataframe tbody tr th {\n",
       "        vertical-align: top;\n",
       "    }\n",
       "\n",
       "    .dataframe thead th {\n",
       "        text-align: right;\n",
       "    }\n",
       "</style>\n",
       "<table border=\"1\" class=\"dataframe\">\n",
       "  <thead>\n",
       "    <tr style=\"text-align: right;\">\n",
       "      <th></th>\n",
       "      <th>Unnamed: 0</th>\n",
       "      <th>User</th>\n",
       "      <th>Activity</th>\n",
       "      <th>Ax</th>\n",
       "      <th>Ay</th>\n",
       "      <th>Az</th>\n",
       "      <th>ActivityEncoded</th>\n",
       "      <th>Max</th>\n",
       "      <th>Min</th>\n",
       "      <th>Mean</th>\n",
       "      <th>Median</th>\n",
       "      <th>Std</th>\n",
       "      <th>Mad</th>\n",
       "      <th>SMV</th>\n",
       "    </tr>\n",
       "  </thead>\n",
       "  <tbody>\n",
       "    <tr>\n",
       "      <th>0</th>\n",
       "      <td>0</td>\n",
       "      <td>1</td>\n",
       "      <td>Fall</td>\n",
       "      <td>0.890643</td>\n",
       "      <td>-9.576807</td>\n",
       "      <td>-0.019154</td>\n",
       "      <td>0</td>\n",
       "      <td>0.890643</td>\n",
       "      <td>-9.576807</td>\n",
       "      <td>-2.901773</td>\n",
       "      <td>-0.019154</td>\n",
       "      <td>5.798620</td>\n",
       "      <td>4.450023</td>\n",
       "      <td>9.618152</td>\n",
       "    </tr>\n",
       "    <tr>\n",
       "      <th>1</th>\n",
       "      <td>1</td>\n",
       "      <td>1</td>\n",
       "      <td>Fall</td>\n",
       "      <td>0.919373</td>\n",
       "      <td>-9.595961</td>\n",
       "      <td>-0.057461</td>\n",
       "      <td>0</td>\n",
       "      <td>0.919373</td>\n",
       "      <td>-9.595961</td>\n",
       "      <td>-2.911349</td>\n",
       "      <td>-0.057461</td>\n",
       "      <td>5.809611</td>\n",
       "      <td>4.456408</td>\n",
       "      <td>9.640073</td>\n",
       "    </tr>\n",
       "    <tr>\n",
       "      <th>2</th>\n",
       "      <td>2</td>\n",
       "      <td>1</td>\n",
       "      <td>Fall</td>\n",
       "      <td>0.871489</td>\n",
       "      <td>-9.595961</td>\n",
       "      <td>-0.057461</td>\n",
       "      <td>0</td>\n",
       "      <td>0.871489</td>\n",
       "      <td>-9.595961</td>\n",
       "      <td>-2.927311</td>\n",
       "      <td>-0.057461</td>\n",
       "      <td>5.793868</td>\n",
       "      <td>4.445767</td>\n",
       "      <td>9.635625</td>\n",
       "    </tr>\n",
       "    <tr>\n",
       "      <th>3</th>\n",
       "      <td>3</td>\n",
       "      <td>1</td>\n",
       "      <td>Fall</td>\n",
       "      <td>0.852336</td>\n",
       "      <td>-9.643845</td>\n",
       "      <td>-0.038307</td>\n",
       "      <td>0</td>\n",
       "      <td>0.852336</td>\n",
       "      <td>-9.643845</td>\n",
       "      <td>-2.943272</td>\n",
       "      <td>-0.038307</td>\n",
       "      <td>5.819929</td>\n",
       "      <td>4.467049</td>\n",
       "      <td>9.681513</td>\n",
       "    </tr>\n",
       "    <tr>\n",
       "      <th>4</th>\n",
       "      <td>4</td>\n",
       "      <td>1</td>\n",
       "      <td>Fall</td>\n",
       "      <td>0.871489</td>\n",
       "      <td>-9.634268</td>\n",
       "      <td>-0.057461</td>\n",
       "      <td>0</td>\n",
       "      <td>0.871489</td>\n",
       "      <td>-9.634268</td>\n",
       "      <td>-2.940080</td>\n",
       "      <td>-0.057461</td>\n",
       "      <td>5.815914</td>\n",
       "      <td>4.462792</td>\n",
       "      <td>9.673775</td>\n",
       "    </tr>\n",
       "  </tbody>\n",
       "</table>\n",
       "</div>"
      ],
      "text/plain": [
       "   Unnamed: 0  User Activity        Ax        Ay        Az  ActivityEncoded  \\\n",
       "0           0     1     Fall  0.890643 -9.576807 -0.019154                0   \n",
       "1           1     1     Fall  0.919373 -9.595961 -0.057461                0   \n",
       "2           2     1     Fall  0.871489 -9.595961 -0.057461                0   \n",
       "3           3     1     Fall  0.852336 -9.643845 -0.038307                0   \n",
       "4           4     1     Fall  0.871489 -9.634268 -0.057461                0   \n",
       "\n",
       "        Max       Min      Mean    Median       Std       Mad       SMV  \n",
       "0  0.890643 -9.576807 -2.901773 -0.019154  5.798620  4.450023  9.618152  \n",
       "1  0.919373 -9.595961 -2.911349 -0.057461  5.809611  4.456408  9.640073  \n",
       "2  0.871489 -9.595961 -2.927311 -0.057461  5.793868  4.445767  9.635625  \n",
       "3  0.852336 -9.643845 -2.943272 -0.038307  5.819929  4.467049  9.681513  \n",
       "4  0.871489 -9.634268 -2.940080 -0.057461  5.815914  4.462792  9.673775  "
      ]
     },
     "execution_count": 20,
     "metadata": {},
     "output_type": "execute_result"
    }
   ],
   "source": [
    "##### TRY STANDARIZATION\n",
    "df_train.head()"
   ]
  },
  {
   "cell_type": "markdown",
   "metadata": {},
   "source": [
    "# Setting up Training Data"
   ]
  },
  {
   "cell_type": "code",
   "execution_count": 21,
   "metadata": {},
   "outputs": [],
   "source": [
    "# #Raw Signal Data Transform\n",
    "# x_train, y_train = create_segments_and_labels(df_train,\n",
    "#                                               TIME_PERIODS,\n",
    "#                                               STEP_DISTANCE,\n",
    "#                                               LABEL)\n",
    "# num_time_periods, num_sensors = x_train.shape[1], x_train.shape[2]\n",
    "\n",
    "# input_shape = (num_time_periods*num_sensors)\n",
    "# x_train = x_train.reshape(x_train.shape[0], input_shape)\n",
    "\n",
    "# x_train = x_train.astype('float32')\n",
    "# y_train = y_train.astype('float32')\n",
    "\n",
    "# y_train_hot = np_utils.to_categorical(y_train, 2)\n",
    "\n",
    "#Stat Signal Data Transform\n",
    "x_train, y_train = create_segments_and_labels_stats(df_train,\n",
    "                                              TIME_PERIODS,\n",
    "                                              STEP_DISTANCE,\n",
    "                                              LABEL)\n",
    "num_time_periods, num_sensors = x_train.shape[1], x_train.shape[2]\n",
    "\n",
    "input_shape = (num_time_periods*num_sensors)\n",
    "x_train = x_train.reshape(x_train.shape[0], input_shape)\n",
    "\n",
    "x_train = x_train.astype('float32')\n",
    "y_train = y_train.astype('float32')\n",
    "\n",
    "y_train_hot = np_utils.to_categorical(y_train, 2)"
   ]
  },
  {
   "cell_type": "markdown",
   "metadata": {},
   "source": [
    "# Setting up Testing Data"
   ]
  },
  {
   "cell_type": "code",
   "execution_count": 22,
   "metadata": {},
   "outputs": [],
   "source": [
    "# # #Raw Signal Data Transform\n",
    "# x_test, y_test = create_segments_and_labels(df_test,\n",
    "#                                               TIME_PERIODS,\n",
    "#                                               STEP_DISTANCE,\n",
    "#                                               LABEL)\n",
    "# num_time_periods1, num_sensors1 = x_test.shape[1], x_test.shape[2]\n",
    "# input_shape1 = (num_time_periods1*num_sensors1)\n",
    "# x_test = x_test.reshape(x_test.shape[0], input_shape1)\n",
    "# x_test = x_test.astype('float32')\n",
    "# y_test = y_test.astype('float32')\n",
    "# y_test_hot = np_utils.to_categorical(y_test, 2)\n",
    "\n",
    "#Stat Signal Data Transform\n",
    "x_test, y_test = create_segments_and_labels_stats(df_test,\n",
    "                                              TIME_PERIODS,\n",
    "                                              STEP_DISTANCE,\n",
    "                                              LABEL)\n",
    "num_time_periods1, num_sensors1 = x_test.shape[1], x_test.shape[2]\n",
    "input_shape1 = (num_time_periods1*num_sensors1)\n",
    "x_test = x_test.reshape(x_test.shape[0], input_shape1)\n",
    "x_test = x_test.astype('float32')\n",
    "y_test = y_test.astype('float32')\n",
    "y_test_hot = np_utils.to_categorical(y_test, 2)"
   ]
  },
  {
   "cell_type": "markdown",
   "metadata": {},
   "source": [
    "# Keras Model Architecture"
   ]
  },
  {
   "cell_type": "code",
   "execution_count": 23,
   "metadata": {},
   "outputs": [
    {
     "name": "stdout",
     "output_type": "stream",
     "text": [
      "_________________________________________________________________\n",
      "Layer (type)                 Output Shape              Param #   \n",
      "=================================================================\n",
      "reshape_2 (Reshape)          (None, 80, 4)             0         \n",
      "_________________________________________________________________\n",
      "dense_5 (Dense)              (None, 80, 100)           500       \n",
      "_________________________________________________________________\n",
      "dense_6 (Dense)              (None, 80, 100)           10100     \n",
      "_________________________________________________________________\n",
      "dense_7 (Dense)              (None, 80, 100)           10100     \n",
      "_________________________________________________________________\n",
      "flatten_2 (Flatten)          (None, 8000)              0         \n",
      "_________________________________________________________________\n",
      "dense_8 (Dense)              (None, 2)                 16002     \n",
      "=================================================================\n",
      "Total params: 36,702\n",
      "Trainable params: 36,702\n",
      "Non-trainable params: 0\n",
      "_________________________________________________________________\n",
      "None\n"
     ]
    }
   ],
   "source": [
    "model_m = Sequential()\n",
    "model_m.add(Reshape((TIME_PERIODS, 4), input_shape=(input_shape,)))\n",
    "model_m.add(Dense(100, activation='relu'))\n",
    "model_m.add(Dense(100, activation='relu'))\n",
    "model_m.add(Dense(100, activation='relu'))\n",
    "model_m.add(Flatten())\n",
    "model_m.add(Dense(2, activation='softmax'))\n",
    "print(model_m.summary())"
   ]
  },
  {
   "cell_type": "code",
   "execution_count": 24,
   "metadata": {},
   "outputs": [
    {
     "name": "stdout",
     "output_type": "stream",
     "text": [
      "Train on 22939 samples, validate on 5735 samples\n",
      "Epoch 1/50\n",
      "22939/22939 [==============================] - 21s 925us/step - loss: 0.2591 - acc: 0.9188 - val_loss: 0.3899 - val_acc: 0.9092\n",
      "Epoch 2/50\n",
      "22939/22939 [==============================] - 20s 856us/step - loss: 0.1655 - acc: 0.9434 - val_loss: 0.4277 - val_acc: 0.9092\n",
      "Epoch 3/50\n",
      "22939/22939 [==============================] - 21s 901us/step - loss: 0.1429 - acc: 0.9506 - val_loss: 0.8806 - val_acc: 0.8476\n",
      "Epoch 4/50\n",
      "22939/22939 [==============================] - 20s 874us/step - loss: 0.1255 - acc: 0.9575 - val_loss: 0.9311 - val_acc: 0.8124\n",
      "Epoch 5/50\n",
      "22939/22939 [==============================] - 19s 822us/step - loss: 0.1134 - acc: 0.9632 - val_loss: 0.9865 - val_acc: 0.8119\n",
      "Epoch 6/50\n",
      "22939/22939 [==============================] - 19s 813us/step - loss: 0.0971 - acc: 0.9704 - val_loss: 1.0209 - val_acc: 0.8120\n",
      "Epoch 7/50\n",
      "22939/22939 [==============================] - 19s 822us/step - loss: 0.0917 - acc: 0.9713 - val_loss: 1.4087 - val_acc: 0.8120\n",
      "Epoch 8/50\n",
      "22939/22939 [==============================] - 19s 817us/step - loss: 0.0904 - acc: 0.9719 - val_loss: 1.4910 - val_acc: 0.8120\n",
      "Epoch 9/50\n",
      "22939/22939 [==============================] - 19s 841us/step - loss: 0.0812 - acc: 0.9750 - val_loss: 1.6183 - val_acc: 0.8120\n",
      "Epoch 10/50\n",
      "22939/22939 [==============================] - 19s 842us/step - loss: 0.0713 - acc: 0.9789 - val_loss: 1.3923 - val_acc: 0.8120\n",
      "Epoch 11/50\n",
      "22939/22939 [==============================] - 19s 809us/step - loss: 0.0669 - acc: 0.9808 - val_loss: 1.5891 - val_acc: 0.8120\n",
      "Epoch 12/50\n",
      "22939/22939 [==============================] - 19s 814us/step - loss: 0.0711 - acc: 0.9792 - val_loss: 1.7555 - val_acc: 0.8120\n"
     ]
    }
   ],
   "source": [
    "callbacks_list = [\n",
    "    keras.callbacks.ModelCheckpoint(\n",
    "        filepath='best_model.{epoch:02d}-{val_loss:.2f}.h5',\n",
    "        monitor='val_loss', save_best_only=True),\n",
    "    keras.callbacks.EarlyStopping(monitor='acc', patience=1)\n",
    "]\n",
    "\n",
    "model_m.compile(loss='categorical_crossentropy',\n",
    "                optimizer='adam', metrics=['accuracy'])\n",
    "\n",
    "# Hyper-parameters\n",
    "BATCH_SIZE = 400\n",
    "EPOCHS = 50\n",
    "\n",
    "# Enable validation to use ModelCheckpoint and EarlyStopping callbacks.\n",
    "history = model_m.fit(x_train,\n",
    "                      y_train_hot,\n",
    "                      batch_size=BATCH_SIZE,\n",
    "                      epochs=EPOCHS,\n",
    "                      callbacks=callbacks_list,\n",
    "                      validation_split=0.2,\n",
    "                      verbose=1)"
   ]
  },
  {
   "cell_type": "markdown",
   "metadata": {},
   "source": [
    "# Visualising Results"
   ]
  },
  {
   "cell_type": "code",
   "execution_count": 25,
   "metadata": {},
   "outputs": [
    {
     "data": {
      "image/png": "[encoded data removed]",
      "text/plain": [
       "<Figure size 1440x720 with 1 Axes>"
      ]
     },
     "metadata": {
      "needs_background": "light"
     },
     "output_type": "display_data"
    },
    {
     "name": "stdout",
     "output_type": "stream",
     "text": [
      "              precision    recall  f1-score   support\n",
      "\n",
      "         0.0       0.61      0.77      0.68      2262\n",
      "         1.0       0.98      0.96      0.97     26412\n",
      "\n",
      "    accuracy                           0.94     28674\n",
      "   macro avg       0.79      0.86      0.82     28674\n",
      "weighted avg       0.95      0.94      0.95     28674\n",
      "\n"
     ]
    }
   ],
   "source": [
    "plt.figure(figsize=(20, 10))\n",
    "plt.plot(history.history['acc'], 'r', label='Accuracy of training data')\n",
    "plt.plot(history.history['val_acc'], 'b', label='Accuracy of validation data')\n",
    "plt.plot(history.history['loss'], 'r--', label='Loss of training data')\n",
    "plt.plot(history.history['val_loss'], 'b--', label='Loss of validation data')\n",
    "plt.title('Model Accuracy and Loss')\n",
    "plt.ylabel('Accuracy and Loss')\n",
    "plt.xlabel('Training Epoch')\n",
    "plt.ylim(0)\n",
    "plt.legend()\n",
    "plt.show()\n",
    "\n",
    "# Print confusion matrix for training data\n",
    "y_pred_train = model_m.predict(x_train)\n",
    "# Take the class with the highest probability from the train predictions\n",
    "max_y_pred_train = np.argmax(y_pred_train, axis=1)\n",
    "print(classification_report(y_train, max_y_pred_train))"
   ]
  },
  {
   "cell_type": "code",
   "execution_count": 26,
   "metadata": {},
   "outputs": [
    {
     "data": {
      "image/png": "[encoded data removed]",
      "text/plain": [
       "<Figure size 720x720 with 2 Axes>"
      ]
     },
     "metadata": {
      "needs_background": "light"
     },
     "output_type": "display_data"
    },
    {
     "name": "stdout",
     "output_type": "stream",
     "text": [
      "              precision    recall  f1-score   support\n",
      "\n",
      "           0       1.00      0.77      0.87       105\n",
      "           1       0.98      1.00      0.99      1319\n",
      "\n",
      "    accuracy                           0.98      1424\n",
      "   macro avg       0.99      0.89      0.93      1424\n",
      "weighted avg       0.98      0.98      0.98      1424\n",
      "\n"
     ]
    }
   ],
   "source": [
    "def show_confusion_matrix(validations, predictions):\n",
    "\n",
    "    matrix = metrics.confusion_matrix(validations, predictions)\n",
    "    plt.figure(figsize=(10,10 ))\n",
    "    sns.heatmap(matrix,\n",
    "                cmap='coolwarm',\n",
    "                linecolor='white',\n",
    "                linewidths=1,\n",
    "                xticklabels=LABELS,\n",
    "                yticklabels=LABELS,\n",
    "                annot=True,\n",
    "                fmt='d')\n",
    "    plt.title('Confusion Matrix')\n",
    "    plt.ylabel('True Label')\n",
    "    plt.xlabel('Predicted Label')\n",
    "    plt.show()\n",
    "\n",
    "y_pred_test = model_m.predict(x_test)\n",
    "\n",
    "max_y_pred_test = np.argmax(y_pred_test, axis=1)\n",
    "max_y_test = np.argmax(y_test_hot, axis=1)\n",
    "\n",
    "show_confusion_matrix(max_y_test, max_y_pred_test)\n",
    "\n",
    "print(classification_report(max_y_test, max_y_pred_test))"
   ]
  },
  {
   "cell_type": "markdown",
   "metadata": {},
   "source": [
    "# Plotting ROC Curve"
   ]
  },
  {
   "cell_type": "code",
   "execution_count": 27,
   "metadata": {},
   "outputs": [
    {
     "data": {
      "image/png": "[encoded data removed]",
      "text/plain": [
       "<Figure size 720x720 with 1 Axes>"
      ]
     },
     "metadata": {
      "needs_background": "light"
     },
     "output_type": "display_data"
    }
   ],
   "source": [
    "y_pred_ROC = model_m.predict_proba(x_test)\n",
    "y_pred_ROC_test = np.argmax(y_pred_ROC, axis=1)\n",
    "fpr , tpr , thresholds = roc_curve( max_y_test , y_pred_ROC_test)\n",
    "\n",
    "roc_auc = auc(fpr, tpr)\n",
    "\n",
    "plt.figure(figsize=(10,10))\n",
    "plt.plot(fpr, tpr, label='ROC curve KERAS (area = %0.2f)' % float(roc_auc))\n",
    "plt.plot([0, 1], [0, 1], '-')\n",
    "plt.xlabel('False Positive Rate',fontsize=20)\n",
    "plt.ylabel('True Positive Rate',fontsize = 20)\n",
    "plt.title('ROC Curve ',fontsize=20)\n",
    "plt.legend(loc=\"lower right\",fontsize=16)\n",
    "plt.show()"
   ]
  },
  {
   "cell_type": "code",
   "execution_count": null,
   "metadata": {},
   "outputs": [],
   "source": []
  },
  {
   "cell_type": "code",
   "execution_count": null,
   "metadata": {},
   "outputs": [],
   "source": []
  },
  {
   "cell_type": "code",
   "execution_count": null,
   "metadata": {},
   "outputs": [],
   "source": []
  },
  {
   "cell_type": "code",
   "execution_count": null,
   "metadata": {},
   "outputs": [],
   "source": []
  },
  {
   "cell_type": "code",
   "execution_count": null,
   "metadata": {},
   "outputs": [],
   "source": []
  }
 ],
 "metadata": {
  "kernelspec": {
   "display_name": "Python 3",
   "language": "python",
   "name": "python3"
  },
  "language_info": {
   "codemirror_mode": {
    "name": "ipython",
    "version": 3
   },
   "file_extension": ".py",
   "mimetype": "text/x-python",
   "name": "python",
   "nbconvert_exporter": "python",
   "pygments_lexer": "ipython3",
   "version": "3.7.3"
  }
 },
 "nbformat": 4,
 "nbformat_minor": 2
}
