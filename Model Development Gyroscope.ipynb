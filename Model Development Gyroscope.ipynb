{
 "cells": [
  {
   "cell_type": "code",
   "execution_count": 1,
   "metadata": {},
   "outputs": [
    {
     "data": {
      "text/html": [
       "<style>.container { width:100% !important; }</style>"
      ],
      "text/plain": [
       "<IPython.core.display.HTML object>"
      ]
     },
     "metadata": {},
     "output_type": "display_data"
    }
   ],
   "source": [
    "from IPython.core.display import display, HTML\n",
    "display(HTML(\"<style>.container { width:100% !important; }</style>\"))"
   ]
  },
  {
   "cell_type": "code",
   "execution_count": 2,
   "metadata": {},
   "outputs": [
    {
     "name": "stderr",
     "output_type": "stream",
     "text": [
      "Using TensorFlow backend.\n"
     ]
    }
   ],
   "source": [
    "# List of Imports\n",
    "from __future__ import print_function\n",
    "from matplotlib import pyplot as plt\n",
    "%matplotlib inline\n",
    "\n",
    "import numpy as np\n",
    "import pandas as pd\n",
    "import seaborn as sns\n",
    "from scipy import stats\n",
    "\n",
    "from sklearn import metrics\n",
    "from sklearn.metrics import classification_report\n",
    "from sklearn import preprocessing\n",
    "from sklearn.metrics import roc_curve,roc_auc_score,auc\n",
    "from sklearn.preprocessing import StandardScaler, MinMaxScaler\n",
    "from sklearn.decomposition import PCA\n",
    "\n",
    "import keras\n",
    "from keras.models import Sequential\n",
    "from keras.layers import Dense, Dropout, Flatten, Reshape\n",
    "from keras.layers import Conv2D, MaxPooling2D\n",
    "from keras.utils import np_utils\n",
    "\n",
    "import sympy as sp"
   ]
  },
  {
   "cell_type": "markdown",
   "metadata": {},
   "source": [
    "# Parameters (Sliding Window)"
   ]
  },
  {
   "cell_type": "code",
   "execution_count": 3,
   "metadata": {},
   "outputs": [],
   "source": [
    "LABELS = ['Fall','Non Fall']\n",
    "le = preprocessing.LabelEncoder()\n",
    "LABEL = 'ActivityEncoded'\n",
    "TIME_PERIODS = 80\n",
    "STEP_DISTANCE = 40"
   ]
  },
  {
   "cell_type": "markdown",
   "metadata": {},
   "source": [
    "# Importing Data"
   ]
  },
  {
   "cell_type": "code",
   "execution_count": 4,
   "metadata": {},
   "outputs": [
    {
     "data": {
      "text/html": [
       "<div>\n",
       "<style scoped>\n",
       "    .dataframe tbody tr th:only-of-type {\n",
       "        vertical-align: middle;\n",
       "    }\n",
       "\n",
       "    .dataframe tbody tr th {\n",
       "        vertical-align: top;\n",
       "    }\n",
       "\n",
       "    .dataframe thead th {\n",
       "        text-align: right;\n",
       "    }\n",
       "</style>\n",
       "<table border=\"1\" class=\"dataframe\">\n",
       "  <thead>\n",
       "    <tr style=\"text-align: right;\">\n",
       "      <th></th>\n",
       "      <th>Unnamed: 0</th>\n",
       "      <th>User</th>\n",
       "      <th>Activity</th>\n",
       "      <th>Gx</th>\n",
       "      <th>Gy</th>\n",
       "      <th>Gz</th>\n",
       "      <th>ActivityEncoded</th>\n",
       "      <th>Max</th>\n",
       "      <th>Min</th>\n",
       "      <th>Mean</th>\n",
       "      <th>Median</th>\n",
       "      <th>Std</th>\n",
       "      <th>Mad</th>\n",
       "      <th>SMV</th>\n",
       "    </tr>\n",
       "  </thead>\n",
       "  <tbody>\n",
       "    <tr>\n",
       "      <th>76085</th>\n",
       "      <td>0</td>\n",
       "      <td>39</td>\n",
       "      <td>Fall</td>\n",
       "      <td>-0.002297</td>\n",
       "      <td>-0.001343</td>\n",
       "      <td>-0.000307</td>\n",
       "      <td>0</td>\n",
       "      <td>-0.000307</td>\n",
       "      <td>-0.002297</td>\n",
       "      <td>-0.001316</td>\n",
       "      <td>-0.001343</td>\n",
       "      <td>0.000995</td>\n",
       "      <td>0.000672</td>\n",
       "      <td>0.002678</td>\n",
       "    </tr>\n",
       "    <tr>\n",
       "      <th>76086</th>\n",
       "      <td>1</td>\n",
       "      <td>39</td>\n",
       "      <td>Fall</td>\n",
       "      <td>-0.001501</td>\n",
       "      <td>0.000885</td>\n",
       "      <td>-0.000277</td>\n",
       "      <td>0</td>\n",
       "      <td>0.000885</td>\n",
       "      <td>-0.001501</td>\n",
       "      <td>-0.000297</td>\n",
       "      <td>-0.000277</td>\n",
       "      <td>0.001193</td>\n",
       "      <td>0.000802</td>\n",
       "      <td>0.001764</td>\n",
       "    </tr>\n",
       "    <tr>\n",
       "      <th>76087</th>\n",
       "      <td>2</td>\n",
       "      <td>39</td>\n",
       "      <td>Fall</td>\n",
       "      <td>-0.002174</td>\n",
       "      <td>0.001953</td>\n",
       "      <td>0.000123</td>\n",
       "      <td>0</td>\n",
       "      <td>0.001953</td>\n",
       "      <td>-0.002174</td>\n",
       "      <td>-0.000033</td>\n",
       "      <td>0.000123</td>\n",
       "      <td>0.002068</td>\n",
       "      <td>0.001428</td>\n",
       "      <td>0.002925</td>\n",
       "    </tr>\n",
       "    <tr>\n",
       "      <th>76088</th>\n",
       "      <td>3</td>\n",
       "      <td>39</td>\n",
       "      <td>Fall</td>\n",
       "      <td>-0.001562</td>\n",
       "      <td>0.004028</td>\n",
       "      <td>-0.000277</td>\n",
       "      <td>0</td>\n",
       "      <td>0.004028</td>\n",
       "      <td>-0.001562</td>\n",
       "      <td>0.000730</td>\n",
       "      <td>-0.000277</td>\n",
       "      <td>0.002928</td>\n",
       "      <td>0.002199</td>\n",
       "      <td>0.004329</td>\n",
       "    </tr>\n",
       "    <tr>\n",
       "      <th>76089</th>\n",
       "      <td>4</td>\n",
       "      <td>39</td>\n",
       "      <td>Fall</td>\n",
       "      <td>-0.001807</td>\n",
       "      <td>0.005554</td>\n",
       "      <td>0.000061</td>\n",
       "      <td>0</td>\n",
       "      <td>0.005554</td>\n",
       "      <td>-0.001807</td>\n",
       "      <td>0.001270</td>\n",
       "      <td>0.000061</td>\n",
       "      <td>0.003826</td>\n",
       "      <td>0.002856</td>\n",
       "      <td>0.005841</td>\n",
       "    </tr>\n",
       "  </tbody>\n",
       "</table>\n",
       "</div>"
      ],
      "text/plain": [
       "       Unnamed: 0  User Activity        Gx        Gy        Gz  \\\n",
       "76085           0    39     Fall -0.002297 -0.001343 -0.000307   \n",
       "76086           1    39     Fall -0.001501  0.000885 -0.000277   \n",
       "76087           2    39     Fall -0.002174  0.001953  0.000123   \n",
       "76088           3    39     Fall -0.001562  0.004028 -0.000277   \n",
       "76089           4    39     Fall -0.001807  0.005554  0.000061   \n",
       "\n",
       "       ActivityEncoded       Max       Min      Mean    Median       Std  \\\n",
       "76085                0 -0.000307 -0.002297 -0.001316 -0.001343  0.000995   \n",
       "76086                0  0.000885 -0.001501 -0.000297 -0.000277  0.001193   \n",
       "76087                0  0.001953 -0.002174 -0.000033  0.000123  0.002068   \n",
       "76088                0  0.004028 -0.001562  0.000730 -0.000277  0.002928   \n",
       "76089                0  0.005554 -0.001807  0.001270  0.000061  0.003826   \n",
       "\n",
       "            Mad       SMV  \n",
       "76085  0.000672  0.002678  \n",
       "76086  0.000802  0.001764  \n",
       "76087  0.001428  0.002925  \n",
       "76088  0.002199  0.004329  \n",
       "76089  0.002856  0.005841  "
      ]
     },
     "execution_count": 4,
     "metadata": {},
     "output_type": "execute_result"
    }
   ],
   "source": [
    "def df(value):\n",
    "    \n",
    "    if value == 0:\n",
    "        df_G = pd.read_csv(r'C:\\Users\\Ash\\Desktop\\MobiFall Datasets cleaned\\Stats\\df_G.csv')\n",
    "        df_test_G  = df_G[df_G['User'] > 38]\n",
    "        df_train_G = df_G[df_G['User'] <= 38]\n",
    "    if value == 1:\n",
    "        df_G = pd.read_csv(r'C:\\Users\\Ash\\Desktop\\MobiFall Datasets cleaned\\Stats\\df_G_z_score.csv')\n",
    "        df_test_G  = df_G[df_G['User'] > 38]\n",
    "        df_train_G = df_G[df_G['User'] <= 38]\n",
    "    if value == 2:\n",
    "        df_G = pd.read_csv(r'C:\\Users\\Ash\\Desktop\\MobiFall Datasets cleaned\\Stats\\df_G_min_max.csv')\n",
    "        df_test_G  = df_G[df_G['User'] > 38]\n",
    "        df_train_G = df_G[df_G['User'] <= 38]\n",
    "    if value == 3:\n",
    "        df_G = pd.read_csv(r'C:\\Users\\Ash\\Desktop\\MobiFall Datasets cleaned\\Stats\\df_G_normalisation.csv')\n",
    "        df_test_G  = df_G[df_G['User'] > 38]\n",
    "        df_train_G = df_G[df_G['User'] <= 38]\n",
    "    if value == 4:\n",
    "        df_G = pd.read_csv(r'C:\\Users\\Ash\\Desktop\\MobiFall Datasets cleaned\\Stats\\df_G_L1.csv')\n",
    "        df_test_G  = df_G[df_G['User'] > 38]\n",
    "        df_train_G = df_G[df_G['User'] <= 38]\n",
    "    \n",
    "    \n",
    "    if value == 5:\n",
    "        df_test_G = pd.read_csv(r'C:\\Users\\Ash\\Desktop\\MobiFall Datasets cleaned\\SMOTE\\df_test_G_SMOTE.csv')\n",
    "        df_train_G = pd.read_csv(r'C:\\Users\\Ash\\Desktop\\MobiFall Datasets cleaned\\SMOTE\\df_train_G_SMOTE.csv')\n",
    "    if value == 6:\n",
    "        df_test_G = pd.read_csv(r'C:\\Users\\Ash\\Desktop\\MobiFall Datasets cleaned\\SMOTE\\df_test_G_z_score_SMOTE.csv')\n",
    "        df_train_G = pd.read_csv(r'C:\\Users\\Ash\\Desktop\\MobiFall Datasets cleaned\\SMOTE\\df_train_G_z_score_SMOTE.csv')\n",
    "    if value == 7:\n",
    "        df_test_G = pd.read_csv(r'C:\\Users\\Ash\\Desktop\\MobiFall Datasets cleaned\\SMOTE\\df_test_G_min_max_SMOTE.csv')\n",
    "        df_train_G = pd.read_csv(r'C:\\Users\\Ash\\Desktop\\MobiFall Datasets cleaned\\SMOTE\\df_train_G_min_max_SMOTE.csv')\n",
    "    if value == 8:\n",
    "        df_test_G = pd.read_csv(r'C:\\Users\\Ash\\Desktop\\MobiFall Datasets cleaned\\SMOTE\\df_test_G_normalisation_SMOTE.csv')\n",
    "        df_train_G = pd.read_csv(r'C:\\Users\\Ash\\Desktop\\MobiFall Datasets cleaned\\SMOTE\\df_train_G_normalisation_SMOTE.csv')\n",
    "    if value == 9:\n",
    "        df_test_G = pd.read_csv(r'C:\\Users\\Ash\\Desktop\\MobiFall Datasets cleaned\\SMOTE\\df_test_G_L1_SMOTE.csv')\n",
    "        df_train_G = pd.read_csv(r'C:\\Users\\Ash\\Desktop\\MobiFall Datasets cleaned\\SMOTE\\df_train_G_L1_SMOTE.csv')\n",
    "\n",
    "    return df_test_G,df_train_G\n",
    "\n",
    "df_G = 0\n",
    "df_G_z_score = 1\n",
    "df_G_min_max = 2\n",
    "df_G_normalisation = 3\n",
    "df_G_L1 = 4\n",
    "\n",
    "df_G_SMOTE = 5\n",
    "df_G_z_score_SMOTE = 6\n",
    "df_G_min_max_SMOTE = 7\n",
    "df_G_normalisation_SMOTE = 8\n",
    "df_G_L1_SMOTE = 9\n",
    "\n",
    "df_test,df_train = df(3)\n",
    "df_test.head()"
   ]
  },
  {
   "cell_type": "code",
   "execution_count": 5,
   "metadata": {},
   "outputs": [],
   "source": [
    "#This functions creates segments of the training set, essentially creating a better form that will be accepted by KERAS but can also be used by supervised learning \n",
    "\n",
    "\n",
    "\n",
    "def create_segments_and_labels(df, time_steps, step, label_name):\n",
    "\n",
    "    N_FEATURES = 3\n",
    "    segments = []\n",
    "    labels = []\n",
    "    for i in range(0, len(df) - time_steps, step):\n",
    "        xs = df['Gx'].values[i: i + time_steps]\n",
    "        ys = df['Gy'].values[i: i + time_steps]\n",
    "        zs = df['Gz'].values[i: i + time_steps]\n",
    "     \n",
    "        label = stats.mode(df[label_name][i: i + time_steps])[0][0]\n",
    "        segments.append([xs, ys, zs])\n",
    "        labels.append(label)\n",
    "\n",
    "\n",
    "    reshaped_segments = np.asarray(segments, dtype= np.float32).reshape(-1, time_steps, N_FEATURES)\n",
    "    labels = np.asarray(labels)\n",
    "\n",
    "    return reshaped_segments, labels\n",
    "\n",
    "def create_segments_and_labels_stats(df, time_steps, step, label_name):\n",
    "\n",
    "    N_FEATURES = 3\n",
    "    segments = []\n",
    "    labels = []\n",
    "    for i in range(0, len(df) - time_steps, step):\n",
    "#         Gx = df['Gx'].values[i: i + time_steps]\n",
    "#         Gy = df['Gy'].values[i: i + time_steps]\n",
    "#         Gz = df['Gz'].values[i: i + time_steps]\n",
    "        Max = df['Max'].values[i: i + time_steps]\n",
    "        Min = df['Min'].values[i: i + time_steps]\n",
    "#         Mean = df['Mean'].values[i: i + time_steps]\n",
    "#         Median = df['Median'].values[i: i + time_steps]\n",
    "#         Std = df['Std'].values[i: i + time_steps]\n",
    "#         Mad = df['Mad'].values[i: i + time_steps]\n",
    "        SMV = df['SMV'].values[i: i + time_steps]\n",
    "        \n",
    "        labs = [Max,Min,SMV]\n",
    "    \n",
    "        label = stats.mode(df[label_name][i: i + time_steps])[0][0]\n",
    "        segments.append(labs)\n",
    "        labels.append(label)\n",
    "        \n",
    "\n",
    "\n",
    "    reshaped_segments = np.asarray(segments, dtype= np.float32).reshape(-1, time_steps, N_FEATURES)\n",
    "    labels = np.asarray(labels)\n",
    "\n",
    "    return reshaped_segments, labels"
   ]
  },
  {
   "cell_type": "markdown",
   "metadata": {},
   "source": [
    "# Setting Up Training Data"
   ]
  },
  {
   "cell_type": "code",
   "execution_count": 6,
   "metadata": {},
   "outputs": [],
   "source": [
    "# #Raw Signal Data Transform\n",
    "# x_train, y_train = create_segments_and_labels(df_train,\n",
    "#                                               TIME_PERIODS,\n",
    "#                                               STEP_DISTANCE,\n",
    "#                                               LABEL)\n",
    "# num_time_periods, num_sensors = x_train.shape[1], x_train.shape[2]\n",
    "\n",
    "# input_shape = (num_time_periods*num_sensors)\n",
    "# x_train = x_train.reshape(x_train.shape[0], input_shape)\n",
    "\n",
    "# x_train = x_train.astype('float32')\n",
    "# y_train = y_train.astype('float32')\n",
    "\n",
    "# y_train_hot = np_utils.to_categorical(y_train, 2)\n",
    "\n",
    "#Stat Signal Data Transform\n",
    "x_train, y_train = create_segments_and_labels_stats(df_train,\n",
    "                                              TIME_PERIODS,\n",
    "                                              STEP_DISTANCE,\n",
    "                                              LABEL)\n",
    "num_time_periods, num_sensors = x_train.shape[1], x_train.shape[2]\n",
    "\n",
    "input_shape = (num_time_periods*num_sensors)\n",
    "x_train = x_train.reshape(x_train.shape[0], input_shape)\n",
    "\n",
    "x_train = x_train.astype('float32')\n",
    "y_train = y_train.astype('float32')\n",
    "\n",
    "y_train_hot = np_utils.to_categorical(y_train, 2)"
   ]
  },
  {
   "cell_type": "markdown",
   "metadata": {},
   "source": [
    "# Setting up Testing Data"
   ]
  },
  {
   "cell_type": "code",
   "execution_count": 7,
   "metadata": {},
   "outputs": [],
   "source": [
    "# # #Raw Signal Data Transform\n",
    "# x_test, y_test = create_segments_and_labels(df_test,\n",
    "#                                               TIME_PERIODS,\n",
    "#                                               STEP_DISTANCE,\n",
    "#                                               LABEL)\n",
    "# num_time_periods1, num_sensors1 = x_test.shape[1], x_test.shape[2]\n",
    "# input_shape1 = (num_time_periods1*num_sensors1)\n",
    "# x_test = x_test.reshape(x_test.shape[0], input_shape1)\n",
    "# x_test = x_test.astype('float32')\n",
    "# y_test = y_test.astype('float32')\n",
    "# y_test_hot = np_utils.to_categorical(y_test, 2)\n",
    "\n",
    "#Stat Signal Data Transform\n",
    "x_test, y_test = create_segments_and_labels_stats(df_test,\n",
    "                                              TIME_PERIODS,\n",
    "                                              STEP_DISTANCE,\n",
    "                                              LABEL)\n",
    "num_time_periods1, num_sensors1 = x_test.shape[1], x_test.shape[2]\n",
    "input_shape1 = (num_time_periods1*num_sensors1)\n",
    "x_test = x_test.reshape(x_test.shape[0], input_shape1)\n",
    "x_test = x_test.astype('float32')\n",
    "y_test = y_test.astype('float32')\n",
    "y_test_hot = np_utils.to_categorical(y_test, 2)"
   ]
  },
  {
   "cell_type": "markdown",
   "metadata": {},
   "source": [
    "# Keras Model Architecture"
   ]
  },
  {
   "cell_type": "code",
   "execution_count": 8,
   "metadata": {},
   "outputs": [
    {
     "name": "stdout",
     "output_type": "stream",
     "text": [
      "WARNING:tensorflow:From C:\\Users\\Ash\\Anaconda3\\lib\\site-packages\\tensorflow\\python\\framework\\op_def_library.py:263: colocate_with (from tensorflow.python.framework.ops) is deprecated and will be removed in a future version.\n",
      "Instructions for updating:\n",
      "Colocations handled automatically by placer.\n",
      "_________________________________________________________________\n",
      "Layer (type)                 Output Shape              Param #   \n",
      "=================================================================\n",
      "reshape_1 (Reshape)          (None, 80, 3)             0         \n",
      "_________________________________________________________________\n",
      "dense_1 (Dense)              (None, 80, 100)           400       \n",
      "_________________________________________________________________\n",
      "dense_2 (Dense)              (None, 80, 100)           10100     \n",
      "_________________________________________________________________\n",
      "dense_3 (Dense)              (None, 80, 100)           10100     \n",
      "_________________________________________________________________\n",
      "flatten_1 (Flatten)          (None, 8000)              0         \n",
      "_________________________________________________________________\n",
      "dense_4 (Dense)              (None, 2)                 16002     \n",
      "=================================================================\n",
      "Total params: 36,602\n",
      "Trainable params: 36,602\n",
      "Non-trainable params: 0\n",
      "_________________________________________________________________\n",
      "None\n"
     ]
    }
   ],
   "source": [
    "model_m = Sequential()\n",
    "model_m.add(Reshape((TIME_PERIODS, 3), input_shape=(input_shape,)))\n",
    "model_m.add(Dense(100, activation='relu'))\n",
    "model_m.add(Dense(100, activation='relu'))\n",
    "model_m.add(Dense(100, activation='relu'))\n",
    "model_m.add(Flatten())\n",
    "model_m.add(Dense(2, activation='softmax'))\n",
    "print(model_m.summary())"
   ]
  },
  {
   "cell_type": "code",
   "execution_count": 9,
   "metadata": {},
   "outputs": [
    {
     "name": "stdout",
     "output_type": "stream",
     "text": [
      "WARNING:tensorflow:From C:\\Users\\Ash\\Anaconda3\\lib\\site-packages\\tensorflow\\python\\ops\\math_ops.py:3066: to_int32 (from tensorflow.python.ops.math_ops) is deprecated and will be removed in a future version.\n",
      "Instructions for updating:\n",
      "Use tf.cast instead.\n",
      "Train on 59102 samples, validate on 14776 samples\n",
      "Epoch 1/50\n",
      "59102/59102 [==============================] - 52s 886us/step - loss: 0.3322 - acc: 0.9038 - val_loss: 0.1158 - val_acc: 1.0000\n",
      "Epoch 2/50\n",
      "59102/59102 [==============================] - 52s 872us/step - loss: 0.3145 - acc: 0.9039 - val_loss: 0.1003 - val_acc: 1.0000\n",
      "Epoch 3/50\n",
      "59102/59102 [==============================] - 51s 862us/step - loss: 0.3145 - acc: 0.9039 - val_loss: 0.1006 - val_acc: 1.0000\n"
     ]
    }
   ],
   "source": [
    "callbacks_list = [\n",
    "    keras.callbacks.ModelCheckpoint(\n",
    "        filepath='best_model.{epoch:02d}-{val_loss:.2f}.h5',\n",
    "        monitor='val_loss', save_best_only=True),\n",
    "    keras.callbacks.EarlyStopping(monitor='acc', patience=1)\n",
    "]\n",
    "\n",
    "model_m.compile(loss='categorical_crossentropy',\n",
    "                optimizer='adam', metrics=['accuracy'])\n",
    "\n",
    "# Hyper-parameters\n",
    "BATCH_SIZE = 400\n",
    "EPOCHS = 50\n",
    "\n",
    "# Enable validation to use ModelCheckpoint and EarlyStopping callbacks.\n",
    "history = model_m.fit(x_train,\n",
    "                      y_train_hot,\n",
    "                      batch_size=BATCH_SIZE,\n",
    "                      epochs=EPOCHS,\n",
    "                      callbacks=callbacks_list,\n",
    "                      validation_split=0.2,\n",
    "                      verbose=1)"
   ]
  },
  {
   "cell_type": "markdown",
   "metadata": {},
   "source": [
    "# Visualising Results"
   ]
  },
  {
   "cell_type": "code",
   "execution_count": 10,
   "metadata": {},
   "outputs": [
    {
     "data": {
      "image/png": "[encoded data removed]",
      "text/plain": [
       "<Figure size 1440x720 with 1 Axes>"
      ]
     },
     "metadata": {
      "needs_background": "light"
     },
     "output_type": "display_data"
    },
    {
     "name": "stdout",
     "output_type": "stream",
     "text": [
      "              precision    recall  f1-score   support\n",
      "\n",
      "         0.0       0.00      0.00      0.00      5681\n",
      "         1.0       0.92      1.00      0.96     68197\n",
      "\n",
      "    accuracy                           0.92     73878\n",
      "   macro avg       0.46      0.50      0.48     73878\n",
      "weighted avg       0.85      0.92      0.89     73878\n",
      "\n"
     ]
    },
    {
     "name": "stderr",
     "output_type": "stream",
     "text": [
      "C:\\Users\\Ash\\Anaconda3\\lib\\site-packages\\sklearn\\metrics\\classification.py:1437: UndefinedMetricWarning: Precision and F-score are ill-defined and being set to 0.0 in labels with no predicted samples.\n",
      "  'precision', 'predicted', average, warn_for)\n"
     ]
    }
   ],
   "source": [
    "plt.figure(figsize=(20, 10))\n",
    "plt.plot(history.history['acc'], 'r', label='Accuracy of training data')\n",
    "plt.plot(history.history['val_acc'], 'b', label='Accuracy of validation data')\n",
    "plt.plot(history.history['loss'], 'r--', label='Loss of training data')\n",
    "plt.plot(history.history['val_loss'], 'b--', label='Loss of validation data')\n",
    "plt.title('Model Accuracy and Loss')\n",
    "plt.ylabel('Accuracy and Loss')\n",
    "plt.xlabel('Training Epoch')\n",
    "plt.ylim(0)\n",
    "plt.legend()\n",
    "plt.show()\n",
    "\n",
    "# Print confusion matrix for training data\n",
    "y_pred_train = model_m.predict(x_train)\n",
    "# Take the class with the highest probability from the train predictions\n",
    "max_y_pred_train = np.argmax(y_pred_train, axis=1)\n",
    "print(classification_report(y_train, max_y_pred_train))"
   ]
  },
  {
   "cell_type": "code",
   "execution_count": 11,
   "metadata": {},
   "outputs": [
    {
     "data": {
      "image/png": "[encoded data removed]",
      "text/plain": [
       "<Figure size 720x720 with 2 Axes>"
      ]
     },
     "metadata": {
      "needs_background": "light"
     },
     "output_type": "display_data"
    },
    {
     "name": "stdout",
     "output_type": "stream",
     "text": [
      "              precision    recall  f1-score   support\n",
      "\n",
      "           0       0.00      0.00      0.00       290\n",
      "           1       0.93      1.00      0.96      3585\n",
      "\n",
      "    accuracy                           0.93      3875\n",
      "   macro avg       0.46      0.50      0.48      3875\n",
      "weighted avg       0.86      0.93      0.89      3875\n",
      "\n"
     ]
    }
   ],
   "source": [
    "def show_confusion_matrix(validations, predictions):\n",
    "\n",
    "    matrix = metrics.confusion_matrix(validations, predictions)\n",
    "    plt.figure(figsize=(10,10 ))\n",
    "    sns.heatmap(matrix,\n",
    "                cmap='coolwarm',\n",
    "                linecolor='white',\n",
    "                linewidths=1,\n",
    "                xticklabels=LABELS,\n",
    "                yticklabels=LABELS,\n",
    "                annot=True,\n",
    "                fmt='d')\n",
    "    plt.title('Confusion Matrix')\n",
    "    plt.ylabel('True Label')\n",
    "    plt.xlabel('Predicted Label')\n",
    "    plt.show()\n",
    "\n",
    "y_pred_test = model_m.predict(x_test)\n",
    "\n",
    "max_y_pred_test = np.argmax(y_pred_test, axis=1)\n",
    "max_y_test = np.argmax(y_test_hot, axis=1)\n",
    "\n",
    "show_confusion_matrix(max_y_test, max_y_pred_test)\n",
    "\n",
    "print(classification_report(max_y_test, max_y_pred_test))"
   ]
  },
  {
   "cell_type": "markdown",
   "metadata": {},
   "source": [
    "# Plotting ROC Curve"
   ]
  },
  {
   "cell_type": "code",
   "execution_count": 12,
   "metadata": {},
   "outputs": [
    {
     "data": {
      "image/png": "[encoded data removed]",
      "text/plain": [
       "<Figure size 720x720 with 1 Axes>"
      ]
     },
     "metadata": {
      "needs_background": "light"
     },
     "output_type": "display_data"
    }
   ],
   "source": [
    "y_pred_ROC = model_m.predict_proba(x_test)\n",
    "y_pred_ROC_test = np.argmax(y_pred_ROC, axis=1)\n",
    "fpr , tpr , thresholds = roc_curve( max_y_test , y_pred_ROC_test)\n",
    "\n",
    "roc_auc = auc(fpr, tpr)\n",
    "\n",
    "plt.figure(figsize=(10,10))\n",
    "plt.plot(fpr, tpr, label='ROC curve KERAS (area = %0.2f)' % float(roc_auc))\n",
    "plt.plot([0, 1], [0, 1], '-')\n",
    "plt.xlabel('False Positive Rate',fontsize=20)\n",
    "plt.ylabel('True Positive Rate',fontsize = 20)\n",
    "plt.title('ROC Curve ',fontsize=20)\n",
    "plt.legend(loc=\"lower right\",fontsize=16)\n",
    "plt.show()"
   ]
  },
  {
   "cell_type": "code",
   "execution_count": null,
   "metadata": {},
   "outputs": [],
   "source": []
  },
  {
   "cell_type": "code",
   "execution_count": null,
   "metadata": {},
   "outputs": [],
   "source": []
  },
  {
   "cell_type": "code",
   "execution_count": null,
   "metadata": {},
   "outputs": [],
   "source": []
  },
  {
   "cell_type": "code",
   "execution_count": null,
   "metadata": {},
   "outputs": [],
   "source": []
  },
  {
   "cell_type": "code",
   "execution_count": null,
   "metadata": {},
   "outputs": [],
   "source": []
  },
  {
   "cell_type": "code",
   "execution_count": null,
   "metadata": {},
   "outputs": [],
   "source": []
  },
  {
   "cell_type": "code",
   "execution_count": null,
   "metadata": {},
   "outputs": [],
   "source": []
  },
  {
   "cell_type": "code",
   "execution_count": null,
   "metadata": {},
   "outputs": [],
   "source": []
  },
  {
   "cell_type": "code",
   "execution_count": null,
   "metadata": {},
   "outputs": [],
   "source": []
  },
  {
   "cell_type": "code",
   "execution_count": null,
   "metadata": {},
   "outputs": [],
   "source": []
  },
  {
   "cell_type": "code",
   "execution_count": null,
   "metadata": {},
   "outputs": [],
   "source": []
  },
  {
   "cell_type": "code",
   "execution_count": null,
   "metadata": {},
   "outputs": [],
   "source": []
  },
  {
   "cell_type": "code",
   "execution_count": null,
   "metadata": {},
   "outputs": [],
   "source": []
  }
 ],
 "metadata": {
  "kernelspec": {
   "display_name": "Python 3",
   "language": "python",
   "name": "python3"
  },
  "language_info": {
   "codemirror_mode": {
    "name": "ipython",
    "version": 3
   },
   "file_extension": ".py",
   "mimetype": "text/x-python",
   "name": "python",
   "nbconvert_exporter": "python",
   "pygments_lexer": "ipython3",
   "version": "3.7.3"
  }
 },
 "nbformat": 4,
 "nbformat_minor": 2
}
