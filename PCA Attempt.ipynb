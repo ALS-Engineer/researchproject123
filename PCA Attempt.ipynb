{
 "cells": [
  {
   "cell_type": "code",
   "execution_count": 1,
   "metadata": {},
   "outputs": [
    {
     "data": {
      "text/html": [
       "<style>.container { width:100% !important; }</style>"
      ],
      "text/plain": [
       "<IPython.core.display.HTML object>"
      ]
     },
     "metadata": {},
     "output_type": "display_data"
    }
   ],
   "source": [
    "from IPython.core.display import display, HTML\n",
    "display(HTML(\"<style>.container { width:100% !important; }</style>\"))"
   ]
  },
  {
   "cell_type": "markdown",
   "metadata": {},
   "source": [
    "# List of Imports"
   ]
  },
  {
   "cell_type": "code",
   "execution_count": 52,
   "metadata": {},
   "outputs": [],
   "source": [
    "from __future__ import print_function\n",
    "from matplotlib import pyplot as plt\n",
    "%matplotlib inline\n",
    "\n",
    "import numpy as np\n",
    "import pandas as pd\n",
    "import seaborn as sns\n",
    "from scipy import stats\n",
    "\n",
    "from sklearn import metrics\n",
    "from sklearn.metrics import classification_report, accuracy_score\n",
    "from sklearn import preprocessing\n",
    "from sklearn.model_selection import train_test_split\n",
    "from sklearn.utils import shuffle\n",
    "from sklearn.metrics import roc_curve, auc\n",
    "from sklearn import preprocessing\n",
    "from sklearn.decomposition import PCA\n",
    "\n",
    "import keras\n",
    "from keras.models import Sequential\n",
    "from keras.layers import Dense, Dropout, Flatten, Reshape\n",
    "from keras.layers import Conv2D, MaxPooling2D\n",
    "from keras.utils import np_utils\n",
    "\n",
    "import sympy as sp\n",
    "\n",
    "from mpl_toolkits.mplot3d import Axes3D"
   ]
  },
  {
   "cell_type": "markdown",
   "metadata": {},
   "source": [
    "# Creating Labels for Data (Fall and Non Fall)"
   ]
  },
  {
   "cell_type": "code",
   "execution_count": 3,
   "metadata": {},
   "outputs": [
    {
     "name": "stdout",
     "output_type": "stream",
     "text": [
      "keras version  2.2.4\n"
     ]
    }
   ],
   "source": [
    "pd.options.display.float_format = '{:.1f}'.format\n",
    "sns.set() \n",
    "plt.style.use('ggplot')\n",
    "print('keras version ', keras.__version__)\n",
    "\n",
    "LABELS = ['Fall',\n",
    "          'Non Fall',\n",
    "                               ]\n",
    "\n",
    "TIME_PERIODS = 80\n",
    "STEP_DISTANCE = 40"
   ]
  },
  {
   "cell_type": "markdown",
   "metadata": {},
   "source": [
    "# Importing CSV Data (SPECIFIC to the MOBIFALL DATASET)"
   ]
  },
  {
   "cell_type": "code",
   "execution_count": 4,
   "metadata": {},
   "outputs": [],
   "source": [
    "def read_data(file_path,User_number,Activity_class):\n",
    "    User = []\n",
    "    Activity = []\n",
    "    \n",
    "    column_names = ['ID',\n",
    "                    'X',\n",
    "                    'Y',\n",
    "                    'Z',\n",
    "                        ]  \n",
    "    \n",
    "    \n",
    "    df = pd.read_csv(file_path,\n",
    "                     header=None,\n",
    "                     names=column_names)\n",
    "    df = df.drop([0,1,2,3,4,5,6,7,8,9,10,11,12,13],axis = 0)\n",
    "    df = df.reset_index()\n",
    "    df = df.drop(['index'],axis=1)\n",
    "    \n",
    "    for i in range(len(df['X'])):\n",
    "        a = User_number\n",
    "        User.append(User_number)\n",
    "    for j in range(len(df['X'])):\n",
    "        b = Activity_class\n",
    "        Activity.append(Activity_class)\n",
    "        \n",
    "    df['Activity'] = Activity\n",
    "    df['User'] = User\n",
    "    \n",
    "    df['User'] = df['User'].apply(convert_to_int)\n",
    "    df['X'] = df['X'].apply(convert_to_float)\n",
    "    df['Y'] = df['Y'].apply(convert_to_float)\n",
    "    df['Z'] = df['Z'].apply(convert_to_float)\n",
    "    df = df[['ID','User','Activity','X','Y','Z']]\n",
    "    \n",
    "   \n",
    "    return df\n",
    "\n",
    "def convert_to_float(x):\n",
    "\n",
    "    try:\n",
    "        return np.float(x)\n",
    "    except:\n",
    "        return np.nan\n",
    "\n",
    "def convert_to_int(x):\n",
    "\n",
    "    try:\n",
    "        return np.int(x)\n",
    "    except:\n",
    "        return np.nan\n",
    "    \n",
    "    \n",
    "def show_basic_dataframe_info(dataframe):\n",
    "\n",
    "    # Shape and how many rows and columns\n",
    "    print('Number of columns in the dataframe: %i' % (dataframe.shape[1]))\n",
    "    print('Number of rows in the dataframe: %i\\n' % (dataframe.shape[0]))"
   ]
  },
  {
   "cell_type": "code",
   "execution_count": 5,
   "metadata": {},
   "outputs": [],
   "source": [
    "BSC_1 = read_data(r'C:\\Users\\Ash\\Desktop\\MobiAct_Dataset\\\\Network\\BSC\\BSC_acc_1_1.txt',1,'Backward Sitting Chair Fall')\n",
    "BSC_2 = read_data(r'C:\\Users\\Ash\\Desktop\\MobiAct_Dataset\\\\Network\\BSC\\BSC_acc_2_1.txt',2,'Backward Sitting Chair Fall')\n",
    "BSC_3 = read_data(r'C:\\Users\\Ash\\Desktop\\MobiAct_Dataset\\\\Network\\BSC\\BSC_acc_3_1.txt',3,'Backward Sitting Chair Fall')\n",
    "BSC_4 = read_data(r'C:\\Users\\Ash\\Desktop\\MobiAct_Dataset\\\\Network\\BSC\\BSC_acc_4_1.txt',4,'Backward Sitting Chair Fall')\n",
    "BSC_5 = read_data(r'C:\\Users\\Ash\\Desktop\\MobiAct_Dataset\\\\Network\\BSC\\BSC_acc_5_1.txt',5,'Backward Sitting Chair Fall')\n",
    "BSC_6 = read_data(r'C:\\Users\\Ash\\Desktop\\MobiAct_Dataset\\\\Network\\BSC\\BSC_acc_6_1.txt',6,'Backward Sitting Chair Fall')\n",
    "BSC_7 = read_data(r'C:\\Users\\Ash\\Desktop\\MobiAct_Dataset\\\\Network\\BSC\\BSC_acc_7_1.txt',7,'Backward Sitting Chair Fall')\n",
    "BSC_8 = read_data(r'C:\\Users\\Ash\\Desktop\\MobiAct_Dataset\\\\Network\\BSC\\BSC_acc_8_1.txt',8,'Backward Sitting Chair Fall')\n",
    "BSC_9 = read_data(r'C:\\Users\\Ash\\Desktop\\MobiAct_Dataset\\\\Network\\BSC\\BSC_acc_9_1.txt',9,'Backward Sitting Chair Fall')\n",
    "BSC_10= read_data(r'C:\\Users\\Ash\\Desktop\\MobiAct_Dataset\\\\Network\\BSC\\BSC_acc_10_1.txt',10,'Backward Sitting Chair Fall')\n",
    "BSC_11= read_data(r'C:\\Users\\Ash\\Desktop\\MobiAct_Dataset\\\\Network\\BSC\\BSC_acc_11_1.txt',11,'Backward Sitting Chair Fall')\n",
    "BSC_12= read_data(r'C:\\Users\\Ash\\Desktop\\MobiAct_Dataset\\\\Network\\BSC\\BSC_acc_12_1.txt',12,'Backward Sitting Chair Fall')\n",
    "BSC_13= read_data(r'C:\\Users\\Ash\\Desktop\\MobiAct_Dataset\\\\Network\\BSC\\BSC_acc_13_1.txt',13,'Backward Sitting Chair Fall')\n",
    "BSC_14= read_data(r'C:\\Users\\Ash\\Desktop\\MobiAct_Dataset\\\\Network\\BSC\\BSC_acc_14_1.txt',14,'Backward Sitting Chair Fall')\n",
    "BSC_15= read_data(r'C:\\Users\\Ash\\Desktop\\MobiAct_Dataset\\\\Network\\BSC\\BSC_acc_15_1.txt',15,'Backward Sitting Chair Fall')\n",
    "BSC_16= read_data(r'C:\\Users\\Ash\\Desktop\\MobiAct_Dataset\\\\Network\\BSC\\BSC_acc_16_1.txt',16,'Backward Sitting Chair Fall')\n",
    "BSC_17= read_data(r'C:\\Users\\Ash\\Desktop\\MobiAct_Dataset\\\\Network\\BSC\\BSC_acc_17_1.txt',17,'Backward Sitting Chair Fall')\n",
    "BSC_18= read_data(r'C:\\Users\\Ash\\Desktop\\MobiAct_Dataset\\\\Network\\BSC\\BSC_acc_18_1.txt',18,'Backward Sitting Chair Fall')\n",
    "BSC_19= read_data(r'C:\\Users\\Ash\\Desktop\\MobiAct_Dataset\\\\Network\\BSC\\BSC_acc_19_1.txt',19,'Backward Sitting Chair Fall')\n",
    "BSC_20= read_data(r'C:\\Users\\Ash\\Desktop\\MobiAct_Dataset\\\\Network\\BSC\\BSC_acc_20_1.txt',20,'Backward Sitting Chair Fall')\n",
    "BSC_21= read_data(r'C:\\Users\\Ash\\Desktop\\MobiAct_Dataset\\\\Network\\BSC\\BSC_acc_21_1.txt',21,'Backward Sitting Chair Fall')\n",
    "BSC_22= read_data(r'C:\\Users\\Ash\\Desktop\\MobiAct_Dataset\\\\Network\\BSC\\BSC_acc_22_1.txt',22,'Backward Sitting Chair Fall')\n",
    "BSC_23= read_data(r'C:\\Users\\Ash\\Desktop\\MobiAct_Dataset\\\\Network\\BSC\\BSC_acc_23_1.txt',23,'Backward Sitting Chair Fall')\n",
    "BSC_24= read_data(r'C:\\Users\\Ash\\Desktop\\MobiAct_Dataset\\\\Network\\BSC\\BSC_acc_24_1.txt',24,'Backward Sitting Chair Fall')\n",
    "BSC_25= read_data(r'C:\\Users\\Ash\\Desktop\\MobiAct_Dataset\\\\Network\\BSC\\BSC_acc_25_1.txt',25,'Backward Sitting Chair Fall')\n",
    "BSC_26= read_data(r'C:\\Users\\Ash\\Desktop\\MobiAct_Dataset\\\\Network\\BSC\\BSC_acc_26_1.txt',26,'Backward Sitting Chair Fall')\n",
    "BSC_27= read_data(r'C:\\Users\\Ash\\Desktop\\MobiAct_Dataset\\\\Network\\BSC\\BSC_acc_27_1.txt',27,'Backward Sitting Chair Fall')\n",
    "BSC_28= read_data(r'C:\\Users\\Ash\\Desktop\\MobiAct_Dataset\\\\Network\\BSC\\BSC_acc_28_1.txt',28,'Backward Sitting Chair Fall')\n",
    "BSC_29= read_data(r'C:\\Users\\Ash\\Desktop\\MobiAct_Dataset\\\\Network\\BSC\\BSC_acc_29_1.txt',29,'Backward Sitting Chair Fall')\n",
    "BSC_30= read_data(r'C:\\Users\\Ash\\Desktop\\MobiAct_Dataset\\\\Network\\BSC\\BSC_acc_30_1.txt',30,'Backward Sitting Chair Fall')\n",
    "BSC_31= read_data(r'C:\\Users\\Ash\\Desktop\\MobiAct_Dataset\\\\Network\\BSC\\BSC_acc_31_1.txt',31,'Backward Sitting Chair Fall')\n",
    "BSC_32= read_data(r'C:\\Users\\Ash\\Desktop\\MobiAct_Dataset\\\\Network\\BSC\\BSC_acc_32_1.txt',32,'Backward Sitting Chair Fall')\n",
    "BSC_33= read_data(r'C:\\Users\\Ash\\Desktop\\MobiAct_Dataset\\\\Network\\BSC\\BSC_acc_33_1.txt',33,'Backward Sitting Chair Fall')\n",
    "BSC_34= read_data(r'C:\\Users\\Ash\\Desktop\\MobiAct_Dataset\\\\Network\\BSC\\BSC_acc_34_1.txt',34,'Backward Sitting Chair Fall')\n",
    "BSC_35= read_data(r'C:\\Users\\Ash\\Desktop\\MobiAct_Dataset\\\\Network\\BSC\\BSC_acc_35_1.txt',35,'Backward Sitting Chair Fall')\n",
    "BSC_36= read_data(r'C:\\Users\\Ash\\Desktop\\MobiAct_Dataset\\\\Network\\BSC\\BSC_acc_36_1.txt',36,'Backward Sitting Chair Fall')\n",
    "BSC_37= read_data(r'C:\\Users\\Ash\\Desktop\\MobiAct_Dataset\\\\Network\\BSC\\BSC_acc_37_1.txt',37,'Backward Sitting Chair Fall')\n",
    "BSC_38= read_data(r'C:\\Users\\Ash\\Desktop\\MobiAct_Dataset\\\\Network\\BSC\\BSC_acc_38_1.txt',38,'Backward Sitting Chair Fall')\n",
    "BSC_39= read_data(r'C:\\Users\\Ash\\Desktop\\MobiAct_Dataset\\\\Network\\BSC\\BSC_acc_39_1.txt',39,'Backward Sitting Chair Fall')\n",
    "BSC_40= read_data(r'C:\\Users\\Ash\\Desktop\\MobiAct_Dataset\\\\Network\\BSC\\BSC_acc_40_1.txt',40,'Backward Sitting Chair Fall')\n",
    "\n",
    "FKL_1 = read_data(r'C:\\Users\\Ash\\Desktop\\MobiAct_Dataset\\\\Network\\FKL\\FKL_acc_1_1.txt',1,'Forward Knees Fall')\n",
    "FKL_2 = read_data(r'C:\\Users\\Ash\\Desktop\\MobiAct_Dataset\\\\Network\\FKL\\FKL_acc_2_1.txt',2,'Forward Knees Fall')\n",
    "FKL_3 = read_data(r'C:\\Users\\Ash\\Desktop\\MobiAct_Dataset\\\\Network\\FKL\\FKL_acc_3_1.txt',3,'Forward Knees Fall')\n",
    "FKL_4 = read_data(r'C:\\Users\\Ash\\Desktop\\MobiAct_Dataset\\\\Network\\FKL\\FKL_acc_4_1.txt',4,'Forward Knees Fall')\n",
    "FKL_5 = read_data(r'C:\\Users\\Ash\\Desktop\\MobiAct_Dataset\\\\Network\\FKL\\FKL_acc_5_1.txt',5,'Forward Knees Fall')\n",
    "FKL_6 = read_data(r'C:\\Users\\Ash\\Desktop\\MobiAct_Dataset\\\\Network\\FKL\\FKL_acc_6_1.txt',6,'Forward Knees Fall')\n",
    "FKL_7 = read_data(r'C:\\Users\\Ash\\Desktop\\MobiAct_Dataset\\\\Network\\FKL\\FKL_acc_7_1.txt',7,'Forward Knees Fall')\n",
    "FKL_8 = read_data(r'C:\\Users\\Ash\\Desktop\\MobiAct_Dataset\\\\Network\\FKL\\FKL_acc_8_1.txt',8,'Forward Knees Fall')\n",
    "FKL_9 = read_data(r'C:\\Users\\Ash\\Desktop\\MobiAct_Dataset\\\\Network\\FKL\\FKL_acc_9_1.txt',9,'Forward Knees Fall')\n",
    "FKL_10 = read_data(r'C:\\Users\\Ash\\Desktop\\MobiAct_Dataset\\\\Network\\FKL\\FKL_acc_10_1.txt',10,'Forward Knees Fall')\n",
    "FKL_11 = read_data(r'C:\\Users\\Ash\\Desktop\\MobiAct_Dataset\\\\Network\\FKL\\FKL_acc_11_1.txt',11,'Forward Knees Fall')\n",
    "FKL_12 = read_data(r'C:\\Users\\Ash\\Desktop\\MobiAct_Dataset\\\\Network\\FKL\\FKL_acc_12_1.txt',12,'Forward Knees Fall')\n",
    "FKL_13 = read_data(r'C:\\Users\\Ash\\Desktop\\MobiAct_Dataset\\\\Network\\FKL\\FKL_acc_13_1.txt',13,'Forward Knees Fall')\n",
    "FKL_14 = read_data(r'C:\\Users\\Ash\\Desktop\\MobiAct_Dataset\\\\Network\\FKL\\FKL_acc_14_1.txt',14,'Forward Knees Fall')\n",
    "FKL_15 = read_data(r'C:\\Users\\Ash\\Desktop\\MobiAct_Dataset\\\\Network\\FKL\\FKL_acc_15_1.txt',15,'Forward Knees Fall')\n",
    "FKL_16 = read_data(r'C:\\Users\\Ash\\Desktop\\MobiAct_Dataset\\\\Network\\FKL\\FKL_acc_16_1.txt',16,'Forward Knees Fall')\n",
    "FKL_17 = read_data(r'C:\\Users\\Ash\\Desktop\\MobiAct_Dataset\\\\Network\\FKL\\FKL_acc_17_1.txt',17,'Forward Knees Fall')\n",
    "FKL_18 = read_data(r'C:\\Users\\Ash\\Desktop\\MobiAct_Dataset\\\\Network\\FKL\\FKL_acc_18_1.txt',18,'Forward Knees Fall')\n",
    "FKL_19 = read_data(r'C:\\Users\\Ash\\Desktop\\MobiAct_Dataset\\\\Network\\FKL\\FKL_acc_19_1.txt',19,'Forward Knees Fall')\n",
    "FKL_20 = read_data(r'C:\\Users\\Ash\\Desktop\\MobiAct_Dataset\\\\Network\\FKL\\FKL_acc_20_1.txt',20,'Forward Knees Fall')\n",
    "FKL_21 = read_data(r'C:\\Users\\Ash\\Desktop\\MobiAct_Dataset\\\\Network\\FKL\\FKL_acc_21_1.txt',21,'Forward Knees Fall')\n",
    "FKL_22 = read_data(r'C:\\Users\\Ash\\Desktop\\MobiAct_Dataset\\\\Network\\FKL\\FKL_acc_22_1.txt',22,'Forward Knees Fall')\n",
    "FKL_23 = read_data(r'C:\\Users\\Ash\\Desktop\\MobiAct_Dataset\\\\Network\\FKL\\FKL_acc_23_1.txt',23,'Forward Knees Fall')\n",
    "FKL_24 = read_data(r'C:\\Users\\Ash\\Desktop\\MobiAct_Dataset\\\\Network\\FKL\\FKL_acc_24_1.txt',24,'Forward Knees Fall')\n",
    "FKL_25 = read_data(r'C:\\Users\\Ash\\Desktop\\MobiAct_Dataset\\\\Network\\FKL\\FKL_acc_25_1.txt',25,'Forward Knees Fall')\n",
    "FKL_26 = read_data(r'C:\\Users\\Ash\\Desktop\\MobiAct_Dataset\\\\Network\\FKL\\FKL_acc_26_1.txt',26,'Forward Knees Fall')\n",
    "FKL_27 = read_data(r'C:\\Users\\Ash\\Desktop\\MobiAct_Dataset\\\\Network\\FKL\\FKL_acc_27_1.txt',27,'Forward Knees Fall')\n",
    "FKL_28 = read_data(r'C:\\Users\\Ash\\Desktop\\MobiAct_Dataset\\\\Network\\FKL\\FKL_acc_28_1.txt',28,'Forward Knees Fall')\n",
    "FKL_29 = read_data(r'C:\\Users\\Ash\\Desktop\\MobiAct_Dataset\\\\Network\\FKL\\FKL_acc_29_1.txt',29,'Forward Knees Fall')\n",
    "FKL_30 = read_data(r'C:\\Users\\Ash\\Desktop\\MobiAct_Dataset\\\\Network\\FKL\\FKL_acc_30_1.txt',30,'Forward Knees Fall')\n",
    "FKL_31 = read_data(r'C:\\Users\\Ash\\Desktop\\MobiAct_Dataset\\\\Network\\FKL\\FKL_acc_31_1.txt',31,'Forward Knees Fall')\n",
    "FKL_32 = read_data(r'C:\\Users\\Ash\\Desktop\\MobiAct_Dataset\\\\Network\\FKL\\FKL_acc_32_1.txt',32,'Forward Knees Fall')\n",
    "FKL_33 = read_data(r'C:\\Users\\Ash\\Desktop\\MobiAct_Dataset\\\\Network\\FKL\\FKL_acc_33_1.txt',33,'Forward Knees Fall')\n",
    "FKL_34 = read_data(r'C:\\Users\\Ash\\Desktop\\MobiAct_Dataset\\\\Network\\FKL\\FKL_acc_34_1.txt',34,'Forward Knees Fall')\n",
    "FKL_35 = read_data(r'C:\\Users\\Ash\\Desktop\\MobiAct_Dataset\\\\Network\\FKL\\FKL_acc_35_1.txt',35,'Forward Knees Fall')\n",
    "FKL_36 = read_data(r'C:\\Users\\Ash\\Desktop\\MobiAct_Dataset\\\\Network\\FKL\\FKL_acc_36_1.txt',36,'Forward Knees Fall')\n",
    "FKL_37 = read_data(r'C:\\Users\\Ash\\Desktop\\MobiAct_Dataset\\\\Network\\FKL\\FKL_acc_37_1.txt',37,'Forward Knees Fall')\n",
    "FKL_38 = read_data(r'C:\\Users\\Ash\\Desktop\\MobiAct_Dataset\\\\Network\\FKL\\FKL_acc_38_1.txt',38,'Forward Knees Fall')\n",
    "FKL_39 = read_data(r'C:\\Users\\Ash\\Desktop\\MobiAct_Dataset\\\\Network\\FKL\\FKL_acc_39_1.txt',39,'Forward Knees Fall')\n",
    "FKL_40 = read_data(r'C:\\Users\\Ash\\Desktop\\MobiAct_Dataset\\\\Network\\FKL\\FKL_acc_40_1.txt',40,'Forward Knees Fall')\n",
    "\n",
    "FOL_1 = read_data(r'C:\\Users\\Ash\\Desktop\\MobiAct_Dataset\\\\Network\\FOL\\FOL_acc_1_1.txt',1,'Forward Lying Fall')\n",
    "FOL_2 = read_data(r'C:\\Users\\Ash\\Desktop\\MobiAct_Dataset\\\\Network\\FOL\\FOL_acc_2_1.txt',2,'Forward Lying Fall')\n",
    "FOL_3 = read_data(r'C:\\Users\\Ash\\Desktop\\MobiAct_Dataset\\\\Network\\FOL\\FOL_acc_3_1.txt',3,'Forward Lying Fall')\n",
    "FOL_4 = read_data(r'C:\\Users\\Ash\\Desktop\\MobiAct_Dataset\\\\Network\\FOL\\FOL_acc_4_1.txt',4,'Forward Lying Fall')\n",
    "FOL_5 = read_data(r'C:\\Users\\Ash\\Desktop\\MobiAct_Dataset\\\\Network\\FOL\\FOL_acc_5_1.txt',5,'Forward Lying Fall')\n",
    "FOL_6 = read_data(r'C:\\Users\\Ash\\Desktop\\MobiAct_Dataset\\\\Network\\FOL\\FOL_acc_6_1.txt',6,'Forward Lying Fall')\n",
    "FOL_7 = read_data(r'C:\\Users\\Ash\\Desktop\\MobiAct_Dataset\\\\Network\\FOL\\FOL_acc_7_1.txt',7,'Forward Lying Fall')\n",
    "FOL_8 = read_data(r'C:\\Users\\Ash\\Desktop\\MobiAct_Dataset\\\\Network\\FOL\\FOL_acc_8_1.txt',8,'Forward Lying Fall')\n",
    "FOL_9 = read_data(r'C:\\Users\\Ash\\Desktop\\MobiAct_Dataset\\\\Network\\FOL\\FOL_acc_9_1.txt',9,'Forward Lying Fall')\n",
    "FOL_10 = read_data(r'C:\\Users\\Ash\\Desktop\\MobiAct_Dataset\\\\Network\\FOL\\FOL_acc_10_1.txt',10,'Forward Lying Fall')\n",
    "FOL_11 = read_data(r'C:\\Users\\Ash\\Desktop\\MobiAct_Dataset\\\\Network\\FOL\\FOL_acc_11_1.txt',11,'Forward Lying Fall')\n",
    "FOL_12 = read_data(r'C:\\Users\\Ash\\Desktop\\MobiAct_Dataset\\\\Network\\FOL\\FOL_acc_12_1.txt',12,'Forward Lying Fall')\n",
    "FOL_13 = read_data(r'C:\\Users\\Ash\\Desktop\\MobiAct_Dataset\\\\Network\\FOL\\FOL_acc_13_1.txt',13,'Forward Lying Fall')\n",
    "FOL_14 = read_data(r'C:\\Users\\Ash\\Desktop\\MobiAct_Dataset\\\\Network\\FOL\\FOL_acc_14_1.txt',14,'Forward Lying Fall')\n",
    "FOL_15 = read_data(r'C:\\Users\\Ash\\Desktop\\MobiAct_Dataset\\\\Network\\FOL\\FOL_acc_15_1.txt',15,'Forward Lying Fall')\n",
    "FOL_16 = read_data(r'C:\\Users\\Ash\\Desktop\\MobiAct_Dataset\\\\Network\\FOL\\FOL_acc_16_1.txt',16,'Forward Lying Fall')\n",
    "FOL_17 = read_data(r'C:\\Users\\Ash\\Desktop\\MobiAct_Dataset\\\\Network\\FOL\\FOL_acc_17_1.txt',17,'Forward Lying Fall')\n",
    "FOL_18 = read_data(r'C:\\Users\\Ash\\Desktop\\MobiAct_Dataset\\\\Network\\FOL\\FOL_acc_18_1.txt',18,'Forward Lying Fall')\n",
    "FOL_19 = read_data(r'C:\\Users\\Ash\\Desktop\\MobiAct_Dataset\\\\Network\\FOL\\FOL_acc_19_1.txt',19,'Forward Lying Fall')\n",
    "FOL_20 = read_data(r'C:\\Users\\Ash\\Desktop\\MobiAct_Dataset\\\\Network\\FOL\\FOL_acc_20_1.txt',20,'Forward Lying Fall')\n",
    "FOL_21 = read_data(r'C:\\Users\\Ash\\Desktop\\MobiAct_Dataset\\\\Network\\FOL\\FOL_acc_21_1.txt',21,'Forward Lying Fall')\n",
    "FOL_22 = read_data(r'C:\\Users\\Ash\\Desktop\\MobiAct_Dataset\\\\Network\\FOL\\FOL_acc_22_1.txt',22,'Forward Lying Fall')\n",
    "FOL_23 = read_data(r'C:\\Users\\Ash\\Desktop\\MobiAct_Dataset\\\\Network\\FOL\\FOL_acc_23_1.txt',23,'Forward Lying Fall')\n",
    "FOL_24 = read_data(r'C:\\Users\\Ash\\Desktop\\MobiAct_Dataset\\\\Network\\FOL\\FOL_acc_24_1.txt',24,'Forward Lying Fall')\n",
    "FOL_25 = read_data(r'C:\\Users\\Ash\\Desktop\\MobiAct_Dataset\\\\Network\\FOL\\FOL_acc_25_1.txt',25,'Forward Lying Fall')\n",
    "FOL_26 = read_data(r'C:\\Users\\Ash\\Desktop\\MobiAct_Dataset\\\\Network\\FOL\\FOL_acc_26_1.txt',26,'Forward Lying Fall')\n",
    "FOL_27 = read_data(r'C:\\Users\\Ash\\Desktop\\MobiAct_Dataset\\\\Network\\FOL\\FOL_acc_27_1.txt',27,'Forward Lying Fall')\n",
    "FOL_28 = read_data(r'C:\\Users\\Ash\\Desktop\\MobiAct_Dataset\\\\Network\\FOL\\FOL_acc_28_1.txt',28,'Forward Lying Fall')\n",
    "FOL_29 = read_data(r'C:\\Users\\Ash\\Desktop\\MobiAct_Dataset\\\\Network\\FOL\\FOL_acc_29_1.txt',29,'Forward Lying Fall')\n",
    "FOL_30 = read_data(r'C:\\Users\\Ash\\Desktop\\MobiAct_Dataset\\\\Network\\FOL\\FOL_acc_20_1.txt',30,'Forward Lying Fall')\n",
    "FOL_31 = read_data(r'C:\\Users\\Ash\\Desktop\\MobiAct_Dataset\\\\Network\\FOL\\FOL_acc_31_1.txt',31,'Forward Lying Fall')\n",
    "FOL_32 = read_data(r'C:\\Users\\Ash\\Desktop\\MobiAct_Dataset\\\\Network\\FOL\\FOL_acc_32_1.txt',32,'Forward Lying Fall')\n",
    "FOL_33 = read_data(r'C:\\Users\\Ash\\Desktop\\MobiAct_Dataset\\\\Network\\FOL\\FOL_acc_33_1.txt',33,'Forward Lying Fall')\n",
    "FOL_34 = read_data(r'C:\\Users\\Ash\\Desktop\\MobiAct_Dataset\\\\Network\\FOL\\FOL_acc_34_1.txt',34,'Forward Lying Fall')\n",
    "FOL_35 = read_data(r'C:\\Users\\Ash\\Desktop\\MobiAct_Dataset\\\\Network\\FOL\\FOL_acc_35_1.txt',35,'Forward Lying Fall')\n",
    "FOL_36 = read_data(r'C:\\Users\\Ash\\Desktop\\MobiAct_Dataset\\\\Network\\FOL\\FOL_acc_36_1.txt',36,'Forward Lying Fall')\n",
    "FOL_37 = read_data(r'C:\\Users\\Ash\\Desktop\\MobiAct_Dataset\\\\Network\\FOL\\FOL_acc_37_1.txt',37,'Forward Lying Fall')\n",
    "FOL_38 = read_data(r'C:\\Users\\Ash\\Desktop\\MobiAct_Dataset\\\\Network\\FOL\\FOL_acc_38_1.txt',38,'Forward Lying Fall')\n",
    "FOL_39 = read_data(r'C:\\Users\\Ash\\Desktop\\MobiAct_Dataset\\\\Network\\FOL\\FOL_acc_39_1.txt',39,'Forward Lying Fall')\n",
    "FOL_40 = read_data(r'C:\\Users\\Ash\\Desktop\\MobiAct_Dataset\\\\Network\\FOL\\FOL_acc_40_1.txt',40,'Forward Lying Fall')\n",
    "\n",
    "JOG_1 = read_data(r'C:\\Users\\Ash\\Desktop\\MobiAct_Dataset\\\\Network\\JOG\\JOG_acc_1_1.txt',1,'Jogging')\n",
    "JOG_2 = read_data(r'C:\\Users\\Ash\\Desktop\\MobiAct_Dataset\\\\Network\\JOG\\JOG_acc_2_1.txt',2,'Jogging')\n",
    "JOG_3 = read_data(r'C:\\Users\\Ash\\Desktop\\MobiAct_Dataset\\\\Network\\JOG\\JOG_acc_3_1.txt',3,'Jogging')\n",
    "JOG_4 = read_data(r'C:\\Users\\Ash\\Desktop\\MobiAct_Dataset\\\\Network\\JOG\\JOG_acc_4_1.txt',4,'Jogging')\n",
    "JOG_5 = read_data(r'C:\\Users\\Ash\\Desktop\\MobiAct_Dataset\\\\Network\\JOG\\JOG_acc_5_1.txt',5,'Jogging')\n",
    "JOG_6 = read_data(r'C:\\Users\\Ash\\Desktop\\MobiAct_Dataset\\\\Network\\JOG\\JOG_acc_6_1.txt',6,'Jogging')\n",
    "JOG_7 = read_data(r'C:\\Users\\Ash\\Desktop\\MobiAct_Dataset\\\\Network\\JOG\\JOG_acc_7_1.txt',7,'Jogging')\n",
    "JOG_8 = read_data(r'C:\\Users\\Ash\\Desktop\\MobiAct_Dataset\\\\Network\\JOG\\JOG_acc_8_1.txt',8,'Jogging')\n",
    "JOG_9 = read_data(r'C:\\Users\\Ash\\Desktop\\MobiAct_Dataset\\\\Network\\JOG\\JOG_acc_9_1.txt',9,'Jogging')\n",
    "JOG_10 = read_data(r'C:\\Users\\Ash\\Desktop\\MobiAct_Dataset\\\\Network\\JOG\\JOG_acc_10_1.txt',10,'Jogging')\n",
    "JOG_11 = read_data(r'C:\\Users\\Ash\\Desktop\\MobiAct_Dataset\\\\Network\\JOG\\JOG_acc_11_1.txt',11,'Jogging')\n",
    "JOG_12 = read_data(r'C:\\Users\\Ash\\Desktop\\MobiAct_Dataset\\\\Network\\JOG\\JOG_acc_12_1.txt',12,'Jogging')\n",
    "JOG_13 = read_data(r'C:\\Users\\Ash\\Desktop\\MobiAct_Dataset\\\\Network\\JOG\\JOG_acc_13_1.txt',13,'Jogging')\n",
    "JOG_14 = read_data(r'C:\\Users\\Ash\\Desktop\\MobiAct_Dataset\\\\Network\\JOG\\JOG_acc_14_1.txt',14,'Jogging')\n",
    "JOG_15 = read_data(r'C:\\Users\\Ash\\Desktop\\MobiAct_Dataset\\\\Network\\JOG\\JOG_acc_15_1.txt',15,'Jogging')\n",
    "JOG_16 = read_data(r'C:\\Users\\Ash\\Desktop\\MobiAct_Dataset\\\\Network\\JOG\\JOG_acc_16_1.txt',16,'Jogging')\n",
    "JOG_17 = read_data(r'C:\\Users\\Ash\\Desktop\\MobiAct_Dataset\\\\Network\\JOG\\JOG_acc_17_1.txt',17,'Jogging')\n",
    "JOG_18 = read_data(r'C:\\Users\\Ash\\Desktop\\MobiAct_Dataset\\\\Network\\JOG\\JOG_acc_18_1.txt',18,'Jogging')\n",
    "JOG_19 = read_data(r'C:\\Users\\Ash\\Desktop\\MobiAct_Dataset\\\\Network\\JOG\\JOG_acc_19_1.txt',19,'Jogging')\n",
    "JOG_20 = read_data(r'C:\\Users\\Ash\\Desktop\\MobiAct_Dataset\\\\Network\\JOG\\JOG_acc_20_1.txt',20,'Jogging')\n",
    "JOG_21 = read_data(r'C:\\Users\\Ash\\Desktop\\MobiAct_Dataset\\\\Network\\JOG\\JOG_acc_21_1.txt',21,'Jogging')\n",
    "JOG_22 = read_data(r'C:\\Users\\Ash\\Desktop\\MobiAct_Dataset\\\\Network\\JOG\\JOG_acc_22_1.txt',22,'Jogging')\n",
    "JOG_23 = read_data(r'C:\\Users\\Ash\\Desktop\\MobiAct_Dataset\\\\Network\\JOG\\JOG_acc_23_1.txt',23,'Jogging')\n",
    "JOG_24 = read_data(r'C:\\Users\\Ash\\Desktop\\MobiAct_Dataset\\\\Network\\JOG\\JOG_acc_24_1.txt',24,'Jogging')\n",
    "JOG_25 = read_data(r'C:\\Users\\Ash\\Desktop\\MobiAct_Dataset\\\\Network\\JOG\\JOG_acc_25_1.txt',25,'Jogging')\n",
    "JOG_26 = read_data(r'C:\\Users\\Ash\\Desktop\\MobiAct_Dataset\\\\Network\\JOG\\JOG_acc_26_1.txt',26,'Jogging')\n",
    "JOG_27 = read_data(r'C:\\Users\\Ash\\Desktop\\MobiAct_Dataset\\\\Network\\JOG\\JOG_acc_27_1.txt',27,'Jogging')\n",
    "JOG_28 = read_data(r'C:\\Users\\Ash\\Desktop\\MobiAct_Dataset\\\\Network\\JOG\\JOG_acc_28_1.txt',28,'Jogging')\n",
    "JOG_29 = read_data(r'C:\\Users\\Ash\\Desktop\\MobiAct_Dataset\\\\Network\\JOG\\JOG_acc_29_1.txt',29,'Jogging')\n",
    "JOG_30 = read_data(r'C:\\Users\\Ash\\Desktop\\MobiAct_Dataset\\\\Network\\JOG\\JOG_acc_30_1.txt',30,'Jogging')\n",
    "JOG_31 = read_data(r'C:\\Users\\Ash\\Desktop\\MobiAct_Dataset\\\\Network\\JOG\\JOG_acc_31_1.txt',31,'Jogging')\n",
    "JOG_32 = read_data(r'C:\\Users\\Ash\\Desktop\\MobiAct_Dataset\\\\Network\\JOG\\JOG_acc_32_1.txt',32,'Jogging')\n",
    "JOG_33 = read_data(r'C:\\Users\\Ash\\Desktop\\MobiAct_Dataset\\\\Network\\JOG\\JOG_acc_33_1.txt',33,'Jogging')\n",
    "JOG_34 = read_data(r'C:\\Users\\Ash\\Desktop\\MobiAct_Dataset\\\\Network\\JOG\\JOG_acc_34_1.txt',34,'Jogging')\n",
    "JOG_35 = read_data(r'C:\\Users\\Ash\\Desktop\\MobiAct_Dataset\\\\Network\\JOG\\JOG_acc_35_1.txt',35,'Jogging')\n",
    "JOG_36 = read_data(r'C:\\Users\\Ash\\Desktop\\MobiAct_Dataset\\\\Network\\JOG\\JOG_acc_36_1.txt',36,'Jogging')\n",
    "JOG_37 = read_data(r'C:\\Users\\Ash\\Desktop\\MobiAct_Dataset\\\\Network\\JOG\\JOG_acc_37_1.txt',37,'Jogging')\n",
    "JOG_38 = read_data(r'C:\\Users\\Ash\\Desktop\\MobiAct_Dataset\\\\Network\\JOG\\JOG_acc_38_1.txt',38,'Jogging')\n",
    "JOG_39 = read_data(r'C:\\Users\\Ash\\Desktop\\MobiAct_Dataset\\\\Network\\JOG\\JOG_acc_39_1.txt',39,'Jogging')\n",
    "JOG_40 = read_data(r'C:\\Users\\Ash\\Desktop\\MobiAct_Dataset\\\\Network\\JOG\\JOG_acc_40_1.txt',40,'Jogging')\n",
    "\n",
    "JUM_1 = read_data(r'C:\\Users\\Ash\\Desktop\\MobiAct_Dataset\\\\Network\\JUM\\JUM_acc_1_1.txt',1,'Jumping')\n",
    "JUM_2 = read_data(r'C:\\Users\\Ash\\Desktop\\MobiAct_Dataset\\\\Network\\JUM\\JUM_acc_2_1.txt',2,'Jumping')\n",
    "JUM_3 = read_data(r'C:\\Users\\Ash\\Desktop\\MobiAct_Dataset\\\\Network\\JUM\\JUM_acc_3_1.txt',3,'Jumping')\n",
    "JUM_4 = read_data(r'C:\\Users\\Ash\\Desktop\\MobiAct_Dataset\\\\Network\\JUM\\JUM_acc_4_1.txt',4,'Jumping')\n",
    "JUM_5 = read_data(r'C:\\Users\\Ash\\Desktop\\MobiAct_Dataset\\\\Network\\JUM\\JUM_acc_5_1.txt',5,'Jumping')\n",
    "JUM_6 = read_data(r'C:\\Users\\Ash\\Desktop\\MobiAct_Dataset\\\\Network\\JUM\\JUM_acc_6_1.txt',6,'Jumping')\n",
    "JUM_7 = read_data(r'C:\\Users\\Ash\\Desktop\\MobiAct_Dataset\\\\Network\\JUM\\JUM_acc_7_1.txt',7,'Jumping')\n",
    "JUM_8 = read_data(r'C:\\Users\\Ash\\Desktop\\MobiAct_Dataset\\\\Network\\JUM\\JUM_acc_8_1.txt',8,'Jumping')\n",
    "JUM_9 = read_data(r'C:\\Users\\Ash\\Desktop\\MobiAct_Dataset\\\\Network\\JUM\\JUM_acc_9_1.txt',9,'Jumping')\n",
    "JUM_10 = read_data(r'C:\\Users\\Ash\\Desktop\\MobiAct_Dataset\\\\Network\\JUM\\JUM_acc_10_1.txt',10,'Jumping')\n",
    "JUM_11 = read_data(r'C:\\Users\\Ash\\Desktop\\MobiAct_Dataset\\\\Network\\JUM\\JUM_acc_11_1.txt',11,'Jumping')\n",
    "JUM_12= read_data(r'C:\\Users\\Ash\\Desktop\\MobiAct_Dataset\\\\Network\\JUM\\JUM_acc_12_1.txt',12,'Jumping')\n",
    "JUM_13 = read_data(r'C:\\Users\\Ash\\Desktop\\MobiAct_Dataset\\\\Network\\JUM\\JUM_acc_13_1.txt',13,'Jumping')\n",
    "JUM_14= read_data(r'C:\\Users\\Ash\\Desktop\\MobiAct_Dataset\\\\Network\\JUM\\JUM_acc_14_1.txt',14,'Jumping')\n",
    "JUM_15= read_data(r'C:\\Users\\Ash\\Desktop\\MobiAct_Dataset\\\\Network\\JUM\\JUM_acc_15_1.txt',15,'Jumping')\n",
    "JUM_16= read_data(r'C:\\Users\\Ash\\Desktop\\MobiAct_Dataset\\\\Network\\JUM\\JUM_acc_16_1.txt',16,'Jumping')\n",
    "JUM_17= read_data(r'C:\\Users\\Ash\\Desktop\\MobiAct_Dataset\\\\Network\\JUM\\JUM_acc_17_1.txt',17,'Jumping')\n",
    "JUM_18= read_data(r'C:\\Users\\Ash\\Desktop\\MobiAct_Dataset\\\\Network\\JUM\\JUM_acc_18_1.txt',18,'Jumping')\n",
    "JUM_19= read_data(r'C:\\Users\\Ash\\Desktop\\MobiAct_Dataset\\\\Network\\JUM\\JUM_acc_19_1.txt',19,'Jumping')\n",
    "JUM_20= read_data(r'C:\\Users\\Ash\\Desktop\\MobiAct_Dataset\\\\Network\\JUM\\JUM_acc_20_1.txt',20,'Jumping')\n",
    "JUM_21= read_data(r'C:\\Users\\Ash\\Desktop\\MobiAct_Dataset\\\\Network\\JUM\\JUM_acc_21_1.txt',21,'Jumping')\n",
    "JUM_22= read_data(r'C:\\Users\\Ash\\Desktop\\MobiAct_Dataset\\\\Network\\JUM\\JUM_acc_22_1.txt',22,'Jumping')\n",
    "JUM_23= read_data(r'C:\\Users\\Ash\\Desktop\\MobiAct_Dataset\\\\Network\\JUM\\JUM_acc_23_1.txt',23,'Jumping')\n",
    "JUM_24= read_data(r'C:\\Users\\Ash\\Desktop\\MobiAct_Dataset\\\\Network\\JUM\\JUM_acc_24_1.txt',24,'Jumping')\n",
    "JUM_25= read_data(r'C:\\Users\\Ash\\Desktop\\MobiAct_Dataset\\\\Network\\JUM\\JUM_acc_25_1.txt',25,'Jumping')\n",
    "JUM_26= read_data(r'C:\\Users\\Ash\\Desktop\\MobiAct_Dataset\\\\Network\\JUM\\JUM_acc_26_1.txt',26,'Jumping')\n",
    "JUM_27= read_data(r'C:\\Users\\Ash\\Desktop\\MobiAct_Dataset\\\\Network\\JUM\\JUM_acc_27_1.txt',27,'Jumping')\n",
    "JUM_28= read_data(r'C:\\Users\\Ash\\Desktop\\MobiAct_Dataset\\\\Network\\JUM\\JUM_acc_28_1.txt',28,'Jumping')\n",
    "JUM_29= read_data(r'C:\\Users\\Ash\\Desktop\\MobiAct_Dataset\\\\Network\\JUM\\JUM_acc_29_1.txt',29,'Jumping')\n",
    "JUM_30= read_data(r'C:\\Users\\Ash\\Desktop\\MobiAct_Dataset\\\\Network\\JUM\\JUM_acc_30_1.txt',30,'Jumping')\n",
    "JUM_31= read_data(r'C:\\Users\\Ash\\Desktop\\MobiAct_Dataset\\\\Network\\JUM\\JUM_acc_31_1.txt',31,'Jumping')\n",
    "JUM_32= read_data(r'C:\\Users\\Ash\\Desktop\\MobiAct_Dataset\\\\Network\\JUM\\JUM_acc_32_1.txt',32,'Jumping')\n",
    "JUM_33= read_data(r'C:\\Users\\Ash\\Desktop\\MobiAct_Dataset\\\\Network\\JUM\\JUM_acc_33_1.txt',33,'Jumping')\n",
    "JUM_34= read_data(r'C:\\Users\\Ash\\Desktop\\MobiAct_Dataset\\\\Network\\JUM\\JUM_acc_34_1.txt',34,'Jumping')\n",
    "JUM_35= read_data(r'C:\\Users\\Ash\\Desktop\\MobiAct_Dataset\\\\Network\\JUM\\JUM_acc_35_1.txt',35,'Jumping')\n",
    "JUM_36= read_data(r'C:\\Users\\Ash\\Desktop\\MobiAct_Dataset\\\\Network\\JUM\\JUM_acc_36_1.txt',36,'Jumping')\n",
    "JUM_37= read_data(r'C:\\Users\\Ash\\Desktop\\MobiAct_Dataset\\\\Network\\JUM\\JUM_acc_37_1.txt',37,'Jumping')\n",
    "JUM_38= read_data(r'C:\\Users\\Ash\\Desktop\\MobiAct_Dataset\\\\Network\\JUM\\JUM_acc_38_1.txt',38,'Jumping')\n",
    "JUM_39= read_data(r'C:\\Users\\Ash\\Desktop\\MobiAct_Dataset\\\\Network\\JUM\\JUM_acc_39_1.txt',39,'Jumping')\n",
    "JUM_40= read_data(r'C:\\Users\\Ash\\Desktop\\MobiAct_Dataset\\\\Network\\JUM\\JUM_acc_40_1.txt',40,'Jumping')\n",
    "\n",
    "STD_1 = read_data(r'C:\\Users\\Ash\\Desktop\\MobiAct_Dataset\\\\Network\\STD\\STD_acc_1_1.txt',1,'Standing')\n",
    "STD_2 = read_data(r'C:\\Users\\Ash\\Desktop\\MobiAct_Dataset\\\\Network\\STD\\STD_acc_2_1.txt',2,'Standing')\n",
    "STD_3 = read_data(r'C:\\Users\\Ash\\Desktop\\MobiAct_Dataset\\\\Network\\STD\\STD_acc_3_1.txt',3,'Standing')\n",
    "STD_4 = read_data(r'C:\\Users\\Ash\\Desktop\\MobiAct_Dataset\\\\Network\\STD\\STD_acc_4_1.txt',4,'Standing')\n",
    "STD_5 = read_data(r'C:\\Users\\Ash\\Desktop\\MobiAct_Dataset\\\\Network\\STD\\STD_acc_5_1.txt',5,'Standing')\n",
    "STD_6 = read_data(r'C:\\Users\\Ash\\Desktop\\MobiAct_Dataset\\\\Network\\STD\\STD_acc_6_1.txt',6,'Standing')\n",
    "STD_7 = read_data(r'C:\\Users\\Ash\\Desktop\\MobiAct_Dataset\\\\Network\\STD\\STD_acc_7_1.txt',7,'Standing')\n",
    "STD_8 = read_data(r'C:\\Users\\Ash\\Desktop\\MobiAct_Dataset\\\\Network\\STD\\STD_acc_8_1.txt',8,'Standing')\n",
    "STD_9 = read_data(r'C:\\Users\\Ash\\Desktop\\MobiAct_Dataset\\\\Network\\STD\\STD_acc_9_1.txt',9,'Standing')\n",
    "STD_10= read_data(r'C:\\Users\\Ash\\Desktop\\MobiAct_Dataset\\\\Network\\STD\\STD_acc_10_1.txt',10,'Standing')\n",
    "STD_11= read_data(r'C:\\Users\\Ash\\Desktop\\MobiAct_Dataset\\\\Network\\STD\\STD_acc_11_1.txt',11,'Standing')\n",
    "STD_12= read_data(r'C:\\Users\\Ash\\Desktop\\MobiAct_Dataset\\\\Network\\STD\\STD_acc_12_1.txt',12,'Standing')\n",
    "STD_13= read_data(r'C:\\Users\\Ash\\Desktop\\MobiAct_Dataset\\\\Network\\STD\\STD_acc_13_1.txt',13,'Standing')\n",
    "STD_14= read_data(r'C:\\Users\\Ash\\Desktop\\MobiAct_Dataset\\\\Network\\STD\\STD_acc_14_1.txt',14,'Standing')\n",
    "STD_15= read_data(r'C:\\Users\\Ash\\Desktop\\MobiAct_Dataset\\\\Network\\STD\\STD_acc_15_1.txt',15,'Standing')\n",
    "STD_16= read_data(r'C:\\Users\\Ash\\Desktop\\MobiAct_Dataset\\\\Network\\STD\\STD_acc_16_1.txt',16,'Standing')\n",
    "STD_17= read_data(r'C:\\Users\\Ash\\Desktop\\MobiAct_Dataset\\\\Network\\STD\\STD_acc_17_1.txt',17,'Standing')\n",
    "STD_18= read_data(r'C:\\Users\\Ash\\Desktop\\MobiAct_Dataset\\\\Network\\STD\\STD_acc_18_1.txt',18,'Standing')\n",
    "STD_19= read_data(r'C:\\Users\\Ash\\Desktop\\MobiAct_Dataset\\\\Network\\STD\\STD_acc_19_1.txt',19,'Standing')\n",
    "STD_20= read_data(r'C:\\Users\\Ash\\Desktop\\MobiAct_Dataset\\\\Network\\STD\\STD_acc_20_1.txt',20,'Standing')\n",
    "STD_21= read_data(r'C:\\Users\\Ash\\Desktop\\MobiAct_Dataset\\\\Network\\STD\\STD_acc_21_1.txt',21,'Standing')\n",
    "STD_22= read_data(r'C:\\Users\\Ash\\Desktop\\MobiAct_Dataset\\\\Network\\STD\\STD_acc_22_1.txt',22,'Standing')\n",
    "STD_23= read_data(r'C:\\Users\\Ash\\Desktop\\MobiAct_Dataset\\\\Network\\STD\\STD_acc_23_1.txt',23,'Standing')\n",
    "STD_24= read_data(r'C:\\Users\\Ash\\Desktop\\MobiAct_Dataset\\\\Network\\STD\\STD_acc_24_1.txt',24,'Standing')\n",
    "STD_25= read_data(r'C:\\Users\\Ash\\Desktop\\MobiAct_Dataset\\\\Network\\STD\\STD_acc_25_1.txt',25,'Standing')\n",
    "STD_26= read_data(r'C:\\Users\\Ash\\Desktop\\MobiAct_Dataset\\\\Network\\STD\\STD_acc_26_1.txt',26,'Standing')\n",
    "STD_27= read_data(r'C:\\Users\\Ash\\Desktop\\MobiAct_Dataset\\\\Network\\STD\\STD_acc_27_1.txt',27,'Standing')\n",
    "STD_28= read_data(r'C:\\Users\\Ash\\Desktop\\MobiAct_Dataset\\\\Network\\STD\\STD_acc_28_1.txt',28,'Standing')\n",
    "STD_29= read_data(r'C:\\Users\\Ash\\Desktop\\MobiAct_Dataset\\\\Network\\STD\\STD_acc_29_1.txt',29,'Standing')\n",
    "STD_30= read_data(r'C:\\Users\\Ash\\Desktop\\MobiAct_Dataset\\\\Network\\STD\\STD_acc_30_1.txt',30,'Standing')\n",
    "STD_31= read_data(r'C:\\Users\\Ash\\Desktop\\MobiAct_Dataset\\\\Network\\STD\\STD_acc_31_1.txt',31,'Standing')\n",
    "STD_32= read_data(r'C:\\Users\\Ash\\Desktop\\MobiAct_Dataset\\\\Network\\STD\\STD_acc_32_1.txt',32,'Standing')\n",
    "STD_33= read_data(r'C:\\Users\\Ash\\Desktop\\MobiAct_Dataset\\\\Network\\STD\\STD_acc_33_1.txt',33,'Standing')\n",
    "STD_34= read_data(r'C:\\Users\\Ash\\Desktop\\MobiAct_Dataset\\\\Network\\STD\\STD_acc_34_1.txt',34,'Standing')\n",
    "STD_35= read_data(r'C:\\Users\\Ash\\Desktop\\MobiAct_Dataset\\\\Network\\STD\\STD_acc_35_1.txt',35,'Standing')\n",
    "STD_36= read_data(r'C:\\Users\\Ash\\Desktop\\MobiAct_Dataset\\\\Network\\STD\\STD_acc_36_1.txt',36,'Standing')\n",
    "STD_37= read_data(r'C:\\Users\\Ash\\Desktop\\MobiAct_Dataset\\\\Network\\STD\\STD_acc_37_1.txt',37,'Standing')\n",
    "STD_38= read_data(r'C:\\Users\\Ash\\Desktop\\MobiAct_Dataset\\\\Network\\STD\\STD_acc_38_1.txt',38,'Standing')\n",
    "STD_39= read_data(r'C:\\Users\\Ash\\Desktop\\MobiAct_Dataset\\\\Network\\STD\\STD_acc_39_1.txt',39,'Standing')\n",
    "STD_40= read_data(r'C:\\Users\\Ash\\Desktop\\MobiAct_Dataset\\\\Network\\STD\\STD_acc_40_1.txt',40,'Standing')"
   ]
  },
  {
   "cell_type": "markdown",
   "metadata": {},
   "source": [
    "# Deleting Activities Class from data set and reconstructing activities as FALL"
   ]
  },
  {
   "cell_type": "code",
   "execution_count": 6,
   "metadata": {},
   "outputs": [
    {
     "data": {
      "text/html": [
       "<div>\n",
       "<style scoped>\n",
       "    .dataframe tbody tr th:only-of-type {\n",
       "        vertical-align: middle;\n",
       "    }\n",
       "\n",
       "    .dataframe tbody tr th {\n",
       "        vertical-align: top;\n",
       "    }\n",
       "\n",
       "    .dataframe thead th {\n",
       "        text-align: right;\n",
       "    }\n",
       "</style>\n",
       "<table border=\"1\" class=\"dataframe\">\n",
       "  <thead>\n",
       "    <tr style=\"text-align: right;\">\n",
       "      <th></th>\n",
       "      <th>ID</th>\n",
       "      <th>User</th>\n",
       "      <th>Activity</th>\n",
       "      <th>X</th>\n",
       "      <th>Y</th>\n",
       "      <th>Z</th>\n",
       "    </tr>\n",
       "  </thead>\n",
       "  <tbody>\n",
       "    <tr>\n",
       "      <th>0</th>\n",
       "      <td>2318482693000</td>\n",
       "      <td>1</td>\n",
       "      <td>Fall</td>\n",
       "      <td>0.9</td>\n",
       "      <td>-9.6</td>\n",
       "      <td>-0.0</td>\n",
       "    </tr>\n",
       "    <tr>\n",
       "      <th>1</th>\n",
       "      <td>2318492108000</td>\n",
       "      <td>1</td>\n",
       "      <td>Fall</td>\n",
       "      <td>0.9</td>\n",
       "      <td>-9.6</td>\n",
       "      <td>-0.1</td>\n",
       "    </tr>\n",
       "    <tr>\n",
       "      <th>2</th>\n",
       "      <td>2318503365000</td>\n",
       "      <td>1</td>\n",
       "      <td>Fall</td>\n",
       "      <td>0.9</td>\n",
       "      <td>-9.6</td>\n",
       "      <td>-0.1</td>\n",
       "    </tr>\n",
       "    <tr>\n",
       "      <th>3</th>\n",
       "      <td>2318512831000</td>\n",
       "      <td>1</td>\n",
       "      <td>Fall</td>\n",
       "      <td>0.9</td>\n",
       "      <td>-9.6</td>\n",
       "      <td>-0.0</td>\n",
       "    </tr>\n",
       "    <tr>\n",
       "      <th>4</th>\n",
       "      <td>2318523222000</td>\n",
       "      <td>1</td>\n",
       "      <td>Fall</td>\n",
       "      <td>0.9</td>\n",
       "      <td>-9.6</td>\n",
       "      <td>-0.1</td>\n",
       "    </tr>\n",
       "  </tbody>\n",
       "</table>\n",
       "</div>"
      ],
      "text/plain": [
       "              ID  User Activity   X    Y    Z\n",
       "0  2318482693000     1     Fall 0.9 -9.6 -0.0\n",
       "1  2318492108000     1     Fall 0.9 -9.6 -0.1\n",
       "2  2318503365000     1     Fall 0.9 -9.6 -0.1\n",
       "3  2318512831000     1     Fall 0.9 -9.6 -0.0\n",
       "4  2318523222000     1     Fall 0.9 -9.6 -0.1"
      ]
     },
     "execution_count": 6,
     "metadata": {},
     "output_type": "execute_result"
    }
   ],
   "source": [
    "Fall = [BSC_1,BSC_2,BSC_3,BSC_4,BSC_5,BSC_6,BSC_7,BSC_8,BSC_9,BSC_10,BSC_11,BSC_12,BSC_13,BSC_14,BSC_15,BSC_16,BSC_17,BSC_18,BSC_19,BSC_20,BSC_21,BSC_22,BSC_23,BSC_24,BSC_25,BSC_26,BSC_27,BSC_28,BSC_29,BSC_30,BSC_31,BSC_32,BSC_33,BSC_34,BSC_35,BSC_36,BSC_37,BSC_38,BSC_39,BSC_40,\n",
    "        FKL_1,FKL_2,FKL_3,FKL_4,FKL_5,FKL_6,FKL_7,FKL_8,FKL_9,FKL_10,FKL_11,FKL_12,FKL_13,FKL_14,FKL_15,FKL_16,FKL_17,FKL_18,FKL_19,FKL_20,FKL_21,FKL_22,FKL_23,FKL_24,FKL_25,FKL_26,FKL_27,FKL_28,FKL_29,FKL_30,FKL_31,FKL_32,FKL_33,FKL_34,FKL_35,FKL_36,FKL_37,FKL_38,FKL_39,FKL_40,\n",
    "        FOL_1,FOL_2,FOL_3,FOL_4,FOL_5,FOL_6,FOL_7,FOL_8,FOL_9,FOL_10,FOL_11,FOL_12,FOL_13,FOL_14,FOL_15,FOL_16,FOL_17,FOL_18,FOL_19,FOL_20,FOL_21,FOL_22,FOL_23,FOL_24,FOL_25,FOL_26,FOL_27,FOL_28,FOL_29,FOL_30,FOL_31,FOL_32,FOL_33,FOL_34,FOL_35,FOL_36,FOL_37,FOL_38,FOL_39,FOL_40]\n",
    "storage = []\n",
    "for i in range(len((pd.concat(Fall)).drop(['Activity'],axis=1)['X'])):\n",
    "    a = 'Fall'\n",
    "    storage.append(a)\n",
    "Fall_DataFrame = (pd.concat(Fall)).drop(['Activity'],axis=1)\n",
    "Fall_DataFrame['Activity'] = storage\n",
    "Fall_DataFrame = Fall_DataFrame[['ID','User','Activity','X','Y','Z']]\n",
    "Fall_DataFrame.head()"
   ]
  },
  {
   "cell_type": "markdown",
   "metadata": {},
   "source": [
    "# Deleting Activities Class from data set and reconstructing activities as NON FALL"
   ]
  },
  {
   "cell_type": "code",
   "execution_count": 7,
   "metadata": {},
   "outputs": [
    {
     "data": {
      "text/html": [
       "<div>\n",
       "<style scoped>\n",
       "    .dataframe tbody tr th:only-of-type {\n",
       "        vertical-align: middle;\n",
       "    }\n",
       "\n",
       "    .dataframe tbody tr th {\n",
       "        vertical-align: top;\n",
       "    }\n",
       "\n",
       "    .dataframe thead th {\n",
       "        text-align: right;\n",
       "    }\n",
       "</style>\n",
       "<table border=\"1\" class=\"dataframe\">\n",
       "  <thead>\n",
       "    <tr style=\"text-align: right;\">\n",
       "      <th></th>\n",
       "      <th>ID</th>\n",
       "      <th>User</th>\n",
       "      <th>Activity</th>\n",
       "      <th>X</th>\n",
       "      <th>Y</th>\n",
       "      <th>Z</th>\n",
       "    </tr>\n",
       "  </thead>\n",
       "  <tbody>\n",
       "    <tr>\n",
       "      <th>0</th>\n",
       "      <td>21819438922000</td>\n",
       "      <td>1</td>\n",
       "      <td>Non Fall</td>\n",
       "      <td>-0.5</td>\n",
       "      <td>9.4</td>\n",
       "      <td>1.9</td>\n",
       "    </tr>\n",
       "    <tr>\n",
       "      <th>1</th>\n",
       "      <td>21819638253000</td>\n",
       "      <td>1</td>\n",
       "      <td>Non Fall</td>\n",
       "      <td>-1.2</td>\n",
       "      <td>8.7</td>\n",
       "      <td>3.1</td>\n",
       "    </tr>\n",
       "    <tr>\n",
       "      <th>2</th>\n",
       "      <td>21819838436000</td>\n",
       "      <td>1</td>\n",
       "      <td>Non Fall</td>\n",
       "      <td>-1.5</td>\n",
       "      <td>8.7</td>\n",
       "      <td>2.5</td>\n",
       "    </tr>\n",
       "    <tr>\n",
       "      <th>3</th>\n",
       "      <td>21820038423000</td>\n",
       "      <td>1</td>\n",
       "      <td>Non Fall</td>\n",
       "      <td>1.9</td>\n",
       "      <td>11.9</td>\n",
       "      <td>-3.1</td>\n",
       "    </tr>\n",
       "    <tr>\n",
       "      <th>4</th>\n",
       "      <td>21820238561000</td>\n",
       "      <td>1</td>\n",
       "      <td>Non Fall</td>\n",
       "      <td>0.5</td>\n",
       "      <td>8.8</td>\n",
       "      <td>-1.8</td>\n",
       "    </tr>\n",
       "  </tbody>\n",
       "</table>\n",
       "</div>"
      ],
      "text/plain": [
       "               ID  User  Activity    X    Y    Z\n",
       "0  21819438922000     1  Non Fall -0.5  9.4  1.9\n",
       "1  21819638253000     1  Non Fall -1.2  8.7  3.1\n",
       "2  21819838436000     1  Non Fall -1.5  8.7  2.5\n",
       "3  21820038423000     1  Non Fall  1.9 11.9 -3.1\n",
       "4  21820238561000     1  Non Fall  0.5  8.8 -1.8"
      ]
     },
     "execution_count": 7,
     "metadata": {},
     "output_type": "execute_result"
    }
   ],
   "source": [
    "Non_Fall = [JOG_1,JOG_2,JOG_3,JOG_4,JOG_5,JOG_6,JOG_7,JOG_8,JOG_9,JOG_10,JOG_11,JOG_12,JOG_13,JOG_14,JOG_15,JOG_16,JOG_17,JOG_18,JOG_19,JOG_20,JOG_21,JOG_22,JOG_23,JOG_24,JOG_25,JOG_26,JOG_27,JOG_28,JOG_29,JOG_30,JOG_31,JOG_32,JOG_33,JOG_34,JOG_35,JOG_36,JOG_37,JOG_38,JOG_39,JOG_40,\n",
    "            JUM_1,JUM_2,JUM_3,JUM_4,JUM_5,JUM_6,JUM_7,JUM_8,JUM_9,JUM_10,JUM_11,JUM_12,JUM_13,JUM_14,JUM_15,JUM_16,JUM_17,JUM_18,JUM_19,JUM_20,JUM_21,JUM_22,JUM_23,JUM_24,JUM_25,JUM_26,JUM_27,JUM_28,JUM_29,JUM_30,JUM_31,JUM_32,JUM_33,JUM_34,JUM_35,JUM_36,JUM_37,JUM_38,JUM_39,JUM_40,\n",
    "            STD_1,STD_2,STD_3,STD_4,STD_5,STD_6,STD_7,STD_8,STD_9,STD_10,STD_11,STD_12,STD_13,STD_14,STD_15,STD_16,STD_17,STD_18,STD_19,STD_20,STD_21,STD_22,STD_23,STD_24,STD_25,STD_26,STD_27,STD_28,STD_29,STD_30,STD_31,STD_32,STD_33,STD_34,STD_35,STD_36,STD_37,STD_38,STD_39,STD_40]\n",
    "\n",
    "storage1 = []\n",
    "for i in range(len((pd.concat(Non_Fall)).drop(['Activity'],axis=1)['X'])):\n",
    "    a = 'Non Fall'\n",
    "    storage1.append(a)\n",
    "Non_Fall_DataFrame = (pd.concat(Non_Fall)).drop(['Activity'],axis=1)\n",
    "Non_Fall_DataFrame['Activity'] = storage1\n",
    "Non_Fall_DataFrame = Non_Fall_DataFrame[['ID','User','Activity','X','Y','Z']]\n",
    "Non_Fall_DataFrame.head()"
   ]
  },
  {
   "cell_type": "markdown",
   "metadata": {},
   "source": [
    "# Concatenating the FALL and NON FALL into one DATAFRAME"
   ]
  },
  {
   "cell_type": "code",
   "execution_count": 8,
   "metadata": {},
   "outputs": [
    {
     "data": {
      "text/html": [
       "<div>\n",
       "<style scoped>\n",
       "    .dataframe tbody tr th:only-of-type {\n",
       "        vertical-align: middle;\n",
       "    }\n",
       "\n",
       "    .dataframe tbody tr th {\n",
       "        vertical-align: top;\n",
       "    }\n",
       "\n",
       "    .dataframe thead th {\n",
       "        text-align: right;\n",
       "    }\n",
       "</style>\n",
       "<table border=\"1\" class=\"dataframe\">\n",
       "  <thead>\n",
       "    <tr style=\"text-align: right;\">\n",
       "      <th></th>\n",
       "      <th>ID</th>\n",
       "      <th>User</th>\n",
       "      <th>Activity</th>\n",
       "      <th>X</th>\n",
       "      <th>Y</th>\n",
       "      <th>Z</th>\n",
       "    </tr>\n",
       "  </thead>\n",
       "  <tbody>\n",
       "    <tr>\n",
       "      <th>0</th>\n",
       "      <td>2318482693000</td>\n",
       "      <td>1</td>\n",
       "      <td>Fall</td>\n",
       "      <td>0.9</td>\n",
       "      <td>-9.6</td>\n",
       "      <td>-0.0</td>\n",
       "    </tr>\n",
       "    <tr>\n",
       "      <th>1</th>\n",
       "      <td>2318492108000</td>\n",
       "      <td>1</td>\n",
       "      <td>Fall</td>\n",
       "      <td>0.9</td>\n",
       "      <td>-9.6</td>\n",
       "      <td>-0.1</td>\n",
       "    </tr>\n",
       "    <tr>\n",
       "      <th>2</th>\n",
       "      <td>2318503365000</td>\n",
       "      <td>1</td>\n",
       "      <td>Fall</td>\n",
       "      <td>0.9</td>\n",
       "      <td>-9.6</td>\n",
       "      <td>-0.1</td>\n",
       "    </tr>\n",
       "    <tr>\n",
       "      <th>3</th>\n",
       "      <td>2318512831000</td>\n",
       "      <td>1</td>\n",
       "      <td>Fall</td>\n",
       "      <td>0.9</td>\n",
       "      <td>-9.6</td>\n",
       "      <td>-0.0</td>\n",
       "    </tr>\n",
       "    <tr>\n",
       "      <th>4</th>\n",
       "      <td>2318523222000</td>\n",
       "      <td>1</td>\n",
       "      <td>Fall</td>\n",
       "      <td>0.9</td>\n",
       "      <td>-9.6</td>\n",
       "      <td>-0.1</td>\n",
       "    </tr>\n",
       "  </tbody>\n",
       "</table>\n",
       "</div>"
      ],
      "text/plain": [
       "              ID  User Activity   X    Y    Z\n",
       "0  2318482693000     1     Fall 0.9 -9.6 -0.0\n",
       "1  2318492108000     1     Fall 0.9 -9.6 -0.1\n",
       "2  2318503365000     1     Fall 0.9 -9.6 -0.1\n",
       "3  2318512831000     1     Fall 0.9 -9.6 -0.0\n",
       "4  2318523222000     1     Fall 0.9 -9.6 -0.1"
      ]
     },
     "execution_count": 8,
     "metadata": {},
     "output_type": "execute_result"
    }
   ],
   "source": [
    "df = pd.concat([Fall_DataFrame,Non_Fall_DataFrame])\n",
    "df.head()"
   ]
  },
  {
   "cell_type": "code",
   "execution_count": 9,
   "metadata": {},
   "outputs": [
    {
     "data": {
      "text/html": [
       "<div>\n",
       "<style scoped>\n",
       "    .dataframe tbody tr th:only-of-type {\n",
       "        vertical-align: middle;\n",
       "    }\n",
       "\n",
       "    .dataframe tbody tr th {\n",
       "        vertical-align: top;\n",
       "    }\n",
       "\n",
       "    .dataframe thead th {\n",
       "        text-align: right;\n",
       "    }\n",
       "</style>\n",
       "<table border=\"1\" class=\"dataframe\">\n",
       "  <thead>\n",
       "    <tr style=\"text-align: right;\">\n",
       "      <th></th>\n",
       "      <th>ID</th>\n",
       "      <th>User</th>\n",
       "      <th>Activity</th>\n",
       "      <th>X</th>\n",
       "      <th>Y</th>\n",
       "      <th>Z</th>\n",
       "      <th>ActivityEncoded</th>\n",
       "    </tr>\n",
       "  </thead>\n",
       "  <tbody>\n",
       "    <tr>\n",
       "      <th>0</th>\n",
       "      <td>2318482693000</td>\n",
       "      <td>1</td>\n",
       "      <td>Fall</td>\n",
       "      <td>0.9</td>\n",
       "      <td>-9.6</td>\n",
       "      <td>-0.0</td>\n",
       "      <td>0</td>\n",
       "    </tr>\n",
       "    <tr>\n",
       "      <th>1</th>\n",
       "      <td>2318492108000</td>\n",
       "      <td>1</td>\n",
       "      <td>Fall</td>\n",
       "      <td>0.9</td>\n",
       "      <td>-9.6</td>\n",
       "      <td>-0.1</td>\n",
       "      <td>0</td>\n",
       "    </tr>\n",
       "    <tr>\n",
       "      <th>2</th>\n",
       "      <td>2318503365000</td>\n",
       "      <td>1</td>\n",
       "      <td>Fall</td>\n",
       "      <td>0.9</td>\n",
       "      <td>-9.6</td>\n",
       "      <td>-0.1</td>\n",
       "      <td>0</td>\n",
       "    </tr>\n",
       "    <tr>\n",
       "      <th>3</th>\n",
       "      <td>2318512831000</td>\n",
       "      <td>1</td>\n",
       "      <td>Fall</td>\n",
       "      <td>0.9</td>\n",
       "      <td>-9.6</td>\n",
       "      <td>-0.0</td>\n",
       "      <td>0</td>\n",
       "    </tr>\n",
       "    <tr>\n",
       "      <th>4</th>\n",
       "      <td>2318523222000</td>\n",
       "      <td>1</td>\n",
       "      <td>Fall</td>\n",
       "      <td>0.9</td>\n",
       "      <td>-9.6</td>\n",
       "      <td>-0.1</td>\n",
       "      <td>0</td>\n",
       "    </tr>\n",
       "  </tbody>\n",
       "</table>\n",
       "</div>"
      ],
      "text/plain": [
       "              ID  User Activity   X    Y    Z  ActivityEncoded\n",
       "0  2318482693000     1     Fall 0.9 -9.6 -0.0                0\n",
       "1  2318492108000     1     Fall 0.9 -9.6 -0.1                0\n",
       "2  2318503365000     1     Fall 0.9 -9.6 -0.1                0\n",
       "3  2318512831000     1     Fall 0.9 -9.6 -0.0                0\n",
       "4  2318523222000     1     Fall 0.9 -9.6 -0.1                0"
      ]
     },
     "execution_count": 9,
     "metadata": {},
     "output_type": "execute_result"
    }
   ],
   "source": [
    "#This Code adds an extra column to the dataframe called ActivityEncoded which coverts all fall labels to '0' and non falls to '1'\n",
    "LABEL = 'ActivityEncoded'\n",
    "le = preprocessing.LabelEncoder()\n",
    "df[LABEL] = le.fit_transform(df['Activity'].values.ravel())\n",
    "df.head()\n",
    "#This code splits what users will be used for training and testing \n",
    "df_test = df[df['User'] > 36]\n",
    "df_train = df[df['User'] <= 36]\n",
    "df_train.head()"
   ]
  },
  {
   "cell_type": "markdown",
   "metadata": {},
   "source": [
    "# Data Preprocessing (Attempt 1)"
   ]
  },
  {
   "cell_type": "code",
   "execution_count": 10,
   "metadata": {},
   "outputs": [
    {
     "name": "stdout",
     "output_type": "stream",
     "text": [
      "Number of train spamples:  1088829\n",
      "Number of test spamples:  115227\n"
     ]
    }
   ],
   "source": [
    "print(\"Number of train spamples: \", len(df_train))\n",
    "print(\"Number of test spamples: \", len(df_test))"
   ]
  },
  {
   "cell_type": "code",
   "execution_count": 11,
   "metadata": {},
   "outputs": [],
   "source": [
    "x = df_train[['X','Y','Z']]\n",
    "y = df_train['ActivityEncoded']"
   ]
  },
  {
   "cell_type": "code",
   "execution_count": 12,
   "metadata": {},
   "outputs": [],
   "source": [
    "pca = PCA(n_components=2)\n",
    "pca_components = pca.fit_transform(x)"
   ]
  },
  {
   "cell_type": "code",
   "execution_count": 13,
   "metadata": {},
   "outputs": [],
   "source": [
    "principalDf = pd.DataFrame(data = pca_components\n",
    "             , columns = ['principal component 1', 'principal component 2'])"
   ]
  },
  {
   "cell_type": "code",
   "execution_count": 14,
   "metadata": {},
   "outputs": [
    {
     "data": {
      "text/html": [
       "<div>\n",
       "<style scoped>\n",
       "    .dataframe tbody tr th:only-of-type {\n",
       "        vertical-align: middle;\n",
       "    }\n",
       "\n",
       "    .dataframe tbody tr th {\n",
       "        vertical-align: top;\n",
       "    }\n",
       "\n",
       "    .dataframe thead th {\n",
       "        text-align: right;\n",
       "    }\n",
       "</style>\n",
       "<table border=\"1\" class=\"dataframe\">\n",
       "  <thead>\n",
       "    <tr style=\"text-align: right;\">\n",
       "      <th></th>\n",
       "      <th>principal component 1</th>\n",
       "      <th>principal component 2</th>\n",
       "    </tr>\n",
       "  </thead>\n",
       "  <tbody>\n",
       "    <tr>\n",
       "      <th>0</th>\n",
       "      <td>17.6</td>\n",
       "      <td>0.4</td>\n",
       "    </tr>\n",
       "    <tr>\n",
       "      <th>1</th>\n",
       "      <td>17.6</td>\n",
       "      <td>0.4</td>\n",
       "    </tr>\n",
       "    <tr>\n",
       "      <th>2</th>\n",
       "      <td>17.6</td>\n",
       "      <td>0.5</td>\n",
       "    </tr>\n",
       "    <tr>\n",
       "      <th>3</th>\n",
       "      <td>17.7</td>\n",
       "      <td>0.5</td>\n",
       "    </tr>\n",
       "    <tr>\n",
       "      <th>4</th>\n",
       "      <td>17.7</td>\n",
       "      <td>0.5</td>\n",
       "    </tr>\n",
       "  </tbody>\n",
       "</table>\n",
       "</div>"
      ],
      "text/plain": [
       "   principal component 1  principal component 2\n",
       "0                   17.6                    0.4\n",
       "1                   17.6                    0.4\n",
       "2                   17.6                    0.5\n",
       "3                   17.7                    0.5\n",
       "4                   17.7                    0.5"
      ]
     },
     "execution_count": 14,
     "metadata": {},
     "output_type": "execute_result"
    }
   ],
   "source": [
    "principalDf.head()"
   ]
  },
  {
   "cell_type": "code",
   "execution_count": 15,
   "metadata": {},
   "outputs": [],
   "source": [
    "y = np.array(y)\n",
    "principalDf['ActivityEncoded'] = y"
   ]
  },
  {
   "cell_type": "code",
   "execution_count": 16,
   "metadata": {},
   "outputs": [
    {
     "data": {
      "text/html": [
       "<div>\n",
       "<style scoped>\n",
       "    .dataframe tbody tr th:only-of-type {\n",
       "        vertical-align: middle;\n",
       "    }\n",
       "\n",
       "    .dataframe tbody tr th {\n",
       "        vertical-align: top;\n",
       "    }\n",
       "\n",
       "    .dataframe thead th {\n",
       "        text-align: right;\n",
       "    }\n",
       "</style>\n",
       "<table border=\"1\" class=\"dataframe\">\n",
       "  <thead>\n",
       "    <tr style=\"text-align: right;\">\n",
       "      <th></th>\n",
       "      <th>principal component 1</th>\n",
       "      <th>principal component 2</th>\n",
       "      <th>ActivityEncoded</th>\n",
       "    </tr>\n",
       "  </thead>\n",
       "  <tbody>\n",
       "    <tr>\n",
       "      <th>0</th>\n",
       "      <td>17.6</td>\n",
       "      <td>0.4</td>\n",
       "      <td>0</td>\n",
       "    </tr>\n",
       "    <tr>\n",
       "      <th>1</th>\n",
       "      <td>17.6</td>\n",
       "      <td>0.4</td>\n",
       "      <td>0</td>\n",
       "    </tr>\n",
       "    <tr>\n",
       "      <th>2</th>\n",
       "      <td>17.6</td>\n",
       "      <td>0.5</td>\n",
       "      <td>0</td>\n",
       "    </tr>\n",
       "    <tr>\n",
       "      <th>3</th>\n",
       "      <td>17.7</td>\n",
       "      <td>0.5</td>\n",
       "      <td>0</td>\n",
       "    </tr>\n",
       "    <tr>\n",
       "      <th>4</th>\n",
       "      <td>17.7</td>\n",
       "      <td>0.5</td>\n",
       "      <td>0</td>\n",
       "    </tr>\n",
       "  </tbody>\n",
       "</table>\n",
       "</div>"
      ],
      "text/plain": [
       "   principal component 1  principal component 2  ActivityEncoded\n",
       "0                   17.6                    0.4                0\n",
       "1                   17.6                    0.4                0\n",
       "2                   17.6                    0.5                0\n",
       "3                   17.7                    0.5                0\n",
       "4                   17.7                    0.5                0"
      ]
     },
     "execution_count": 16,
     "metadata": {},
     "output_type": "execute_result"
    }
   ],
   "source": [
    "principalDf.head()"
   ]
  },
  {
   "cell_type": "code",
   "execution_count": null,
   "metadata": {},
   "outputs": [],
   "source": []
  },
  {
   "cell_type": "markdown",
   "metadata": {},
   "source": [
    "# Data Preprocessing (Attempt 2)"
   ]
  },
  {
   "cell_type": "code",
   "execution_count": 17,
   "metadata": {},
   "outputs": [],
   "source": [
    "y_train = df_train[['ActivityEncoded']]\n",
    "x_train = df_train[['X','Y','Z']]\n",
    "y_test = df_test[['ActivityEncoded']]\n",
    "x_test = df_test[['X','Y','Z']]"
   ]
  },
  {
   "cell_type": "code",
   "execution_count": 18,
   "metadata": {},
   "outputs": [],
   "source": [
    "sc = preprocessing.StandardScaler()\n",
    "x_train = sc.fit_transform(x_train)\n",
    "x_test = sc.transform(x_test)"
   ]
  },
  {
   "cell_type": "code",
   "execution_count": 19,
   "metadata": {},
   "outputs": [],
   "source": [
    "pca = PCA(n_components =3)\n",
    "x_train = pca.fit_transform(x_train)\n",
    "x_test = pca.transform(x_test)"
   ]
  },
  {
   "cell_type": "code",
   "execution_count": 20,
   "metadata": {},
   "outputs": [
    {
     "data": {
      "text/plain": [
       "array([0.36951118, 0.32912557, 0.30136325])"
      ]
     },
     "execution_count": 20,
     "metadata": {},
     "output_type": "execute_result"
    }
   ],
   "source": [
    "explained_variance = pca.explained_variance_ratio_\n",
    "explained_variance"
   ]
  },
  {
   "cell_type": "code",
   "execution_count": 22,
   "metadata": {},
   "outputs": [],
   "source": [
    "x_train = pd.DataFrame(x_train)\n",
    "x_train.columns =['principal component 1','principal component 2','principal component 3']\n",
    "x_test = pd.DataFrame(x_test)\n",
    "x_test.columns = ['principal component 1','principal component 2','principal component 3']"
   ]
  },
  {
   "cell_type": "code",
   "execution_count": 23,
   "metadata": {},
   "outputs": [
    {
     "name": "stderr",
     "output_type": "stream",
     "text": [
      "C:\\Users\\Ash\\Anaconda3\\lib\\site-packages\\sklearn\\linear_model\\logistic.py:432: FutureWarning: Default solver will be changed to 'lbfgs' in 0.22. Specify a solver to silence this warning.\n",
      "  FutureWarning)\n",
      "C:\\Users\\Ash\\Anaconda3\\lib\\site-packages\\sklearn\\utils\\validation.py:724: DataConversionWarning: A column-vector y was passed when a 1d array was expected. Please change the shape of y to (n_samples, ), for example using ravel().\n",
      "  y = column_or_1d(y, warn=True)\n"
     ]
    },
    {
     "name": "stdout",
     "output_type": "stream",
     "text": [
      "Accuracy of Logistic regression classifier on training set: 0.93\n",
      "Accuracy of Logistic regression classifier on test set: 0.94\n"
     ]
    }
   ],
   "source": [
    "from sklearn.linear_model import LogisticRegression\n",
    "logreg = LogisticRegression()\n",
    "logreg.fit(x_train, y_train)\n",
    "print('Accuracy of Logistic regression classifier on training set: {:.2f}'\n",
    "     .format(logreg.score(x_train, y_train)))\n",
    "print('Accuracy of Logistic regression classifier on test set: {:.2f}'\n",
    "     .format(logreg.score(x_test, y_test)))"
   ]
  },
  {
   "cell_type": "code",
   "execution_count": 24,
   "metadata": {},
   "outputs": [
    {
     "name": "stdout",
     "output_type": "stream",
     "text": [
      "Accuracy of Decision Tree classifier on training set: 1.00\n",
      "Accuracy of Decision Tree classifier on test set: 0.93\n"
     ]
    }
   ],
   "source": [
    "from sklearn.tree import DecisionTreeClassifier\n",
    "clf = DecisionTreeClassifier().fit(x_train, y_train)\n",
    "print('Accuracy of Decision Tree classifier on training set: {:.2f}'\n",
    "     .format(clf.score(x_train, y_train)))\n",
    "print('Accuracy of Decision Tree classifier on test set: {:.2f}'\n",
    "     .format(clf.score(x_test, y_test)))"
   ]
  },
  {
   "cell_type": "code",
   "execution_count": 25,
   "metadata": {},
   "outputs": [
    {
     "name": "stderr",
     "output_type": "stream",
     "text": [
      "C:\\Users\\Ash\\Anaconda3\\lib\\site-packages\\ipykernel_launcher.py:3: DataConversionWarning: A column-vector y was passed when a 1d array was expected. Please change the shape of y to (n_samples, ), for example using ravel().\n",
      "  This is separate from the ipykernel package so we can avoid doing imports until\n"
     ]
    },
    {
     "name": "stdout",
     "output_type": "stream",
     "text": [
      "Accuracy of K-NN classifier on training set: 0.99\n",
      "Accuracy of K-NN classifier on test set: 0.95\n"
     ]
    }
   ],
   "source": [
    "from sklearn.neighbors import KNeighborsClassifier\n",
    "knn = KNeighborsClassifier()\n",
    "knn.fit(x_train, y_train)\n",
    "print('Accuracy of K-NN classifier on training set: {:.2f}'\n",
    "     .format(knn.score(x_train, y_train)))\n",
    "print('Accuracy of K-NN classifier on test set: {:.2f}'\n",
    "     .format(knn.score(x_test, y_test)))"
   ]
  },
  {
   "cell_type": "code",
   "execution_count": 26,
   "metadata": {},
   "outputs": [
    {
     "name": "stderr",
     "output_type": "stream",
     "text": [
      "C:\\Users\\Ash\\Anaconda3\\lib\\site-packages\\sklearn\\utils\\validation.py:724: DataConversionWarning: A column-vector y was passed when a 1d array was expected. Please change the shape of y to (n_samples, ), for example using ravel().\n",
      "  y = column_or_1d(y, warn=True)\n"
     ]
    },
    {
     "name": "stdout",
     "output_type": "stream",
     "text": [
      "Accuracy of LDA classifier on training set: 0.93\n",
      "Accuracy of LDA classifier on test set: 0.97\n"
     ]
    }
   ],
   "source": [
    "from sklearn.discriminant_analysis import LinearDiscriminantAnalysis\n",
    "lda = LinearDiscriminantAnalysis()\n",
    "lda.fit(x_train, y_train)\n",
    "print('Accuracy of LDA classifier on training set: {:.2f}'\n",
    "     .format(lda.score(x_train, y_train)))\n",
    "print('Accuracy of LDA classifier on test set: {:.2f}'\n",
    "     .format(lda.score(x_test, y_test)))"
   ]
  },
  {
   "cell_type": "code",
   "execution_count": 27,
   "metadata": {},
   "outputs": [
    {
     "name": "stderr",
     "output_type": "stream",
     "text": [
      "C:\\Users\\Ash\\Anaconda3\\lib\\site-packages\\sklearn\\utils\\validation.py:724: DataConversionWarning: A column-vector y was passed when a 1d array was expected. Please change the shape of y to (n_samples, ), for example using ravel().\n",
      "  y = column_or_1d(y, warn=True)\n"
     ]
    },
    {
     "name": "stdout",
     "output_type": "stream",
     "text": [
      "Accuracy of GNB classifier on training set: 0.93\n",
      "Accuracy of GNB classifier on test set: 0.94\n"
     ]
    },
    {
     "name": "stderr",
     "output_type": "stream",
     "text": [
      "C:\\Users\\Ash\\Anaconda3\\lib\\site-packages\\sklearn\\utils\\validation.py:724: DataConversionWarning: A column-vector y was passed when a 1d array was expected. Please change the shape of y to (n_samples, ), for example using ravel().\n",
      "  y = column_or_1d(y, warn=True)\n"
     ]
    },
    {
     "name": "stdout",
     "output_type": "stream",
     "text": [
      "Area under the ROC curve GNB : 0.914146\n"
     ]
    },
    {
     "name": "stderr",
     "output_type": "stream",
     "text": [
      "C:\\Users\\Ash\\Anaconda3\\lib\\site-packages\\sklearn\\utils\\validation.py:724: DataConversionWarning: A column-vector y was passed when a 1d array was expected. Please change the shape of y to (n_samples, ), for example using ravel().\n",
      "  y = column_or_1d(y, warn=True)\n"
     ]
    },
    {
     "name": "stdout",
     "output_type": "stream",
     "text": [
      "Area under the ROC curve GNB : 0.883583\n"
     ]
    },
    {
     "name": "stderr",
     "output_type": "stream",
     "text": [
      "C:\\Users\\Ash\\Anaconda3\\lib\\site-packages\\ipykernel_launcher.py:18: DataConversionWarning: A column-vector y was passed when a 1d array was expected. Please change the shape of y to (n_samples, ), for example using ravel().\n"
     ]
    },
    {
     "name": "stdout",
     "output_type": "stream",
     "text": [
      "Area under the ROC curve KNN : 0.915585\n",
      "Area under the ROC curve Decision Tree Classifier : 0.852312\n"
     ]
    },
    {
     "name": "stderr",
     "output_type": "stream",
     "text": [
      "C:\\Users\\Ash\\Anaconda3\\lib\\site-packages\\sklearn\\linear_model\\logistic.py:432: FutureWarning: Default solver will be changed to 'lbfgs' in 0.22. Specify a solver to silence this warning.\n",
      "  FutureWarning)\n",
      "C:\\Users\\Ash\\Anaconda3\\lib\\site-packages\\sklearn\\utils\\validation.py:724: DataConversionWarning: A column-vector y was passed when a 1d array was expected. Please change the shape of y to (n_samples, ), for example using ravel().\n",
      "  y = column_or_1d(y, warn=True)\n"
     ]
    },
    {
     "name": "stdout",
     "output_type": "stream",
     "text": [
      "Area under the ROC curve Logistic Regression : 0.879387\n"
     ]
    }
   ],
   "source": [
    "from sklearn.naive_bayes import GaussianNB\n",
    "gnb = GaussianNB()\n",
    "gnb.fit(x_train, y_train)\n",
    "print('Accuracy of GNB classifier on training set: {:.2f}'\n",
    "     .format(gnb.score(x_train, y_train)))\n",
    "print('Accuracy of GNB classifier on test set: {:.2f}'\n",
    "     .format(gnb.score(x_test, y_test)))#Gaussian\n",
    "probas_gnb = gnb.fit(x_train, y_train).predict_proba(x_test)\n",
    "fpr_gnb, tpr_gnb, thresholds_gnb = roc_curve(y_test, probas_gnb[:, 1])\n",
    "roc_auc_gnb = auc(fpr_gnb, tpr_gnb)\n",
    "print(\"Area under the ROC curve GNB : %f\" % roc_auc_gnb)\n",
    "#Linear Discriminant Analysis\n",
    "probas_lda = lda.fit(x_train, y_train).predict_proba(x_test)\n",
    "fpr_lda, tpr_lda, thresholds_lda = roc_curve(y_test, probas_lda[:, 1])\n",
    "roc_auc_lda = auc(fpr_lda, tpr_lda)\n",
    "print(\"Area under the ROC curve GNB : %f\" % roc_auc_lda)\n",
    "#KNN\n",
    "probas_knn = knn.fit(x_train, y_train).predict_proba(x_test)\n",
    "fpr_knn, tpr_knn, thresholds_knn = roc_curve(y_test, probas_knn[:, 1])\n",
    "roc_auc_knn = auc(fpr_knn, tpr_knn)\n",
    "print(\"Area under the ROC curve KNN : %f\" % roc_auc_knn)\n",
    "#Decision Tree Classifier\n",
    "probas_clf = clf.fit(x_train, y_train).predict_proba(x_test)\n",
    "fpr_clf, tpr_clf, thresholds_clf = roc_curve(y_test, probas_clf[:, 1])\n",
    "roc_auc_clf = auc(fpr_clf, tpr_clf)\n",
    "print(\"Area under the ROC curve Decision Tree Classifier : %f\" % roc_auc_clf)\n",
    "#Logistic Regression\n",
    "probas_logreg = logreg.fit(x_train, y_train).predict_proba(x_test)\n",
    "fpr_logreg, tpr_logreg, thresholds_logreg = roc_curve(y_test, probas_logreg[:, 1])\n",
    "roc_auc_logreg = auc(fpr_logreg, tpr_logreg)\n",
    "print(\"Area under the ROC curve Logistic Regression : %f\" % roc_auc_logreg)"
   ]
  },
  {
   "cell_type": "code",
   "execution_count": 28,
   "metadata": {},
   "outputs": [
    {
     "data": {
      "image/png": "[encoded data removed]",
      "text/plain": [
       "<Figure size 1440x1440 with 1 Axes>"
      ]
     },
     "metadata": {},
     "output_type": "display_data"
    }
   ],
   "source": [
    "plt.figure(figsize=(20,20))\n",
    "plt.plot(fpr_gnb, tpr_gnb, label='ROC curve GNB (area = %0.2f)' % roc_auc_gnb)\n",
    "plt.plot(fpr_lda, tpr_lda, label='ROC curve LDA (area = %0.2f)' % roc_auc_lda)\n",
    "plt.plot(fpr_knn, tpr_knn, label='ROC curve KNN (area = %0.2f)' % roc_auc_knn)\n",
    "plt.plot(fpr_clf, tpr_clf, label='ROC curve Decision Tree Classifier (area = %0.2f)' % roc_auc_clf)\n",
    "plt.plot(fpr_knn, tpr_knn, label='ROC curve Logistic Regression (area = %0.2f)' % roc_auc_logreg)\n",
    "plt.plot([0, 1], [0, 1], '-')\n",
    "plt.xlabel('False Positive Rate',fontsize=20)\n",
    "plt.ylabel('True Positive Rate',fontsize = 20)\n",
    "plt.title('ROC Curve (RAW DATA - No Normalisation)',fontsize=20)\n",
    "plt.legend(loc=\"lower right\",fontsize=16)\n",
    "plt.show()"
   ]
  },
  {
   "cell_type": "code",
   "execution_count": 50,
   "metadata": {},
   "outputs": [],
   "source": [
    "np.set_printoptions(threshold=np.inf)\n",
    "\n",
    "FKL_44 = read_data(r'C:\\Users\\Ash\\Desktop\\MobiAct_Dataset\\\\Network\\FKL\\FKL_acc_44_1.txt',44,'Forward Knees Fall')\n",
    "BSC_44 = read_data(r'C:\\Users\\Ash\\Desktop\\MobiAct_Dataset\\\\Network\\BSC\\BSC_acc_44_1.txt',44,'Backward Sitting Chair Fall')\n",
    "STD_44= read_data(r'C:\\Users\\Ash\\Desktop\\MobiAct_Dataset\\\\Network\\STD\\STD_acc_44_1.txt',44,'Standing')\n",
    "\n",
    "def prediction_pca(dataFrame):\n",
    "    a = dataFrame\n",
    "    a = a[['X','Y','Z']]\n",
    "    a = sc.transform(a)\n",
    "    a = pca.transform(a)\n",
    "    a = pd.DataFrame(a)\n",
    "    a.columns =['principal component 1','principal component 2','principal component 3']\n",
    "    \n",
    "    predict = knn.predict(a)\n",
    "    \n",
    "  \n",
    "    \n",
    "    return predict\n",
    "    \n",
    "\n"
   ]
  },
  {
   "cell_type": "code",
   "execution_count": 78,
   "metadata": {},
   "outputs": [],
   "source": [
    "def accuracy_test(DataFrame):\n",
    "    if np.sum(prediction_pca(DataFrame))/len(prediction_pca(DataFrame)) >= 0.9:\n",
    "        print('Non-Fall')\n",
    "        y_true = np.ones([len(prediction_pca(DataFrame))])\n",
    "        \n",
    "    if np.sum(prediction_pca(DataFrame))/len(prediction_pca(DataFrame)) < 0.9:\n",
    "        print('Fall')\n",
    "        y_true = np.zeros([len(prediction_pca(DataFrame))])\n",
    "    acc = acc = accuracy_score(y_true, prediction_pca(DataFrame))\n",
    "    return acc , y_true , prediction_pca(DataFrame)\n"
   ]
  },
  {
   "cell_type": "code",
   "execution_count": null,
   "metadata": {},
   "outputs": [],
   "source": []
  },
  {
   "cell_type": "code",
   "execution_count": null,
   "metadata": {},
   "outputs": [],
   "source": []
  },
  {
   "cell_type": "code",
   "execution_count": null,
   "metadata": {},
   "outputs": [],
   "source": []
  },
  {
   "cell_type": "code",
   "execution_count": null,
   "metadata": {},
   "outputs": [],
   "source": [
    "\n"
   ]
  },
  {
   "cell_type": "code",
   "execution_count": null,
   "metadata": {},
   "outputs": [],
   "source": []
  }
 ],
 "metadata": {
  "kernelspec": {
   "display_name": "Python 3",
   "language": "python",
   "name": "python3"
  },
  "language_info": {
   "codemirror_mode": {
    "name": "ipython",
    "version": 3
   },
   "file_extension": ".py",
   "mimetype": "text/x-python",
   "name": "python",
   "nbconvert_exporter": "python",
   "pygments_lexer": "ipython3",
   "version": "3.7.3"
  }
 },
 "nbformat": 4,
 "nbformat_minor": 2
}
