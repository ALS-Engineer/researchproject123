{
 "cells": [
  {
   "cell_type": "code",
   "execution_count": 1,
   "metadata": {},
   "outputs": [
    {
     "data": {
      "text/html": [
       "<style>.container { width:100% !important; }</style>"
      ],
      "text/plain": [
       "<IPython.core.display.HTML object>"
      ]
     },
     "metadata": {},
     "output_type": "display_data"
    }
   ],
   "source": [
    "from IPython.core.display import display, HTML\n",
    "display(HTML(\"<style>.container { width:100% !important; }</style>\"))"
   ]
  },
  {
   "cell_type": "code",
   "execution_count": 2,
   "metadata": {},
   "outputs": [
    {
     "name": "stderr",
     "output_type": "stream",
     "text": [
      "Using TensorFlow backend.\n"
     ]
    }
   ],
   "source": [
    "from matplotlib import pyplot as plt\n",
    "%matplotlib inline\n",
    "\n",
    "import numpy as np\n",
    "import pandas as pd\n",
    "import seaborn as sns\n",
    "from scipy import stats\n",
    "\n",
    "from sklearn import metrics\n",
    "from sklearn.metrics import classification_report\n",
    "from sklearn import preprocessing\n",
    "from sklearn.metrics import roc_curve,roc_auc_score,auc\n",
    "\n",
    "import keras\n",
    "from keras.models import Sequential\n",
    "from keras.layers import Dense, Dropout, Flatten, Reshape\n",
    "from keras.layers import Conv2D, MaxPooling2D\n",
    "from keras.utils import np_utils\n",
    "from keras.models import load_model\n",
    "\n",
    "import sympy as sp"
   ]
  },
  {
   "cell_type": "markdown",
   "metadata": {},
   "source": [
    "# Loading Different Keras Models"
   ]
  },
  {
   "cell_type": "code",
   "execution_count": 3,
   "metadata": {},
   "outputs": [
    {
     "name": "stdout",
     "output_type": "stream",
     "text": [
      "WARNING:tensorflow:From C:\\Users\\Ash\\Anaconda3\\lib\\site-packages\\tensorflow\\python\\framework\\op_def_library.py:263: colocate_with (from tensorflow.python.framework.ops) is deprecated and will be removed in a future version.\n",
      "Instructions for updating:\n",
      "Colocations handled automatically by placer.\n",
      "WARNING:tensorflow:From C:\\Users\\Ash\\Anaconda3\\lib\\site-packages\\tensorflow\\python\\ops\\math_ops.py:3066: to_int32 (from tensorflow.python.ops.math_ops) is deprecated and will be removed in a future version.\n",
      "Instructions for updating:\n",
      "Use tf.cast instead.\n"
     ]
    }
   ],
   "source": [
    "model_XYZ = load_model(r'C:\\Users\\Ash\\Desktop\\Final Year 2nd Semester\\MRN 422\\Jupyter Notebooks\\Final\\Models\\Raw\\Model(XYZ).h5')\n",
    "model_STATS = load_model(r'C:\\Users\\Ash\\Desktop\\Final Year 2nd Semester\\MRN 422\\Jupyter Notebooks\\Final\\Models\\Raw\\Model(STATS).h5')\n",
    "model_XYZ_SMOTE = load_model(r'C:\\Users\\Ash\\Desktop\\Final Year 2nd Semester\\MRN 422\\Jupyter Notebooks\\Final\\Models\\Raw\\Model(XYZ_SMOTE).h5')"
   ]
  },
  {
   "cell_type": "markdown",
   "metadata": {},
   "source": [
    "# Functions"
   ]
  },
  {
   "cell_type": "code",
   "execution_count": 4,
   "metadata": {},
   "outputs": [],
   "source": [
    "LABELS = ['Fall','Non Fall']\n",
    "LABEL = 'ActivityEncoded'\n",
    "TIME_PERIODS = 80\n",
    "STEP_DISTANCE = 40\n",
    "\n",
    "\n",
    "def create_segments_and_labels(df, time_steps, step, label_name):\n",
    "\n",
    "    N_FEATURES = 3\n",
    "    segments = []\n",
    "    labels = []\n",
    "    for i in range(0, len(df) - time_steps, step):\n",
    "        xs = df['Ax'].values[i: i + time_steps]\n",
    "        ys = df['Ay'].values[i: i + time_steps]\n",
    "        zs = df['Az'].values[i: i + time_steps]\n",
    "     \n",
    "        label = stats.mode(df[label_name][i: i + time_steps])[0][0]\n",
    "        segments.append([xs,ys,zs])\n",
    "        labels.append(label)\n",
    "\n",
    "\n",
    "    reshaped_segments = np.asarray(segments, dtype= np.float32).reshape(-1, time_steps, N_FEATURES)\n",
    "    labels = np.asarray(labels)\n",
    "\n",
    "    return reshaped_segments, labels\n",
    "\n",
    "def create_segments_and_labels_stats(df, time_steps, step, label_name):\n",
    "\n",
    "    N_FEATURES = 4\n",
    "    segments = []\n",
    "    labels = []\n",
    "    for i in range(0, len(df) - time_steps, step):\n",
    "        Max = df['Max'].values[i: i + time_steps]\n",
    "        Min = df['Min'].values[i: i + time_steps]\n",
    "#         Mean = df['Mean'].values[i: i + time_steps]\n",
    "#         Median = df['Median'].values[i: i + time_steps]\n",
    "        Std = df['Std'].values[i: i + time_steps]\n",
    "#         Mad = df['Mad'].values[i: i + time_steps]\n",
    "        SMV = df['SMV'].values[i: i + time_steps]\n",
    "        \n",
    "        labs = [Max,Min,Std,SMV]\n",
    "    \n",
    "        label = stats.mode(df[label_name][i: i + time_steps])[0][0]\n",
    "        segments.append(labs)\n",
    "        labels.append(label)\n",
    "        \n",
    "\n",
    "\n",
    "    reshaped_segments = np.asarray(segments, dtype= np.float32).reshape(-1, time_steps, N_FEATURES)\n",
    "    labels = np.asarray(labels)\n",
    "\n",
    "    return reshaped_segments, labels\n",
    "\n",
    "def read_data(file_path,User_number,Activity_class):\n",
    "    User = []\n",
    "    Activity = []\n",
    "    \n",
    "    column_names = ['ID',\n",
    "                    'Ax',\n",
    "                    'Ay',\n",
    "                    'Az',\n",
    "                        ]  \n",
    "    \n",
    "    \n",
    "    df = pd.read_csv(file_path,\n",
    "                     header=None,\n",
    "                     names=column_names)\n",
    "    df = df.drop([0,1,2,3,4,5,6,7,8,9,10,11,12,13],axis = 0)\n",
    "    df = df.reset_index()\n",
    "    df = df.drop(['index'],axis=1)\n",
    "    \n",
    "    for i in range(len(df['Ax'])):\n",
    "        a = User_number\n",
    "        User.append(User_number)\n",
    "    for j in range(len(df['Ax'])):\n",
    "        b = Activity_class\n",
    "        Activity.append(Activity_class)\n",
    "        \n",
    "    df['Activity'] = Activity\n",
    "    df['User'] = User\n",
    "    \n",
    "    df['User'] = df['User'].apply(convert_to_int)\n",
    "    df['Ax'] = df['Ax'].apply(convert_to_float)\n",
    "    df['Ay'] = df['Ay'].apply(convert_to_float)\n",
    "    df['Az'] = df['Az'].apply(convert_to_float)\n",
    "    df = df[['ID','User','Activity','Ax','Ay','Az']]\n",
    "    \n",
    "   \n",
    "    return df\n",
    "\n",
    "def convert_to_float(x):\n",
    "\n",
    "    try:\n",
    "        return np.float(x)\n",
    "    except:\n",
    "        return np.nan\n",
    "\n",
    "def convert_to_int(x):\n",
    "\n",
    "    try:\n",
    "        return np.int(x)\n",
    "    except:\n",
    "        return np.nan\n",
    " "
   ]
  },
  {
   "cell_type": "code",
   "execution_count": 5,
   "metadata": {},
   "outputs": [],
   "source": [
    "#Prediction Function\n",
    "def predictions(model):\n",
    "    a = model\n",
    "    y_pred_ROC = a.predict_proba(x_out)\n",
    "    y_pred_ROC_test = np.argmax(y_pred_ROC, axis=1)\n",
    "    \n",
    "    return y_pred_ROC_test\n",
    "\n",
    "#Output Output 0,1's and length of predicative array\n",
    "def visual(predicative_matrix):\n",
    "    a = predicative_matrix\n",
    "    b = len(a)\n",
    "    \n",
    "    return a,b\n",
    "\n",
    "#Probability Function\n",
    "def probability_fall(a):\n",
    "    b = a\n",
    "    zeros = []\n",
    "    ones = []\n",
    "    for i in range(len(b)):\n",
    "        if y_pred_ROC_test[i] == 0:\n",
    "            zeros.append(i)\n",
    "        if y_pred_ROC_test[i] == 1:\n",
    "            ones.append(i)\n",
    "    prob = (len(zeros))/(len(ones)+len(zeros))\n",
    "    \n",
    "    return prob"
   ]
  },
  {
   "cell_type": "code",
   "execution_count": 23,
   "metadata": {},
   "outputs": [],
   "source": [
    "# 0 is a Fall, 1 is a non fall\n",
    "\n",
    "def load_data():\n",
    "    \n",
    "    \n",
    "    \n",
    "    JUM_40= read_data(r'C:\\Users\\Ash\\Desktop\\MobiAct_Dataset\\\\Network\\JUM\\JUM_acc_40_1.txt',40,'Jumping')\n",
    "    FOL_1 = read_data(r'C:\\Users\\Ash\\Desktop\\MobiAct_Dataset\\\\Network\\FOL\\FOL_acc_1_1.txt',1,'Forward Lying Fall')\n",
    "    JUM_46 = read_data(r'C:\\Users\\Ash\\Desktop\\MobiAct_Dataset\\\\Network\\JUM\\JUM_acc_46_1.txt',46,'Jumping')\n",
    "    JUM_46 = JUM_46[['Ax','Ay','Az']]\n",
    "    Jogging = pd.read_excel(r'C:\\Users\\Ash\\Desktop\\Final Year 2nd Semester\\MRN 422\\Datasets\\Ashton\\Scripted\\Thigh (Pocket)\\Cleaned\\Non-fall\\Jogging.xlsx')\n",
    "    Jogging = Jogging[['Ax','Ay','Az']]\n",
    "    FKL_44 = read_data(r'C:\\Users\\Ash\\Desktop\\MobiAct_Dataset\\\\Network\\FKL\\FKL_acc_44_1.txt',44,'Forward Knees Fall')\n",
    "    \n",
    "#     Jumping = pd.read_excel(r'C:\\Users\\Ash\\Desktop\\Final Year 2nd Semester\\MRN 422\\Datasets\\Ashton\\Scripted\\Thigh (Pocket)\\Cleaned\\Non-fall\\Jumping.xlsx')\n",
    "#     Chair_fall = pd.read_excel(r'C:\\Users\\Ash\\Desktop\\Final Year 2nd Semester\\MRN 422\\Datasets\\Ashton\\Scripted\\Thigh (Pocket)\\Cleaned\\Fall\\Chair fall.xlsx')\n",
    "#     Chair_fall = Chair_fall[['Ax','Ay','Az']]\n",
    "#     Side_fall = pd.read_excel(r'C:\\Users\\Ash\\Desktop\\Final Year 2nd Semester\\MRN 422\\Datasets\\Ashton\\Scripted\\Thigh (Pocket)\\Cleaned\\Fall\\Side fall.xlsx')\n",
    "#     Side_fall = Side_fall[['Ax','Ay','Az']]\n",
    "    \n",
    "#     ##Unseen Data\n",
    "#     ADL = pd.read_excel(r'C:\\Users\\Ash\\Desktop\\Final Year 2nd Semester\\MRN 422\\Datasets\\Ashton\\Unscripted ADL\\Cleaned\\Unscripted ADL.xlsx')\n",
    "#     ADL = ADL[['X','Y','Z']]\n",
    "    \n",
    "    return dws\n"
   ]
  },
  {
   "cell_type": "code",
   "execution_count": null,
   "metadata": {},
   "outputs": [],
   "source": []
  },
  {
   "cell_type": "code",
   "execution_count": 24,
   "metadata": {},
   "outputs": [
    {
     "data": {
      "text/html": [
       "<div>\n",
       "<style scoped>\n",
       "    .dataframe tbody tr th:only-of-type {\n",
       "        vertical-align: middle;\n",
       "    }\n",
       "\n",
       "    .dataframe tbody tr th {\n",
       "        vertical-align: top;\n",
       "    }\n",
       "\n",
       "    .dataframe thead th {\n",
       "        text-align: right;\n",
       "    }\n",
       "</style>\n",
       "<table border=\"1\" class=\"dataframe\">\n",
       "  <thead>\n",
       "    <tr style=\"text-align: right;\">\n",
       "      <th></th>\n",
       "      <th>Ax</th>\n",
       "      <th>Ay</th>\n",
       "      <th>Az</th>\n",
       "      <th>Max</th>\n",
       "      <th>Min</th>\n",
       "      <th>Mean</th>\n",
       "      <th>Median</th>\n",
       "      <th>Std</th>\n",
       "      <th>Mad</th>\n",
       "      <th>SMV</th>\n",
       "    </tr>\n",
       "  </thead>\n",
       "  <tbody>\n",
       "    <tr>\n",
       "      <th>0</th>\n",
       "      <td>0.525208</td>\n",
       "      <td>0.584137</td>\n",
       "      <td>-0.381042</td>\n",
       "      <td>0.584137</td>\n",
       "      <td>-0.381042</td>\n",
       "      <td>0.242768</td>\n",
       "      <td>0.525208</td>\n",
       "      <td>0.541038</td>\n",
       "      <td>0.415873</td>\n",
       "      <td>0.873071</td>\n",
       "    </tr>\n",
       "    <tr>\n",
       "      <th>1</th>\n",
       "      <td>0.373001</td>\n",
       "      <td>0.577896</td>\n",
       "      <td>-0.201477</td>\n",
       "      <td>0.577896</td>\n",
       "      <td>-0.201477</td>\n",
       "      <td>0.249807</td>\n",
       "      <td>0.373001</td>\n",
       "      <td>0.404027</td>\n",
       "      <td>0.300856</td>\n",
       "      <td>0.716719</td>\n",
       "    </tr>\n",
       "    <tr>\n",
       "      <th>2</th>\n",
       "      <td>0.430847</td>\n",
       "      <td>0.844421</td>\n",
       "      <td>0.284988</td>\n",
       "      <td>0.844421</td>\n",
       "      <td>0.284988</td>\n",
       "      <td>0.520085</td>\n",
       "      <td>0.430847</td>\n",
       "      <td>0.290196</td>\n",
       "      <td>0.216224</td>\n",
       "      <td>0.989896</td>\n",
       "    </tr>\n",
       "    <tr>\n",
       "      <th>3</th>\n",
       "      <td>0.217880</td>\n",
       "      <td>1.111359</td>\n",
       "      <td>0.381912</td>\n",
       "      <td>1.111359</td>\n",
       "      <td>0.217880</td>\n",
       "      <td>0.570384</td>\n",
       "      <td>0.381912</td>\n",
       "      <td>0.475623</td>\n",
       "      <td>0.360650</td>\n",
       "      <td>1.195177</td>\n",
       "    </tr>\n",
       "    <tr>\n",
       "      <th>4</th>\n",
       "      <td>0.169601</td>\n",
       "      <td>0.977951</td>\n",
       "      <td>0.148376</td>\n",
       "      <td>0.977951</td>\n",
       "      <td>0.148376</td>\n",
       "      <td>0.431976</td>\n",
       "      <td>0.169601</td>\n",
       "      <td>0.472947</td>\n",
       "      <td>0.363983</td>\n",
       "      <td>1.003578</td>\n",
       "    </tr>\n",
       "  </tbody>\n",
       "</table>\n",
       "</div>"
      ],
      "text/plain": [
       "         Ax        Ay        Az       Max       Min      Mean    Median  \\\n",
       "0  0.525208  0.584137 -0.381042  0.584137 -0.381042  0.242768  0.525208   \n",
       "1  0.373001  0.577896 -0.201477  0.577896 -0.201477  0.249807  0.373001   \n",
       "2  0.430847  0.844421  0.284988  0.844421  0.284988  0.520085  0.430847   \n",
       "3  0.217880  1.111359  0.381912  1.111359  0.217880  0.570384  0.381912   \n",
       "4  0.169601  0.977951  0.148376  0.977951  0.148376  0.431976  0.169601   \n",
       "\n",
       "        Std       Mad       SMV  \n",
       "0  0.541038  0.415873  0.873071  \n",
       "1  0.404027  0.300856  0.716719  \n",
       "2  0.290196  0.216224  0.989896  \n",
       "3  0.475623  0.360650  1.195177  \n",
       "4  0.472947  0.363983  1.003578  "
      ]
     },
     "execution_count": 24,
     "metadata": {},
     "output_type": "execute_result"
    }
   ],
   "source": [
    "df_sig = load_data()\n",
    "\n",
    "df_raw = df_sig[['Ax','Ay','Az']]\n",
    "\n",
    "df_max = df_raw.max(axis=1)\n",
    "df_max = pd.DataFrame(df_max,columns=['Max'])\n",
    "\n",
    "df_min = df_raw.min(axis=1)\n",
    "df_min = pd.DataFrame(df_min,columns=['Min'])\n",
    "\n",
    "df_mean = np. mean(df_raw,axis=1)\n",
    "df_mean = pd.DataFrame(df_mean,columns=['Mean'])\n",
    "\n",
    "df_median = df_raw.median(axis=1)\n",
    "df_median = pd.DataFrame(df_median,columns=['Median'])\n",
    "\n",
    "df_std = df_raw.std(axis=1)\n",
    "df_std = pd.DataFrame(df_std,columns=['Std'])\n",
    "\n",
    "df_mad = df_raw.mad(axis=1)\n",
    "df_mad = pd.DataFrame(df_mad,columns=['Mad'])\n",
    "\n",
    "df_smv = np.sqrt(df_raw['Ax']**2 + df_raw['Ay']**2 + df_raw['Az']**2 )\n",
    "df_smv = pd.DataFrame(df_smv,columns=['SMV'])\n",
    "\n",
    "\n",
    "\n",
    "df_stat = pd.concat([df_raw,df_max,df_min,df_mean,df_median,df_std,df_mad,df_smv],axis=1)\n",
    "\n",
    "df = df_stat\n",
    "df.head()"
   ]
  },
  {
   "cell_type": "code",
   "execution_count": 25,
   "metadata": {},
   "outputs": [],
   "source": [
    "#Raw Signals\n",
    "x_out, y_out = create_segments_and_labels(df,\n",
    "                                              TIME_PERIODS,\n",
    "                                              STEP_DISTANCE,\n",
    "                                              'Ax')\n",
    "num_time_periods2, num_sensors2 = x_out.shape[1], x_out.shape[2]\n",
    "input_shape2 = (num_time_periods2*num_sensors2)\n",
    "x_out = x_out.reshape(x_out.shape[0], input_shape2)\n",
    "x_out = x_out.astype('float32')\n",
    "\n",
    "# #Stats Signals\n",
    "# x_out, y_out = create_segments_and_labels_stats(df,\n",
    "#                                               TIME_PERIODS,\n",
    "#                                               STEP_DISTANCE,\n",
    "#                                               'Ax')\n",
    "# num_time_periods2, num_sensors2 = x_out.shape[1], x_out.shape[2]\n",
    "# input_shape2 = (num_time_periods2*num_sensors2)\n",
    "# x_out = x_out.reshape(x_out.shape[0], input_shape2)\n",
    "# x_out = x_out.astype('float32')"
   ]
  },
  {
   "cell_type": "code",
   "execution_count": 26,
   "metadata": {},
   "outputs": [],
   "source": [
    "y_pred_ROC_test = predictions(model_XYZ)"
   ]
  },
  {
   "cell_type": "code",
   "execution_count": 27,
   "metadata": {},
   "outputs": [
    {
     "name": "stdout",
     "output_type": "stream",
     "text": [
      "Probability of a Fall: 76.74418604651163 %\n"
     ]
    }
   ],
   "source": [
    "print('Probability of a Fall:',(probability_fall(visual(y_pred_ROC_test)[0]))*100,'%')"
   ]
  },
  {
   "cell_type": "code",
   "execution_count": 28,
   "metadata": {},
   "outputs": [
    {
     "data": {
      "image/png": "[encoded data removed]",
      "text/plain": [
       "<Figure size 2880x1080 with 1 Axes>"
      ]
     },
     "metadata": {
      "needs_background": "light"
     },
     "output_type": "display_data"
    }
   ],
   "source": [
    "a = int((df.shape[0])/(visual(y_pred_ROC_test)[1]))\n",
    "b = a\n",
    "\n",
    "red = 0\n",
    "blue = 1\n",
    "red_line = 'r-'\n",
    "blue_line = 'b-'\n",
    "\n",
    "steps =[]\n",
    "\n",
    "for i in range(visual(y_pred_ROC_test)[1]):\n",
    "    a = a + b\n",
    "    steps.append(a)\n",
    "    \n",
    "for i in range(len(steps)):\n",
    "    \n",
    "    plt.figure(num = 1,figsize=(40,15))\n",
    "    \n",
    "    if visual(y_pred_ROC_test)[0][i] == red:\n",
    "#         plt.title(str(visual(y_pred_ROC_test)[0][i]))\n",
    "        plt.grid('Fine')\n",
    "        plt.ylim([-90,90])\n",
    "        plt.plot(df['SMV'][steps[i-1]:steps[i]],red_line)\n",
    "    \n",
    "    elif visual(y_pred_ROC_test)[0][i] == blue:\n",
    "#         plt.title(str(visual(y_pred_ROC_test)[0][i]))\n",
    "        plt.grid('Fine',)\n",
    "        plt.ylim([-90,90])\n",
    "        plt.plot(df['SMV'][steps[i-1]:steps[i]],blue_line)\n"
   ]
  },
  {
   "cell_type": "code",
   "execution_count": null,
   "metadata": {},
   "outputs": [],
   "source": [
    "print('Predicative Array :',visual(y_pred_ROC_test)[0])\n",
    "print('Number of Sliding Windows :',visual(y_pred_ROC_test)[1])\n",
    "print('Probability of a Fall:',(probability_fall(visual(y_pred_ROC_test)[0]))*100,'%')"
   ]
  },
  {
   "cell_type": "code",
   "execution_count": null,
   "metadata": {},
   "outputs": [],
   "source": []
  }
 ],
 "metadata": {
  "kernelspec": {
   "display_name": "Python 3",
   "language": "python",
   "name": "python3"
  },
  "language_info": {
   "codemirror_mode": {
    "name": "ipython",
    "version": 3
   },
   "file_extension": ".py",
   "mimetype": "text/x-python",
   "name": "python",
   "nbconvert_exporter": "python",
   "pygments_lexer": "ipython3",
   "version": "3.7.3"
  }
 },
 "nbformat": 4,
 "nbformat_minor": 2
}
