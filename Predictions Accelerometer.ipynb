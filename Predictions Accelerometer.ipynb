{
 "cells": [
  {
   "cell_type": "code",
   "execution_count": 1,
   "metadata": {},
   "outputs": [
    {
     "data": {
      "text/html": [
       "<style>.container { width:100% !important; }</style>"
      ],
      "text/plain": [
       "<IPython.core.display.HTML object>"
      ]
     },
     "metadata": {},
     "output_type": "display_data"
    }
   ],
   "source": [
    "from IPython.core.display import display, HTML\n",
    "display(HTML(\"<style>.container { width:100% !important; }</style>\"))"
   ]
  },
  {
   "cell_type": "code",
   "execution_count": 2,
   "metadata": {},
   "outputs": [
    {
     "name": "stderr",
     "output_type": "stream",
     "text": [
      "Using TensorFlow backend.\n"
     ]
    }
   ],
   "source": [
    "from matplotlib import pyplot as plt\n",
    "%matplotlib inline\n",
    "\n",
    "import numpy as np\n",
    "import pandas as pd\n",
    "import seaborn as sns\n",
    "from scipy import stats\n",
    "\n",
    "from sklearn import metrics\n",
    "from sklearn.metrics import classification_report\n",
    "from sklearn import preprocessing\n",
    "from sklearn.metrics import roc_curve,roc_auc_score,auc\n",
    "\n",
    "import keras\n",
    "from keras.models import Sequential\n",
    "from keras.layers import Dense, Dropout, Flatten, Reshape\n",
    "from keras.layers import Conv2D, MaxPooling2D\n",
    "from keras.utils import np_utils\n",
    "from keras.models import load_model\n",
    "\n",
    "import sympy as sp"
   ]
  },
  {
   "cell_type": "code",
   "execution_count": 3,
   "metadata": {},
   "outputs": [],
   "source": [
    "LABELS = ['Fall','Non Fall']\n",
    "LABEL = 'ActivityEncoded'\n",
    "TIME_PERIODS = 80\n",
    "STEP_DISTANCE = 40\n",
    "\n",
    "\n",
    "def create_segments_and_labels(df, time_steps, step, label_name):\n",
    "\n",
    "    N_FEATURES = 3\n",
    "    segments = []\n",
    "    labels = []\n",
    "    for i in range(0, len(df) - time_steps, step):\n",
    "        xs = df['Ax'].values[i: i + time_steps]\n",
    "        ys = df['Ay'].values[i: i + time_steps]\n",
    "        zs = df['Az'].values[i: i + time_steps]\n",
    "     \n",
    "        label = stats.mode(df[label_name][i: i + time_steps])[0][0]\n",
    "        segments.append([xs,ys,zs])\n",
    "        labels.append(label)\n",
    "\n",
    "\n",
    "    reshaped_segments = np.asarray(segments, dtype= np.float32).reshape(-1, time_steps, N_FEATURES)\n",
    "    labels = np.asarray(labels)\n",
    "\n",
    "    return reshaped_segments, labels\n",
    "\n",
    "def create_segments_and_labels_stats(df, time_steps, step, label_name):\n",
    "\n",
    "    N_FEATURES = 4\n",
    "    segments = []\n",
    "    labels = []\n",
    "    for i in range(0, len(df) - time_steps, step):\n",
    "        Ax = df['Ax'].values[i: i + time_steps]\n",
    "        Ay = df['Ay'].values[i: i + time_steps]\n",
    "        Az = df['Az'].values[i: i + time_steps]\n",
    "#         Max = df['Max'].values[i: i + time_steps]\n",
    "#         Min = df['Min'].values[i: i + time_steps]\n",
    "#         Mean = df['Mean'].values[i: i + time_steps]\n",
    "#         Median = df['Median'].values[i: i + time_steps]\n",
    "#         Std = df['Std'].values[i: i + time_steps]\n",
    "#         Mad = df['Mad'].values[i: i + time_steps]\n",
    "        SMV = df['SMV'].values[i: i + time_steps]\n",
    "        \n",
    "        labs = [Ax,Ay,Az,SMV]\n",
    "    \n",
    "        label = stats.mode(df[label_name][i: i + time_steps])[0][0]\n",
    "        segments.append(labs)\n",
    "        labels.append(label)\n",
    "        \n",
    "\n",
    "\n",
    "    reshaped_segments = np.asarray(segments, dtype= np.float32).reshape(-1, time_steps, N_FEATURES)\n",
    "    labels = np.asarray(labels)\n",
    "\n",
    "    return reshaped_segments, labels\n",
    "\n",
    "def read_data(file_path,User_number,Activity_class):\n",
    "    User = []\n",
    "    Activity = []\n",
    "    \n",
    "    column_names = ['ID',\n",
    "                    'Ax',\n",
    "                    'Ay',\n",
    "                    'Az',\n",
    "                        ]  \n",
    "    \n",
    "    \n",
    "    df = pd.read_csv(file_path,\n",
    "                     header=None,\n",
    "                     names=column_names)\n",
    "    df = df.drop([0,1,2,3,4,5,6,7,8,9,10,11,12,13],axis = 0)\n",
    "    df = df.reset_index()\n",
    "    df = df.drop(['index'],axis=1)\n",
    "    \n",
    "    for i in range(len(df['Ax'])):\n",
    "        a = User_number\n",
    "        User.append(User_number)\n",
    "    for j in range(len(df['Ax'])):\n",
    "        b = Activity_class\n",
    "        Activity.append(Activity_class)\n",
    "        \n",
    "    df['Activity'] = Activity\n",
    "    df['User'] = User\n",
    "    \n",
    "    df['User'] = df['User'].apply(convert_to_int)\n",
    "    df['Ax'] = df['Ax'].apply(convert_to_float)\n",
    "    df['Ay'] = df['Ay'].apply(convert_to_float)\n",
    "    df['Az'] = df['Az'].apply(convert_to_float)\n",
    "    df = df[['ID','User','Activity','Ax','Ay','Az']]\n",
    "    \n",
    "   \n",
    "    return df\n",
    "\n",
    "def convert_to_float(x):\n",
    "\n",
    "    try:\n",
    "        return np.float(x)\n",
    "    except:\n",
    "        return np.nan\n",
    "\n",
    "def convert_to_int(x):\n",
    "\n",
    "    try:\n",
    "        return np.int(x)\n",
    "    except:\n",
    "        return np.nan\n",
    " "
   ]
  },
  {
   "cell_type": "code",
   "execution_count": 4,
   "metadata": {},
   "outputs": [],
   "source": [
    "#Prediction Function\n",
    "def predictions(model):\n",
    "    a = model\n",
    "    y_pred_ROC = a.predict_proba(x_out)\n",
    "    y_pred_ROC_test = np.argmax(y_pred_ROC, axis=1)\n",
    "    \n",
    "    return y_pred_ROC_test\n",
    "\n",
    "#Output Output 0,1's and length of predicative array\n",
    "def visual(predicative_matrix):\n",
    "    a = predicative_matrix\n",
    "    b = len(a)\n",
    "    \n",
    "    return a,b\n",
    "\n",
    "#Probability Function\n",
    "def probability_fall(a):\n",
    "    b = a\n",
    "    zeros = []\n",
    "    ones = []\n",
    "    for i in range(len(b)):\n",
    "        if y_pred_ROC_test[i] == 0:\n",
    "            zeros.append(i)\n",
    "        if y_pred_ROC_test[i] == 1:\n",
    "            ones.append(i)\n",
    "    prob = (len(zeros))/(len(ones)+len(zeros))\n",
    "    \n",
    "    return prob"
   ]
  },
  {
   "cell_type": "code",
   "execution_count": 83,
   "metadata": {},
   "outputs": [],
   "source": [
    "# 0 is a Fall, 1 is a non fall\n",
    "\n",
    "def load_data():\n",
    "    \n",
    "    \n",
    "    \n",
    "    JUM_40= read_data(r'C:\\Users\\Ash\\Desktop\\MobiAct_Dataset\\\\Network\\JUM\\JUM_acc_40_1.txt',40,'Jumping')\n",
    "    FOL_1 = read_data(r'C:\\Users\\Ash\\Desktop\\MobiAct_Dataset\\\\Network\\FOL\\FOL_acc_1_1.txt',1,'Forward Lying Fall')\n",
    "    JUM_46 = read_data(r'C:\\Users\\Ash\\Desktop\\MobiAct_Dataset\\\\Network\\JUM\\JUM_acc_46_1.txt',46,'Jumping')\n",
    "    JUM_46 = JUM_46[['Ax','Ay','Az']]\n",
    "    Jogging = pd.read_excel(r'C:\\Users\\Ash\\Desktop\\Final Year 2nd Semester\\MRN 422\\Datasets\\Ashton\\Scripted\\Thigh (Pocket)\\Cleaned\\Non-fall\\Jogging.xlsx')\n",
    "    Jogging = Jogging[['Ax','Ay','Az']]\n",
    "    FKL_44 = read_data(r'C:\\Users\\Ash\\Desktop\\MobiAct_Dataset\\\\Network\\FKL\\FKL_acc_44_1.txt',44,'Forward Knees Fall')\n",
    "    Jumping = pd.read_excel(r'C:\\Users\\Ash\\Desktop\\Final Year 2nd Semester\\MRN 422\\Datasets\\Ashton\\Scripted\\Thigh (Pocket)\\Cleaned\\Non-fall\\Jumping.xlsx')\n",
    "    Chair_fall = pd.read_excel(r'C:\\Users\\Ash\\Desktop\\Final Year 2nd Semester\\MRN 422\\Datasets\\Ashton\\Scripted\\Thigh (Pocket)\\Cleaned\\Fall\\Chair fall.xlsx')\n",
    "    Chair_fall = Chair_fall[['Ax','Ay','Az']]\n",
    "    Side_fall = pd.read_excel(r'C:\\Users\\Ash\\Desktop\\Final Year 2nd Semester\\MRN 422\\Datasets\\Ashton\\Scripted\\Thigh (Pocket)\\Cleaned\\Fall\\Side fall.xlsx')\n",
    "    Side_fall = Side_fall[['Ax','Ay','Az']]\n",
    "    Forward_Fall = pd.read_excel(r'C:\\Users\\Ash\\Desktop\\Final Year 2nd Semester\\MRN 422\\Datasets\\Ashton\\Scripted\\Thigh (Pocket)\\Cleaned\\Fall\\Forward Fall.xlsx')\n",
    "    Forward_Fall = Forward_Fall[['Ax','Ay','Az']]\n",
    "    Knees_fall = pd.read_excel(r'C:\\Users\\Ash\\Desktop\\Final Year 2nd Semester\\MRN 422\\Datasets\\Ashton\\Scripted\\Thigh (Pocket)\\Cleaned\\Fall\\Knees fall.xlsx')\n",
    "    Knees_fall = Knees_fall[['Ax','Ay','Az']]\n",
    "    dws = pd.read_csv(r'C:\\Users\\Ash\\Desktop\\B_Accelerometer_data\\dws_1\\sub_1.csv')\n",
    "    dws.columns = ['unamed', 'Ax','Ay', 'Az']\n",
    "    jog = pd.read_csv(r'C:\\Users\\Ash\\Desktop\\B_Accelerometer_data\\jog_9\\sub_1.csv')\n",
    "    jog.columns = ['unamed', 'Ax','Ay', 'Az']\n",
    "    walking = pd.read_csv(r'C:\\Users\\Ash\\Desktop\\test data\\walkingdata.csv',delimiter=\";\", decimal=\",\")\n",
    "    jog_test = pd.read_csv(r'C:\\Users\\Ash\\Desktop\\test data\\Jogging.csv',delimiter=\";\", decimal=\",\")\n",
    "    jog_test.columns = ['Time','Ax','Ay','Az']\n",
    "    activity = pd.read_csv(r'C:\\Users\\Ash\\Desktop\\test data\\activity.csv',delimiter=\";\", decimal=\",\")\n",
    "    activity.columns = ['Time','Ax','Ay','Az']\n",
    "    fall_forward = pd.read_csv(r'C:\\Users\\Ash\\Desktop\\test data\\fallforward.csv',delimiter=\";\", decimal=\",\")\n",
    "    fall_forward.columns = ['Time','Ax','Ay','Az']\n",
    "    falling = pd.read_csv(r'C:\\Users\\Ash\\Desktop\\test data\\falling.csv',delimiter=\";\", decimal=\",\")\n",
    "    falling.columns = ['Time','Ax','Ay','Az']\n",
    "   \n",
    "#     data = pd.read_csv(r'C:\\Users\\Ash\\Desktop\\WISDM_ar_v1.1\\WISDM_ar_v1.1_raw.txt',header=None)\n",
    "#     data.columns = ['User','Activity','Ax','Ay','Az']\n",
    "    ##Unseen Data\n",
    "#     ADL = pd.read_excel(r'C:\\Users\\Ash\\Desktop\\Final Year 2nd Semester\\MRN 422\\Datasets\\Ashton\\Unscripted ADL\\Cleaned\\Unscripted ADL.xlsx')\n",
    "#     ADL = ADL[['Ax','Ay','Az']]\n",
    "    \n",
    "    return falling\n",
    "\n",
    "def scaling(type_of_scaling_method,df):\n",
    "    \n",
    "    df_A_before = df\n",
    "    \n",
    "    #Z-score normalisation\n",
    "    if type_of_scaling_method == 0:\n",
    "        df_A_before['Ax'] = (df_A_before['Ax'] - np.mean(df_A_before['Ax']))/(np.std(df_A_before['Ax']))\n",
    "        df_A_before['Ay'] = (df_A_before['Ay'] - np.mean(df_A_before['Ay']))/(np.std(df_A_before['Ay']))\n",
    "        df_A_before['Az'] = (df_A_before['Az'] - np.mean(df_A_before['Az']))/(np.std(df_A_before['Az']))\n",
    "        \n",
    "    # Min – Max Normalization\n",
    "    if type_of_scaling_method == 1:\n",
    "        df_A_before['Ax'] = (df_A_before['Ax'] - df_A_before['Ax'].min())/(df_A_before['Ax'].max() - df_A_before['Ax'].min())\n",
    "        df_A_before['Ay'] = (df_A_before['Ay'] - df_A_before['Ay'].min())/(df_A_before['Ay'].max() - df_A_before['Ay'].min())\n",
    "        df_A_before['Az'] = (df_A_before['Az'] - df_A_before['Az'].min())/(df_A_before['Az'].max() - df_A_before['Az'].min())\n",
    "        \n",
    "    \n",
    "    #Normalisation\n",
    "    if type_of_scaling_method == 2:\n",
    "        df_A_before['Ax'] = df_A_before['Ax']/df_A_before['Ax'].max()\n",
    "        df_A_before['Ay'] = df_A_before['Ay']/df_A_before['Ay'].max()\n",
    "        df_A_before['Az'] = df_A_before['Az']/df_A_before['Az'].max()\n",
    "    #L1_norm\n",
    "    if type_of_scaling_method == 3:\n",
    "        df_A_before['Ax'] = df_A_before['Ax']/np.sum(df_A_before['Ax'])\n",
    "        df_A_before['Ay'] = df_A_before['Ay']/np.sum(df_A_before['Ay'])\n",
    "        df_A_before['Az'] = df_A_before['Az']/np.sum(df_A_before['Az'])\n",
    "    \n",
    "    #Raw\n",
    "    if type_of_scaling_method == 4:\n",
    "        df_A_before = df\n",
    "\n",
    "    return df_A_before\n",
    "\n",
    "\n",
    "Z_score = 0\n",
    "Min_max_normalization = 1\n",
    "Normalisation = 2\n",
    "L1_norm = 3\n",
    "Raw = 4"
   ]
  },
  {
   "cell_type": "markdown",
   "metadata": {},
   "source": [
    "# Change Below Cell to Transform Data"
   ]
  },
  {
   "cell_type": "code",
   "execution_count": 84,
   "metadata": {},
   "outputs": [
    {
     "data": {
      "text/html": [
       "<div>\n",
       "<style scoped>\n",
       "    .dataframe tbody tr th:only-of-type {\n",
       "        vertical-align: middle;\n",
       "    }\n",
       "\n",
       "    .dataframe tbody tr th {\n",
       "        vertical-align: top;\n",
       "    }\n",
       "\n",
       "    .dataframe thead th {\n",
       "        text-align: right;\n",
       "    }\n",
       "</style>\n",
       "<table border=\"1\" class=\"dataframe\">\n",
       "  <thead>\n",
       "    <tr style=\"text-align: right;\">\n",
       "      <th></th>\n",
       "      <th>Time</th>\n",
       "      <th>Ax</th>\n",
       "      <th>Ay</th>\n",
       "      <th>Az</th>\n",
       "    </tr>\n",
       "  </thead>\n",
       "  <tbody>\n",
       "    <tr>\n",
       "      <th>0</th>\n",
       "      <td>0.010</td>\n",
       "      <td>-0.23</td>\n",
       "      <td>0.80</td>\n",
       "      <td>-0.91</td>\n",
       "    </tr>\n",
       "    <tr>\n",
       "      <th>1</th>\n",
       "      <td>0.010</td>\n",
       "      <td>-0.18</td>\n",
       "      <td>0.80</td>\n",
       "      <td>0.31</td>\n",
       "    </tr>\n",
       "    <tr>\n",
       "      <th>2</th>\n",
       "      <td>0.020</td>\n",
       "      <td>0.90</td>\n",
       "      <td>0.29</td>\n",
       "      <td>0.57</td>\n",
       "    </tr>\n",
       "    <tr>\n",
       "      <th>3</th>\n",
       "      <td>0.033</td>\n",
       "      <td>0.49</td>\n",
       "      <td>0.12</td>\n",
       "      <td>0.76</td>\n",
       "    </tr>\n",
       "    <tr>\n",
       "      <th>4</th>\n",
       "      <td>0.039</td>\n",
       "      <td>0.21</td>\n",
       "      <td>0.29</td>\n",
       "      <td>1.36</td>\n",
       "    </tr>\n",
       "  </tbody>\n",
       "</table>\n",
       "</div>"
      ],
      "text/plain": [
       "    Time    Ax    Ay    Az\n",
       "0  0.010 -0.23  0.80 -0.91\n",
       "1  0.010 -0.18  0.80  0.31\n",
       "2  0.020  0.90  0.29  0.57\n",
       "3  0.033  0.49  0.12  0.76\n",
       "4  0.039  0.21  0.29  1.36"
      ]
     },
     "execution_count": 84,
     "metadata": {},
     "output_type": "execute_result"
    }
   ],
   "source": [
    "df_A = load_data()\n",
    "df_A.head()"
   ]
  },
  {
   "cell_type": "code",
   "execution_count": 85,
   "metadata": {},
   "outputs": [
    {
     "data": {
      "text/plain": [
       "[<matplotlib.lines.Line2D at 0x1edf73a2160>]"
      ]
     },
     "execution_count": 85,
     "metadata": {},
     "output_type": "execute_result"
    },
    {
     "data": {
      "image/png": "[encoded data removed]",
      "text/plain": [
       "<Figure size 432x288 with 1 Axes>"
      ]
     },
     "metadata": {
      "needs_background": "light"
     },
     "output_type": "display_data"
    }
   ],
   "source": [
    "plt.plot(df_A['Ax'])"
   ]
  },
  {
   "cell_type": "code",
   "execution_count": 86,
   "metadata": {},
   "outputs": [
    {
     "data": {
      "text/html": [
       "<div>\n",
       "<style scoped>\n",
       "    .dataframe tbody tr th:only-of-type {\n",
       "        vertical-align: middle;\n",
       "    }\n",
       "\n",
       "    .dataframe tbody tr th {\n",
       "        vertical-align: top;\n",
       "    }\n",
       "\n",
       "    .dataframe thead th {\n",
       "        text-align: right;\n",
       "    }\n",
       "</style>\n",
       "<table border=\"1\" class=\"dataframe\">\n",
       "  <thead>\n",
       "    <tr style=\"text-align: right;\">\n",
       "      <th></th>\n",
       "      <th>Time</th>\n",
       "      <th>Ax</th>\n",
       "      <th>Ay</th>\n",
       "      <th>Az</th>\n",
       "    </tr>\n",
       "  </thead>\n",
       "  <tbody>\n",
       "    <tr>\n",
       "      <th>0</th>\n",
       "      <td>0.010</td>\n",
       "      <td>-0.23</td>\n",
       "      <td>0.80</td>\n",
       "      <td>-0.91</td>\n",
       "    </tr>\n",
       "    <tr>\n",
       "      <th>1</th>\n",
       "      <td>0.010</td>\n",
       "      <td>-0.18</td>\n",
       "      <td>0.80</td>\n",
       "      <td>0.31</td>\n",
       "    </tr>\n",
       "    <tr>\n",
       "      <th>2</th>\n",
       "      <td>0.020</td>\n",
       "      <td>0.90</td>\n",
       "      <td>0.29</td>\n",
       "      <td>0.57</td>\n",
       "    </tr>\n",
       "    <tr>\n",
       "      <th>3</th>\n",
       "      <td>0.033</td>\n",
       "      <td>0.49</td>\n",
       "      <td>0.12</td>\n",
       "      <td>0.76</td>\n",
       "    </tr>\n",
       "    <tr>\n",
       "      <th>4</th>\n",
       "      <td>0.039</td>\n",
       "      <td>0.21</td>\n",
       "      <td>0.29</td>\n",
       "      <td>1.36</td>\n",
       "    </tr>\n",
       "  </tbody>\n",
       "</table>\n",
       "</div>"
      ],
      "text/plain": [
       "    Time    Ax    Ay    Az\n",
       "0  0.010 -0.23  0.80 -0.91\n",
       "1  0.010 -0.18  0.80  0.31\n",
       "2  0.020  0.90  0.29  0.57\n",
       "3  0.033  0.49  0.12  0.76\n",
       "4  0.039  0.21  0.29  1.36"
      ]
     },
     "execution_count": 86,
     "metadata": {},
     "output_type": "execute_result"
    }
   ],
   "source": [
    "df_sig = scaling(4,df_A)\n",
    "df_sig.head()"
   ]
  },
  {
   "cell_type": "code",
   "execution_count": 87,
   "metadata": {},
   "outputs": [
    {
     "data": {
      "text/html": [
       "<div>\n",
       "<style scoped>\n",
       "    .dataframe tbody tr th:only-of-type {\n",
       "        vertical-align: middle;\n",
       "    }\n",
       "\n",
       "    .dataframe tbody tr th {\n",
       "        vertical-align: top;\n",
       "    }\n",
       "\n",
       "    .dataframe thead th {\n",
       "        text-align: right;\n",
       "    }\n",
       "</style>\n",
       "<table border=\"1\" class=\"dataframe\">\n",
       "  <thead>\n",
       "    <tr style=\"text-align: right;\">\n",
       "      <th></th>\n",
       "      <th>Ax</th>\n",
       "      <th>Ay</th>\n",
       "      <th>Az</th>\n",
       "      <th>Max</th>\n",
       "      <th>Min</th>\n",
       "      <th>Mean</th>\n",
       "      <th>Median</th>\n",
       "      <th>Std</th>\n",
       "      <th>Mad</th>\n",
       "      <th>SMV</th>\n",
       "    </tr>\n",
       "  </thead>\n",
       "  <tbody>\n",
       "    <tr>\n",
       "      <th>0</th>\n",
       "      <td>-0.23</td>\n",
       "      <td>0.80</td>\n",
       "      <td>-0.91</td>\n",
       "      <td>0.80</td>\n",
       "      <td>-0.91</td>\n",
       "      <td>-0.113333</td>\n",
       "      <td>-0.23</td>\n",
       "      <td>0.860949</td>\n",
       "      <td>0.608889</td>\n",
       "      <td>1.233288</td>\n",
       "    </tr>\n",
       "    <tr>\n",
       "      <th>1</th>\n",
       "      <td>-0.18</td>\n",
       "      <td>0.80</td>\n",
       "      <td>0.31</td>\n",
       "      <td>0.80</td>\n",
       "      <td>-0.18</td>\n",
       "      <td>0.310000</td>\n",
       "      <td>0.31</td>\n",
       "      <td>0.490000</td>\n",
       "      <td>0.326667</td>\n",
       "      <td>0.876641</td>\n",
       "    </tr>\n",
       "    <tr>\n",
       "      <th>2</th>\n",
       "      <td>0.90</td>\n",
       "      <td>0.29</td>\n",
       "      <td>0.57</td>\n",
       "      <td>0.90</td>\n",
       "      <td>0.29</td>\n",
       "      <td>0.586667</td>\n",
       "      <td>0.57</td>\n",
       "      <td>0.305341</td>\n",
       "      <td>0.208889</td>\n",
       "      <td>1.104083</td>\n",
       "    </tr>\n",
       "    <tr>\n",
       "      <th>3</th>\n",
       "      <td>0.49</td>\n",
       "      <td>0.12</td>\n",
       "      <td>0.76</td>\n",
       "      <td>0.76</td>\n",
       "      <td>0.12</td>\n",
       "      <td>0.456667</td>\n",
       "      <td>0.49</td>\n",
       "      <td>0.321299</td>\n",
       "      <td>0.224444</td>\n",
       "      <td>0.912195</td>\n",
       "    </tr>\n",
       "    <tr>\n",
       "      <th>4</th>\n",
       "      <td>0.21</td>\n",
       "      <td>0.29</td>\n",
       "      <td>1.36</td>\n",
       "      <td>1.36</td>\n",
       "      <td>0.21</td>\n",
       "      <td>0.620000</td>\n",
       "      <td>0.29</td>\n",
       "      <td>0.642106</td>\n",
       "      <td>0.493333</td>\n",
       "      <td>1.406343</td>\n",
       "    </tr>\n",
       "  </tbody>\n",
       "</table>\n",
       "</div>"
      ],
      "text/plain": [
       "     Ax    Ay    Az   Max   Min      Mean  Median       Std       Mad  \\\n",
       "0 -0.23  0.80 -0.91  0.80 -0.91 -0.113333   -0.23  0.860949  0.608889   \n",
       "1 -0.18  0.80  0.31  0.80 -0.18  0.310000    0.31  0.490000  0.326667   \n",
       "2  0.90  0.29  0.57  0.90  0.29  0.586667    0.57  0.305341  0.208889   \n",
       "3  0.49  0.12  0.76  0.76  0.12  0.456667    0.49  0.321299  0.224444   \n",
       "4  0.21  0.29  1.36  1.36  0.21  0.620000    0.29  0.642106  0.493333   \n",
       "\n",
       "        SMV  \n",
       "0  1.233288  \n",
       "1  0.876641  \n",
       "2  1.104083  \n",
       "3  0.912195  \n",
       "4  1.406343  "
      ]
     },
     "execution_count": 87,
     "metadata": {},
     "output_type": "execute_result"
    }
   ],
   "source": [
    "df_raw = df_sig[['Ax','Ay','Az']]\n",
    "\n",
    "df_max = df_raw.max(axis=1)\n",
    "df_max = pd.DataFrame(df_max,columns=['Max'])\n",
    "\n",
    "df_min = df_raw.min(axis=1)\n",
    "df_min = pd.DataFrame(df_min,columns=['Min'])\n",
    "\n",
    "df_mean = np. mean(df_raw,axis=1)\n",
    "df_mean = pd.DataFrame(df_mean,columns=['Mean'])\n",
    "\n",
    "df_median = df_raw.median(axis=1)\n",
    "df_median = pd.DataFrame(df_median,columns=['Median'])\n",
    "\n",
    "df_std = df_raw.std(axis=1)\n",
    "df_std = pd.DataFrame(df_std,columns=['Std'])\n",
    "\n",
    "df_mad = df_raw.mad(axis=1)\n",
    "df_mad = pd.DataFrame(df_mad,columns=['Mad'])\n",
    "\n",
    "df_smv = np.sqrt(df_raw['Ax']**2 + df_raw['Ay']**2 + df_raw['Az']**2 )\n",
    "df_smv = pd.DataFrame(df_smv,columns=['SMV'])\n",
    "\n",
    "\n",
    "\n",
    "df_stat = pd.concat([df_raw,df_max,df_min,df_mean,df_median,df_std,df_mad,df_smv],axis=1)\n",
    "\n",
    "df = df_stat\n",
    "df.head()"
   ]
  },
  {
   "cell_type": "code",
   "execution_count": null,
   "metadata": {},
   "outputs": [],
   "source": []
  },
  {
   "cell_type": "code",
   "execution_count": 88,
   "metadata": {},
   "outputs": [
    {
     "data": {
      "text/plain": [
       "[<matplotlib.lines.Line2D at 0x1edf7301e48>]"
      ]
     },
     "execution_count": 88,
     "metadata": {},
     "output_type": "execute_result"
    },
    {
     "data": {
      "image/png": "[encoded data removed]",
      "text/plain": [
       "<Figure size 432x288 with 1 Axes>"
      ]
     },
     "metadata": {
      "needs_background": "light"
     },
     "output_type": "display_data"
    }
   ],
   "source": [
    "plt.plot(df['SMV'])"
   ]
  },
  {
   "cell_type": "code",
   "execution_count": 89,
   "metadata": {},
   "outputs": [],
   "source": [
    "#Raw Signals\n",
    "x_out, y_out = create_segments_and_labels(df,\n",
    "                                              TIME_PERIODS,\n",
    "                                              STEP_DISTANCE,\n",
    "                                              'Ax')\n",
    "num_time_periods2, num_sensors2 = x_out.shape[1], x_out.shape[2]\n",
    "input_shape2 = (num_time_periods2*num_sensors2)\n",
    "x_out = x_out.reshape(x_out.shape[0], input_shape2)\n",
    "x_out = x_out.astype('float32')\n",
    "\n",
    "# #Stats Signals\n",
    "# x_out, y_out = create_segments_and_labels_stats(df,\n",
    "#                                               TIME_PERIODS,\n",
    "#                                               STEP_DISTANCE,\n",
    "#                                               'Ax')\n",
    "# num_time_periods2, num_sensors2 = x_out.shape[1], x_out.shape[2]\n",
    "# input_shape2 = (num_time_periods2*num_sensors2)\n",
    "# x_out = x_out.reshape(x_out.shape[0], input_shape2)\n",
    "# x_out = x_out.astype('float32')"
   ]
  },
  {
   "cell_type": "code",
   "execution_count": null,
   "metadata": {},
   "outputs": [],
   "source": []
  },
  {
   "cell_type": "markdown",
   "metadata": {},
   "source": [
    "# Loading Different Keras Models"
   ]
  },
  {
   "cell_type": "code",
   "execution_count": 90,
   "metadata": {},
   "outputs": [],
   "source": [
    "# model_XYZ = load_model(r'C:\\Users\\Ash\\Desktop\\Final Year 2nd Semester\\MRN 422\\Jupyter Notebooks\\Final\\Models\\Standardized and Normalized\\Model(XYZ).h5')\n",
    "# model_XYZ_z_score = load_model(r'C:\\Users\\Ash\\Desktop\\Final Year 2nd Semester\\MRN 422\\Jupyter Notebooks\\Final\\Models\\Standardized and Normalized\\Model(XYZ)(Z-SCORE).h5')\n",
    "# model_XYZ_min_max = load_model(r'C:\\Users\\Ash\\Desktop\\Final Year 2nd Semester\\MRN 422\\Jupyter Notebooks\\Final\\Models\\Standardized and Normalized\\Model(XYZ)(MIN-MAX).h5')\n",
    "# model_XYZ_normalisation = load_model(r'C:\\Users\\Ash\\Desktop\\Final Year 2nd Semester\\MRN 422\\Jupyter Notebooks\\Final\\Models\\Standardized and Normalized\\Model(XYZ)(NORMALISATION).h5')\n",
    "# model_XYZ_SMV_normalisation = load_model(r'C:\\Users\\Ash\\Desktop\\Final Year 2nd Semester\\MRN 422\\Jupyter Notebooks\\Final\\Models\\Standardized and Normalized\\Model(XYZ)(SMV)(NORMALISATION).h5')\n",
    "# model_XYZ_SMV_z_score = load_model(r'C:\\Users\\Ash\\Desktop\\Final Year 2nd Semester\\MRN 422\\Jupyter Notebooks\\Final\\Models\\Standardized and Normalized\\Model(XYZ)(SMV)(Z-SCORE).h5')\n",
    "# model_XYZ_SMV_z_score_SMOTE = load_model(r'C:\\Users\\Ash\\Desktop\\Final Year 2nd Semester\\MRN 422\\Jupyter Notebooks\\Final\\Models\\Standardized and Normalized\\Model(XYZ)(SMV)(Z-SCORE)(SMOTE).h5')\n",
    "# model_XYZ_normalisation_SMOTE = load_model(r'C:\\Users\\Ash\\Desktop\\Final Year 2nd Semester\\MRN 422\\Jupyter Notebooks\\Final\\Models\\Standardized and Normalized\\Model(XYZ)(NORMALISATION)(SMOTE).h5')\n",
    "# model_XYZ_LSTM = load_model(r'C:\\Users\\Ash\\Desktop\\Final Year 2nd Semester\\MRN 422\\Jupyter Notebooks\\Final\\Models\\Standardized and Normalized\\Model(XYZ)(LSTM).h5')"
   ]
  },
  {
   "cell_type": "code",
   "execution_count": 91,
   "metadata": {},
   "outputs": [],
   "source": [
    "y_pred_ROC_test = predictions(model_XYZ_LSTM)"
   ]
  },
  {
   "cell_type": "code",
   "execution_count": 92,
   "metadata": {},
   "outputs": [
    {
     "name": "stdout",
     "output_type": "stream",
     "text": [
      "Probability of a Fall: 0.0 %\n"
     ]
    }
   ],
   "source": [
    "print('Probability of a Fall:',(probability_fall(visual(y_pred_ROC_test)[0]))*100,'%')"
   ]
  },
  {
   "cell_type": "code",
   "execution_count": 93,
   "metadata": {},
   "outputs": [
    {
     "data": {
      "image/png": "[encoded data removed]",
      "text/plain": [
       "<Figure size 2880x1080 with 1 Axes>"
      ]
     },
     "metadata": {
      "needs_background": "light"
     },
     "output_type": "display_data"
    }
   ],
   "source": [
    "ylimit = 60\n",
    "\n",
    "a = int((df.shape[0])/(visual(y_pred_ROC_test)[1]))\n",
    "b = a\n",
    "\n",
    "red = 0\n",
    "blue = 1\n",
    "red_line = 'r-'\n",
    "blue_line = 'b-'\n",
    "\n",
    "steps =[]\n",
    "\n",
    "for i in range(visual(y_pred_ROC_test)[1]):\n",
    "    a = a + b\n",
    "    steps.append(a)\n",
    "    \n",
    "for i in range(len(steps)):\n",
    "    \n",
    "    plt.figure(num = 1,figsize=(40,15))\n",
    "    \n",
    "    if visual(y_pred_ROC_test)[0][i] == red:\n",
    "#         plt.title(str(visual(y_pred_ROC_test)[0][i]))\n",
    "        plt.grid('Fine')\n",
    "        plt.ylim([0,ylimit])\n",
    "        plt.plot(df['SMV'][steps[i-1]:steps[i]],red_line)\n",
    "    \n",
    "    elif visual(y_pred_ROC_test)[0][i] == blue:\n",
    "#         plt.title(str(visual(y_pred_ROC_test)[0][i]))\n",
    "        plt.grid('Fine',)\n",
    "        plt.ylim([0,ylimit])\n",
    "        plt.plot(df['SMV'][steps[i-1]:steps[i]],blue_line)"
   ]
  },
  {
   "cell_type": "code",
   "execution_count": 94,
   "metadata": {},
   "outputs": [
    {
     "name": "stdout",
     "output_type": "stream",
     "text": [
      "Predicative Array : [1 1 1 1 1 1 1 1 1 1 1 1 1 1 1 1 1 1 1 1 1 1 1 1 1 1 1 1 1 1 1 1 1 1 1 1 1\n",
      " 1 1]\n",
      "Number of Sliding Windows : 39\n",
      "Probability of a Fall: 0.0 %\n"
     ]
    }
   ],
   "source": [
    "print('Predicative Array :',visual(y_pred_ROC_test)[0])\n",
    "print('Number of Sliding Windows :',visual(y_pred_ROC_test)[1])\n",
    "print('Probability of a Fall:',(probability_fall(visual(y_pred_ROC_test)[0]))*100,'%')"
   ]
  },
  {
   "cell_type": "code",
   "execution_count": null,
   "metadata": {},
   "outputs": [],
   "source": []
  },
  {
   "cell_type": "code",
   "execution_count": null,
   "metadata": {},
   "outputs": [],
   "source": []
  },
  {
   "cell_type": "code",
   "execution_count": null,
   "metadata": {},
   "outputs": [],
   "source": []
  },
  {
   "cell_type": "code",
   "execution_count": null,
   "metadata": {},
   "outputs": [],
   "source": []
  },
  {
   "cell_type": "code",
   "execution_count": null,
   "metadata": {},
   "outputs": [],
   "source": []
  },
  {
   "cell_type": "code",
   "execution_count": null,
   "metadata": {},
   "outputs": [],
   "source": []
  },
  {
   "cell_type": "code",
   "execution_count": null,
   "metadata": {},
   "outputs": [],
   "source": []
  },
  {
   "cell_type": "code",
   "execution_count": null,
   "metadata": {},
   "outputs": [],
   "source": []
  },
  {
   "cell_type": "code",
   "execution_count": null,
   "metadata": {},
   "outputs": [],
   "source": []
  },
  {
   "cell_type": "code",
   "execution_count": null,
   "metadata": {},
   "outputs": [],
   "source": []
  },
  {
   "cell_type": "code",
   "execution_count": null,
   "metadata": {},
   "outputs": [],
   "source": []
  },
  {
   "cell_type": "code",
   "execution_count": null,
   "metadata": {},
   "outputs": [],
   "source": []
  }
 ],
 "metadata": {
  "kernelspec": {
   "display_name": "Python 3",
   "language": "python",
   "name": "python3"
  },
  "language_info": {
   "codemirror_mode": {
    "name": "ipython",
    "version": 3
   },
   "file_extension": ".py",
   "mimetype": "text/x-python",
   "name": "python",
   "nbconvert_exporter": "python",
   "pygments_lexer": "ipython3",
   "version": "3.7.3"
  }
 },
 "nbformat": 4,
 "nbformat_minor": 2
}
